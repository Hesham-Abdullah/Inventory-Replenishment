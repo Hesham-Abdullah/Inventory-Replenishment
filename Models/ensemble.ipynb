{
 "nbformat": 4,
 "nbformat_minor": 2,
 "metadata": {
  "language_info": {
   "name": "python",
   "codemirror_mode": {
    "name": "ipython",
    "version": 3
   },
   "version": "3.7.3-final"
  },
  "orig_nbformat": 2,
  "file_extension": ".py",
  "mimetype": "text/x-python",
  "name": "python",
  "npconvert_exporter": "python",
  "pygments_lexer": "ipython3",
  "version": 3,
  "kernelspec": {
   "name": "python3",
   "display_name": "Python 3"
  }
 },
 "cells": [
  {
   "cell_type": "code",
   "execution_count": 12,
   "metadata": {},
   "outputs": [],
   "source": [
    "import pandas as pd\n",
    "import numpy as np\n",
    "import matplotlib.pyplot as plt\n",
    "from sklearn.ensemble import RandomForestRegressor\n",
    "from sklearn.model_selection import train_test_split\n",
    "from sklearn.metrics import mean_absolute_error\n",
    "from sklearn.preprocessing import OneHotEncoder\n",
    "from sklearn.tree import DecisionTreeRegressor\n",
    "from sklearn.svm import SVR\n",
    "from sklearn.ensemble import AdaBoostRegressor, GradientBoostingRegressor\n",
    "import xgboost as xgb\n",
    "import pickle"
   ]
  },
  {
   "cell_type": "code",
   "execution_count": 13,
   "metadata": {},
   "outputs": [
    {
     "output_type": "execute_result",
     "data": {
      "text/plain": "                      Service Name  Count  Month  Year\n0            Anterior Chamber Wash      1      1  2016\n1                  Athens Protocol     16      1  2016\n2  Clear Lens Exchange (CLE / RLE)      1      1  2016\n3        Combined Phaco Vitrectomy     40      1  2016\n4     Combined Phacotrabeculectomy      8      1  2016",
      "text/html": "<div>\n<style scoped>\n    .dataframe tbody tr th:only-of-type {\n        vertical-align: middle;\n    }\n\n    .dataframe tbody tr th {\n        vertical-align: top;\n    }\n\n    .dataframe thead th {\n        text-align: right;\n    }\n</style>\n<table border=\"1\" class=\"dataframe\">\n  <thead>\n    <tr style=\"text-align: right;\">\n      <th></th>\n      <th>Service Name</th>\n      <th>Count</th>\n      <th>Month</th>\n      <th>Year</th>\n    </tr>\n  </thead>\n  <tbody>\n    <tr>\n      <th>0</th>\n      <td>Anterior Chamber Wash</td>\n      <td>1</td>\n      <td>1</td>\n      <td>2016</td>\n    </tr>\n    <tr>\n      <th>1</th>\n      <td>Athens Protocol</td>\n      <td>16</td>\n      <td>1</td>\n      <td>2016</td>\n    </tr>\n    <tr>\n      <th>2</th>\n      <td>Clear Lens Exchange (CLE / RLE)</td>\n      <td>1</td>\n      <td>1</td>\n      <td>2016</td>\n    </tr>\n    <tr>\n      <th>3</th>\n      <td>Combined Phaco Vitrectomy</td>\n      <td>40</td>\n      <td>1</td>\n      <td>2016</td>\n    </tr>\n    <tr>\n      <th>4</th>\n      <td>Combined Phacotrabeculectomy</td>\n      <td>8</td>\n      <td>1</td>\n      <td>2016</td>\n    </tr>\n  </tbody>\n</table>\n</div>"
     },
     "metadata": {},
     "execution_count": 13
    }
   ],
   "source": [
    "data=pd.read_csv(\"Monthly_Training_Data.csv\",usecols=[\"Service Name\",\"Month\",\"Year\",\"Count\"])\n",
    "data.head()"
   ]
  },
  {
   "cell_type": "code",
   "execution_count": 14,
   "metadata": {},
   "outputs": [],
   "source": [
    "ServiceNames = {name : idx for idx, name in enumerate(data['Service Name'].unique())}\n",
    "ServiceIndex= {idx : name for idx, name in enumerate(data['Service Name'].unique())}"
   ]
  },
  {
   "cell_type": "code",
   "execution_count": 15,
   "metadata": {},
   "outputs": [
    {
     "output_type": "execute_result",
     "data": {
      "text/plain": "   Service Name  Count  Month  Year\n0             0      1      1  2016\n1             1     16      1  2016\n2             2      1      1  2016\n3             3     40      1  2016\n4             4      8      1  2016",
      "text/html": "<div>\n<style scoped>\n    .dataframe tbody tr th:only-of-type {\n        vertical-align: middle;\n    }\n\n    .dataframe tbody tr th {\n        vertical-align: top;\n    }\n\n    .dataframe thead th {\n        text-align: right;\n    }\n</style>\n<table border=\"1\" class=\"dataframe\">\n  <thead>\n    <tr style=\"text-align: right;\">\n      <th></th>\n      <th>Service Name</th>\n      <th>Count</th>\n      <th>Month</th>\n      <th>Year</th>\n    </tr>\n  </thead>\n  <tbody>\n    <tr>\n      <th>0</th>\n      <td>0</td>\n      <td>1</td>\n      <td>1</td>\n      <td>2016</td>\n    </tr>\n    <tr>\n      <th>1</th>\n      <td>1</td>\n      <td>16</td>\n      <td>1</td>\n      <td>2016</td>\n    </tr>\n    <tr>\n      <th>2</th>\n      <td>2</td>\n      <td>1</td>\n      <td>1</td>\n      <td>2016</td>\n    </tr>\n    <tr>\n      <th>3</th>\n      <td>3</td>\n      <td>40</td>\n      <td>1</td>\n      <td>2016</td>\n    </tr>\n    <tr>\n      <th>4</th>\n      <td>4</td>\n      <td>8</td>\n      <td>1</td>\n      <td>2016</td>\n    </tr>\n  </tbody>\n</table>\n</div>"
     },
     "metadata": {},
     "execution_count": 15
    }
   ],
   "source": [
    "processed_data = data.copy()\n",
    "processed_data['Service Name']=processed_data['Service Name'].map(ServiceNames)\n",
    "processed_data.head()"
   ]
  },
  {
   "cell_type": "code",
   "execution_count": 16,
   "metadata": {},
   "outputs": [],
   "source": [
    "X=data.drop([\"Count\"],axis=1)\n",
    "y=data[\"Count\"]"
   ]
  },
  {
   "cell_type": "code",
   "execution_count": 17,
   "metadata": {},
   "outputs": [],
   "source": [
    "split_index = processed_data[(processed_data['Month'] == 6)].iloc[-1].name"
   ]
  },
  {
   "cell_type": "code",
   "execution_count": 18,
   "metadata": {},
   "outputs": [
    {
     "output_type": "execute_result",
     "data": {
      "text/plain": "((1158, 3), (234, 3), (1158,), (234,))"
     },
     "metadata": {},
     "execution_count": 18
    }
   ],
   "source": [
    "# X_train, X_test, y_train, y_test=train_test_split(X,y,test_size=0.2,random_state=42)\n",
    "\n",
    "X_train = processed_data.iloc[:split_index].drop('Count', axis=1)\n",
    "X_test = processed_data.iloc[split_index:].drop('Count', axis=1)\n",
    "\n",
    "y_train = processed_data.iloc[:split_index]['Count']\n",
    "y_test = processed_data.iloc[split_index:]['Count']\n",
    "\n",
    "X_train.shape, X_test.shape, y_train.shape, y_test.shape\n",
    ""
   ]
  },
  {
   "cell_type": "code",
   "execution_count": 19,
   "metadata": {},
   "outputs": [],
   "source": [
    "def mean_absolute_percentage_error(y_true, y_pred): \n",
    "    y_true, y_pred = np.array(y_true), np.array(y_pred)\n",
    "    return np.mean(np.abs((y_true - y_pred) / y_true)) * 100"
   ]
  },
  {
   "cell_type": "code",
   "execution_count": 20,
   "metadata": {},
   "outputs": [],
   "source": [
    "def prediction_cases(regressor):\n",
    "     month_ahead = processed_data[(processed_data['Year'] == 2018) & (processed_data['Month'] == 7)]\n",
    "     \n",
    "     quarter_year = processed_data[(processed_data['Year'] == 2018) & (processed_data['Month'] >= 9)]\n",
    "     \n",
    "     half_year = processed_data[(processed_data['Year'] == 2018) & (processed_data['Month'] >= 7)]\n",
    "\n",
    "     month_ahead_pred = regressor.predict(month_ahead.drop('Count', axis=1))\n",
    "     quarter_year_pred = regressor.predict(quarter_year.drop('Count', axis=1))\n",
    "     half_year_pred = regressor.predict(half_year.drop('Count', axis=1))\n",
    "     \n",
    "     err = mean_absolute_error(month_ahead['Count'], month_ahead_pred)\n",
    "     month_MAPE = mean_absolute_percentage_error(month_ahead['Count'], month_ahead_pred)\n",
    "     quarter_year_MAPE = mean_absolute_percentage_error( quarter_year['Count'], quarter_year_pred)\n",
    "     half_year_MAPE = mean_absolute_percentage_error(half_year['Count'], half_year_pred) \n",
    "\n",
    "     return err,month_MAPE, quarter_year_MAPE, half_year_MAPE"
   ]
  },
  {
   "cell_type": "code",
   "execution_count": 21,
   "metadata": {},
   "outputs": [],
   "source": [
    "def perform_regression(regressor):\n",
    "    # regressor = DecisionTreeRegressor(random_state=0)\n",
    "    regressor.fit(X_train, y_train)\n",
    "    # y_pred = regressor.predict(X_test)\n",
    "    # print(f'Total MAE {mean_absolute_percentage_error(y_pred, y_test)}')\n",
    "    err,month_MAPE ,quarter_year_MAPE, half_year_MAPE = prediction_cases(regressor)\n",
    "\n",
    "    print(f'1 month predection MAE {err}')\n",
    "    print(f'1 month predection MAPE {month_MAPE}')\n",
    "    print(f'Last quarter year MAPE {quarter_year_MAPE}')\n",
    "    print(f'half year MAPE {half_year_MAPE}')"
   ]
  },
  {
   "cell_type": "code",
   "execution_count": 22,
   "metadata": {},
   "outputs": [
    {
     "output_type": "stream",
     "name": "stdout",
     "text": "1 month predection MAE 12.616720472808476\n1 month predection MAPE 65.28717760323758\nLast quarter year MAPE 68.6403748200217\nhalf year MAPE 69.63421056416956\n"
    }
   ],
   "source": [
    "gbc=GradientBoostingRegressor(n_estimators=500,max_depth=8,min_samples_split=2,loss=\"ls\",random_state=7)\n",
    "perform_regression(gbc)"
   ]
  },
  {
   "cell_type": "code",
   "execution_count": null,
   "metadata": {},
   "outputs": [],
   "source": []
  },
  {
   "cell_type": "code",
   "execution_count": null,
   "metadata": {},
   "outputs": [],
   "source": []
  },
  {
   "cell_type": "code",
   "execution_count": null,
   "metadata": {},
   "outputs": [],
   "source": []
  },
  {
   "cell_type": "code",
   "execution_count": null,
   "metadata": {},
   "outputs": [],
   "source": []
  },
  {
   "cell_type": "code",
   "execution_count": null,
   "metadata": {},
   "outputs": [],
   "source": []
  },
  {
   "cell_type": "code",
   "execution_count": null,
   "metadata": {},
   "outputs": [],
   "source": []
  }
 ]
}