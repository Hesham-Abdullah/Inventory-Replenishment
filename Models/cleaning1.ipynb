{
 "nbformat": 4,
 "nbformat_minor": 2,
 "metadata": {
  "language_info": {
   "name": "python",
   "codemirror_mode": {
    "name": "ipython",
    "version": 3
   },
   "version": "3.7.3-final"
  },
  "orig_nbformat": 2,
  "file_extension": ".py",
  "mimetype": "text/x-python",
  "name": "python",
  "npconvert_exporter": "python",
  "pygments_lexer": "ipython3",
  "version": 3,
  "kernelspec": {
   "name": "python3",
   "display_name": "Python 3"
  }
 },
 "cells": [
  {
   "cell_type": "code",
   "execution_count": 1,
   "metadata": {},
   "outputs": [],
   "source": [
    "import pandas as pd\n",
    "import numpy as np\n",
    "import matplotlib.pyplot as plt\n",
    "import datetime"
   ]
  },
  {
   "cell_type": "code",
   "execution_count": 2,
   "metadata": {},
   "outputs": [],
   "source": [
    "top_services = ['فاكو + زرع عدسه', 'فيمتو ليزك', 'حقن لوسينتوس', 'LASIK',\n",
    "       'حقن إيليا', 'فاكو + جسم زجاجى', 'PRK', 'فاكو + حقن لوسنتس',\n",
    "       'زرع عدسه', 'ازالة جسم زجاجي', 'تثبيت قرنية + PRK', 'ترقيع قرنيه ',\n",
    "       'ازاله سيليكون ', 'حلقات', 'فحص تحت مخدر ', 'فيمتو كتاركت', 'حول ',\n",
    "       'كتاركتا عادية وزرع', 'فك غرز', 'تثبيت قرنيه']"
   ]
  },
  {
   "cell_type": "code",
   "execution_count": 3,
   "metadata": {},
   "outputs": [],
   "source": [
    "# prices = pd.read_excel('110619-_POC3_Prices_Annualy__Key_.xlsx')#, encoding='utf-8-sig')\n",
    "# invCount = pd.read_excel('22052019-_POC3_Inventory_Count.xlsx')#, encoding='utf-8-sig')\n",
    "# consumption = pd.read_excel('POC3_Consumption_Rates.xlsx')#, encoding='utf-8-sig')\n",
    "operations = pd.read_excel('210919- POC2 (Com Name).xlsx')#, encodingServiceDate='uService Namet-sig')"
   ]
  },
  {
   "cell_type": "code",
   "execution_count": 4,
   "metadata": {},
   "outputs": [
    {
     "output_type": "execute_result",
     "data": {
      "text/plain": "   PatientId         ServiceDate                     Service Name  DrId  \\\n0        167 2016-04-16 10:12:41  Phacoemulsification (Phaco+IOL)   207   \n1        167 2016-04-16 10:19:49   Internal Medicine Clinic + ECG  2300   \n2        167 2016-04-16 10:31:25                         Biometry   255   \n3        412 2016-08-16 16:11:06     Fluorescein Angiography (FA)   167   \n4        412 2016-08-16 16:12:20                     OCT (Macula)   205   \n\n   HasInsuranceStatement  Name BookingDate Diagnosis  ServiceTypeId  \\\n0                    0.0  Visa         NaT       NaN              3   \n1                    0.0  Visa         NaT       NaN              1   \n2                    0.0  Visa         NaT       NaN              4   \n3                    NaN  Cash         NaT       NaN              4   \n4                    NaN  Cash         NaT       NaN              4   \n\n                   Comm. Name               Comm. Name_AR  \n0             فاكو + زرع عدسه             فاكو + زرع عدسه  \n1         كشف باطنى + رسم قلب         كشف باطنى + رسم قلب  \n2                    Biometry                 مقاس العدسة  \n3  تصوير قاع العين بالفلورسين  تصوير قاع العين بالفلورسين  \n4                OCT (Macula)     تصوير مقطعي علي الشبكية  ",
      "text/html": "<div>\n<style scoped>\n    .dataframe tbody tr th:only-of-type {\n        vertical-align: middle;\n    }\n\n    .dataframe tbody tr th {\n        vertical-align: top;\n    }\n\n    .dataframe thead th {\n        text-align: right;\n    }\n</style>\n<table border=\"1\" class=\"dataframe\">\n  <thead>\n    <tr style=\"text-align: right;\">\n      <th></th>\n      <th>PatientId</th>\n      <th>ServiceDate</th>\n      <th>Service Name</th>\n      <th>DrId</th>\n      <th>HasInsuranceStatement</th>\n      <th>Name</th>\n      <th>BookingDate</th>\n      <th>Diagnosis</th>\n      <th>ServiceTypeId</th>\n      <th>Comm. Name</th>\n      <th>Comm. Name_AR</th>\n    </tr>\n  </thead>\n  <tbody>\n    <tr>\n      <th>0</th>\n      <td>167</td>\n      <td>2016-04-16 10:12:41</td>\n      <td>Phacoemulsification (Phaco+IOL)</td>\n      <td>207</td>\n      <td>0.0</td>\n      <td>Visa</td>\n      <td>NaT</td>\n      <td>NaN</td>\n      <td>3</td>\n      <td>فاكو + زرع عدسه</td>\n      <td>فاكو + زرع عدسه</td>\n    </tr>\n    <tr>\n      <th>1</th>\n      <td>167</td>\n      <td>2016-04-16 10:19:49</td>\n      <td>Internal Medicine Clinic + ECG</td>\n      <td>2300</td>\n      <td>0.0</td>\n      <td>Visa</td>\n      <td>NaT</td>\n      <td>NaN</td>\n      <td>1</td>\n      <td>كشف باطنى + رسم قلب</td>\n      <td>كشف باطنى + رسم قلب</td>\n    </tr>\n    <tr>\n      <th>2</th>\n      <td>167</td>\n      <td>2016-04-16 10:31:25</td>\n      <td>Biometry</td>\n      <td>255</td>\n      <td>0.0</td>\n      <td>Visa</td>\n      <td>NaT</td>\n      <td>NaN</td>\n      <td>4</td>\n      <td>Biometry</td>\n      <td>مقاس العدسة</td>\n    </tr>\n    <tr>\n      <th>3</th>\n      <td>412</td>\n      <td>2016-08-16 16:11:06</td>\n      <td>Fluorescein Angiography (FA)</td>\n      <td>167</td>\n      <td>NaN</td>\n      <td>Cash</td>\n      <td>NaT</td>\n      <td>NaN</td>\n      <td>4</td>\n      <td>تصوير قاع العين بالفلورسين</td>\n      <td>تصوير قاع العين بالفلورسين</td>\n    </tr>\n    <tr>\n      <th>4</th>\n      <td>412</td>\n      <td>2016-08-16 16:12:20</td>\n      <td>OCT (Macula)</td>\n      <td>205</td>\n      <td>NaN</td>\n      <td>Cash</td>\n      <td>NaT</td>\n      <td>NaN</td>\n      <td>4</td>\n      <td>OCT (Macula)</td>\n      <td>تصوير مقطعي علي الشبكية</td>\n    </tr>\n  </tbody>\n</table>\n</div>"
     },
     "metadata": {},
     "execution_count": 4
    }
   ],
   "source": [
    "operations.head()"
   ]
  },
  {
   "cell_type": "code",
   "execution_count": 5,
   "metadata": {},
   "outputs": [
    {
     "output_type": "execute_result",
     "data": {
      "text/plain": "PatientId                         int64\nServiceDate              datetime64[ns]\nService Name                     object\nDrId                              int64\nHasInsuranceStatement           float64\nName                             object\nBookingDate              datetime64[ns]\nDiagnosis                        object\nServiceTypeId                     int64\nComm. Name                       object\nComm. Name_AR                    object\ndtype: object"
     },
     "metadata": {},
     "execution_count": 5
    }
   ],
   "source": [
    "operations['ServiceDate'] = pd.to_datetime(operations['ServiceDate'])\n",
    "operations.dtypes"
   ]
  },
  {
   "cell_type": "code",
   "execution_count": 6,
   "metadata": {},
   "outputs": [],
   "source": [
    "operations.drop_duplicates(inplace=True)"
   ]
  },
  {
   "cell_type": "code",
   "execution_count": 7,
   "metadata": {},
   "outputs": [
    {
     "output_type": "execute_result",
     "data": {
      "text/plain": "574895"
     },
     "metadata": {},
     "execution_count": 7
    }
   ],
   "source": [
    "len(operations)"
   ]
  },
  {
   "cell_type": "code",
   "execution_count": 8,
   "metadata": {},
   "outputs": [
    {
     "output_type": "execute_result",
     "data": {
      "text/plain": "82139"
     },
     "metadata": {},
     "execution_count": 8
    }
   ],
   "source": [
    "operations = operations[operations['Comm. Name_AR'].isin(top_services)]\n",
    "len(operations)"
   ]
  },
  {
   "cell_type": "code",
   "execution_count": 9,
   "metadata": {},
   "outputs": [
    {
     "output_type": "execute_result",
     "data": {
      "text/plain": "           ServiceDate                     Service Name\n0  2016-04-16 10:12:41  Phacoemulsification (Phaco+IOL)\n5  2016-08-21 10:24:34  Intravitreal Lucentis Injection\n6  2016-09-20 09:24:41  Intravitreal Lucentis Injection\n7  2016-10-18 10:48:20  Intravitreal Lucentis Injection\n10 2016-03-19 09:41:37  Phacoemulsification (Phaco+IOL)",
      "text/html": "<div>\n<style scoped>\n    .dataframe tbody tr th:only-of-type {\n        vertical-align: middle;\n    }\n\n    .dataframe tbody tr th {\n        vertical-align: top;\n    }\n\n    .dataframe thead th {\n        text-align: right;\n    }\n</style>\n<table border=\"1\" class=\"dataframe\">\n  <thead>\n    <tr style=\"text-align: right;\">\n      <th></th>\n      <th>ServiceDate</th>\n      <th>Service Name</th>\n    </tr>\n  </thead>\n  <tbody>\n    <tr>\n      <th>0</th>\n      <td>2016-04-16 10:12:41</td>\n      <td>Phacoemulsification (Phaco+IOL)</td>\n    </tr>\n    <tr>\n      <th>5</th>\n      <td>2016-08-21 10:24:34</td>\n      <td>Intravitreal Lucentis Injection</td>\n    </tr>\n    <tr>\n      <th>6</th>\n      <td>2016-09-20 09:24:41</td>\n      <td>Intravitreal Lucentis Injection</td>\n    </tr>\n    <tr>\n      <th>7</th>\n      <td>2016-10-18 10:48:20</td>\n      <td>Intravitreal Lucentis Injection</td>\n    </tr>\n    <tr>\n      <th>10</th>\n      <td>2016-03-19 09:41:37</td>\n      <td>Phacoemulsification (Phaco+IOL)</td>\n    </tr>\n  </tbody>\n</table>\n</div>"
     },
     "metadata": {},
     "execution_count": 9
    }
   ],
   "source": [
    "operation_dates = operations.drop(['PatientId','DrId','HasInsuranceStatement','BookingDate','Diagnosis','ServiceTypeId', 'Comm. Name', 'Comm. Name_AR','Name'], axis=1)\n",
    "operation_dates.head()"
   ]
  },
  {
   "cell_type": "code",
   "execution_count": 53,
   "metadata": {},
   "outputs": [
    {
     "output_type": "execute_result",
     "data": {
      "text/plain": "    PatientId         ServiceDate                     Service Name  DrId  \\\n0         167 2016-04-16 10:12:41  Phacoemulsification (Phaco+IOL)   207   \n5         412 2016-08-21 10:24:34  Intravitreal Lucentis Injection   265   \n6         412 2016-09-20 09:24:41  Intravitreal Lucentis Injection   265   \n7         412 2016-10-18 10:48:20  Intravitreal Lucentis Injection   265   \n10        706 2016-03-19 09:41:37  Phacoemulsification (Phaco+IOL)     3   \n\n    HasInsuranceStatement  Name BookingDate Diagnosis  ServiceTypeId  \\\n0                     0.0  Visa         NaT       NaN              3   \n5                     0.0  Cash         NaT       NaN              3   \n6                     0.0  Cash         NaT       NaN              3   \n7                     0.0  Cash         NaT       NaN              3   \n10                    0.0  Cash         NaT       NaN              3   \n\n         Comm. Name    Comm. Name_AR  \n0   فاكو + زرع عدسه  فاكو + زرع عدسه  \n5      حقن لوسينتوس     حقن لوسينتوس  \n6      حقن لوسينتوس     حقن لوسينتوس  \n7      حقن لوسينتوس     حقن لوسينتوس  \n10  فاكو + زرع عدسه  فاكو + زرع عدسه  ",
      "text/html": "<div>\n<style scoped>\n    .dataframe tbody tr th:only-of-type {\n        vertical-align: middle;\n    }\n\n    .dataframe tbody tr th {\n        vertical-align: top;\n    }\n\n    .dataframe thead th {\n        text-align: right;\n    }\n</style>\n<table border=\"1\" class=\"dataframe\">\n  <thead>\n    <tr style=\"text-align: right;\">\n      <th></th>\n      <th>PatientId</th>\n      <th>ServiceDate</th>\n      <th>Service Name</th>\n      <th>DrId</th>\n      <th>HasInsuranceStatement</th>\n      <th>Name</th>\n      <th>BookingDate</th>\n      <th>Diagnosis</th>\n      <th>ServiceTypeId</th>\n      <th>Comm. Name</th>\n      <th>Comm. Name_AR</th>\n    </tr>\n  </thead>\n  <tbody>\n    <tr>\n      <th>0</th>\n      <td>167</td>\n      <td>2016-04-16 10:12:41</td>\n      <td>Phacoemulsification (Phaco+IOL)</td>\n      <td>207</td>\n      <td>0.0</td>\n      <td>Visa</td>\n      <td>NaT</td>\n      <td>NaN</td>\n      <td>3</td>\n      <td>فاكو + زرع عدسه</td>\n      <td>فاكو + زرع عدسه</td>\n    </tr>\n    <tr>\n      <th>5</th>\n      <td>412</td>\n      <td>2016-08-21 10:24:34</td>\n      <td>Intravitreal Lucentis Injection</td>\n      <td>265</td>\n      <td>0.0</td>\n      <td>Cash</td>\n      <td>NaT</td>\n      <td>NaN</td>\n      <td>3</td>\n      <td>حقن لوسينتوس</td>\n      <td>حقن لوسينتوس</td>\n    </tr>\n    <tr>\n      <th>6</th>\n      <td>412</td>\n      <td>2016-09-20 09:24:41</td>\n      <td>Intravitreal Lucentis Injection</td>\n      <td>265</td>\n      <td>0.0</td>\n      <td>Cash</td>\n      <td>NaT</td>\n      <td>NaN</td>\n      <td>3</td>\n      <td>حقن لوسينتوس</td>\n      <td>حقن لوسينتوس</td>\n    </tr>\n    <tr>\n      <th>7</th>\n      <td>412</td>\n      <td>2016-10-18 10:48:20</td>\n      <td>Intravitreal Lucentis Injection</td>\n      <td>265</td>\n      <td>0.0</td>\n      <td>Cash</td>\n      <td>NaT</td>\n      <td>NaN</td>\n      <td>3</td>\n      <td>حقن لوسينتوس</td>\n      <td>حقن لوسينتوس</td>\n    </tr>\n    <tr>\n      <th>10</th>\n      <td>706</td>\n      <td>2016-03-19 09:41:37</td>\n      <td>Phacoemulsification (Phaco+IOL)</td>\n      <td>3</td>\n      <td>0.0</td>\n      <td>Cash</td>\n      <td>NaT</td>\n      <td>NaN</td>\n      <td>3</td>\n      <td>فاكو + زرع عدسه</td>\n      <td>فاكو + زرع عدسه</td>\n    </tr>\n  </tbody>\n</table>\n</div>"
     },
     "metadata": {},
     "execution_count": 53
    }
   ],
   "source": [
    "raw_operations = operations.copy()\n",
    "raw_operations.head()"
   ]
  },
  {
   "cell_type": "markdown",
   "metadata": {},
   "source": [
    "* Getting the \"Unknown Medical Name\" operations category real names "
   ]
  },
  {
   "cell_type": "code",
   "execution_count": 55,
   "metadata": {},
   "outputs": [],
   "source": [
    "null_op=operations[operations[\"Service Name\"]==\"(Unknown Medical Name)\"]\n",
    "\n",
    "rename_op=null_op[\"Comm. Name_AR\"].unique().tolist()\n",
    "\n",
    "op=operations[(operations[\"Service Name\"]!=\"(Unknown Medical Name)\") & (operations[\"Comm. Name_AR\"].isin(rename_op))]\n",
    "\n",
    "renamed_op=operations.copy()\n",
    "\n",
    "\n",
    ""
   ]
  },
  {
   "cell_type": "markdown",
   "metadata": {},
   "source": [
    "* AR/EN dictionary of missing names "
   ]
  },
  {
   "cell_type": "code",
   "execution_count": 56,
   "metadata": {},
   "outputs": [
    {
     "output_type": "execute_result",
     "data": {
      "text/plain": "dict_keys(['فاكو + زرع عدسه', 'حقن لوسينتوس', 'ترقيع قرنيه ', 'فيمتو ليزك', 'زرع عدسه', 'فاكو + جسم زجاجى', 'حقن إيليا', 'ازالة جسم زجاجي', 'تثبيت قرنيه', 'PRK', 'فك غرز', 'حلقات', 'فيمتو كتاركت', 'فحص تحت مخدر '])"
     },
     "metadata": {},
     "execution_count": 56
    }
   ],
   "source": [
    "names_en_ar={en_name:ar_name for en_name,ar_name in zip(op[\"Service Name\"],op[\"Comm. Name_AR\"]) }\n",
    "names_ar_en={ar_name:en_name for ar_name,en_name in zip(op[\"Comm. Name_AR\"],op[\"Service Name\"]) }\n",
    "names_ar_en.keys()\n",
    ""
   ]
  },
  {
   "cell_type": "markdown",
   "metadata": {},
   "source": [
    "* Renaming the null operations "
   ]
  },
  {
   "cell_type": "code",
   "execution_count": 57,
   "metadata": {
    "tags": [
     "outputPrepend",
     "outputPrepend",
     "outputPrepend",
     "outputPrepend"
    ]
   },
   "outputs": [],
   "source": [
    "for inedx,row in renamed_op.iterrows():\n",
    "    if row[\"Service Name\"]==\"(Unknown Medical Name)\":\n",
    "        renamed_op.at[inedx,\"Service Name\"]=names_ar_en[row[\"Comm. Name_AR\"]]\n",
    "    # row[\"Service Name\"].replace(names_ar_en[row[\"Comm. Name_AR\"]])\n",
    "\n",
    "\n",
    ""
   ]
  },
  {
   "cell_type": "code",
   "execution_count": 59,
   "metadata": {},
   "outputs": [],
   "source": [
    "renamed_op.to_csv(\"filtered_operations.csv\",encoding='utf-8-sig')"
   ]
  },
  {
   "cell_type": "code",
   "execution_count": 68,
   "metadata": {},
   "outputs": [],
   "source": [
    "renamed_op.ServiceDate = renamed_op.ServiceDate.dt.to_period('M')"
   ]
  },
  {
   "cell_type": "code",
   "execution_count": 69,
   "metadata": {},
   "outputs": [
    {
     "output_type": "execute_result",
     "data": {
      "text/plain": "    PatientId ServiceDate                     Service Name  DrId  \\\n0         167     2016-04  Phacoemulsification (Phaco+IOL)   207   \n5         412     2016-08  Intravitreal Lucentis Injection   265   \n6         412     2016-09  Intravitreal Lucentis Injection   265   \n7         412     2016-10  Intravitreal Lucentis Injection   265   \n10        706     2016-03  Phacoemulsification (Phaco+IOL)     3   \n\n    HasInsuranceStatement  Name BookingDate Diagnosis  ServiceTypeId  \\\n0                     0.0  Visa         NaT       NaN              3   \n5                     0.0  Cash         NaT       NaN              3   \n6                     0.0  Cash         NaT       NaN              3   \n7                     0.0  Cash         NaT       NaN              3   \n10                    0.0  Cash         NaT       NaN              3   \n\n         Comm. Name    Comm. Name_AR  \n0   فاكو + زرع عدسه  فاكو + زرع عدسه  \n5      حقن لوسينتوس     حقن لوسينتوس  \n6      حقن لوسينتوس     حقن لوسينتوس  \n7      حقن لوسينتوس     حقن لوسينتوس  \n10  فاكو + زرع عدسه  فاكو + زرع عدسه  ",
      "text/html": "<div>\n<style scoped>\n    .dataframe tbody tr th:only-of-type {\n        vertical-align: middle;\n    }\n\n    .dataframe tbody tr th {\n        vertical-align: top;\n    }\n\n    .dataframe thead th {\n        text-align: right;\n    }\n</style>\n<table border=\"1\" class=\"dataframe\">\n  <thead>\n    <tr style=\"text-align: right;\">\n      <th></th>\n      <th>PatientId</th>\n      <th>ServiceDate</th>\n      <th>Service Name</th>\n      <th>DrId</th>\n      <th>HasInsuranceStatement</th>\n      <th>Name</th>\n      <th>BookingDate</th>\n      <th>Diagnosis</th>\n      <th>ServiceTypeId</th>\n      <th>Comm. Name</th>\n      <th>Comm. Name_AR</th>\n    </tr>\n  </thead>\n  <tbody>\n    <tr>\n      <th>0</th>\n      <td>167</td>\n      <td>2016-04</td>\n      <td>Phacoemulsification (Phaco+IOL)</td>\n      <td>207</td>\n      <td>0.0</td>\n      <td>Visa</td>\n      <td>NaT</td>\n      <td>NaN</td>\n      <td>3</td>\n      <td>فاكو + زرع عدسه</td>\n      <td>فاكو + زرع عدسه</td>\n    </tr>\n    <tr>\n      <th>5</th>\n      <td>412</td>\n      <td>2016-08</td>\n      <td>Intravitreal Lucentis Injection</td>\n      <td>265</td>\n      <td>0.0</td>\n      <td>Cash</td>\n      <td>NaT</td>\n      <td>NaN</td>\n      <td>3</td>\n      <td>حقن لوسينتوس</td>\n      <td>حقن لوسينتوس</td>\n    </tr>\n    <tr>\n      <th>6</th>\n      <td>412</td>\n      <td>2016-09</td>\n      <td>Intravitreal Lucentis Injection</td>\n      <td>265</td>\n      <td>0.0</td>\n      <td>Cash</td>\n      <td>NaT</td>\n      <td>NaN</td>\n      <td>3</td>\n      <td>حقن لوسينتوس</td>\n      <td>حقن لوسينتوس</td>\n    </tr>\n    <tr>\n      <th>7</th>\n      <td>412</td>\n      <td>2016-10</td>\n      <td>Intravitreal Lucentis Injection</td>\n      <td>265</td>\n      <td>0.0</td>\n      <td>Cash</td>\n      <td>NaT</td>\n      <td>NaN</td>\n      <td>3</td>\n      <td>حقن لوسينتوس</td>\n      <td>حقن لوسينتوس</td>\n    </tr>\n    <tr>\n      <th>10</th>\n      <td>706</td>\n      <td>2016-03</td>\n      <td>Phacoemulsification (Phaco+IOL)</td>\n      <td>3</td>\n      <td>0.0</td>\n      <td>Cash</td>\n      <td>NaT</td>\n      <td>NaN</td>\n      <td>3</td>\n      <td>فاكو + زرع عدسه</td>\n      <td>فاكو + زرع عدسه</td>\n    </tr>\n  </tbody>\n</table>\n</div>"
     },
     "metadata": {},
     "execution_count": 69
    }
   ],
   "source": [
    "renamed_op.head()"
   ]
  },
  {
   "cell_type": "code",
   "execution_count": 70,
   "metadata": {},
   "outputs": [
    {
     "output_type": "execute_result",
     "data": {
      "text/plain": "                                                         0\nServiceDate Service Name                                  \n2016-01     Athens Protocol                             16\n            Clear Lens Exchange (CLE / RLE)              1\n            Combined Phaco Vitrectomy                   40\n            Corneal Cross Linking (CXL)                 15\n            Deep Anterior Lamellar Keratoplasty (DALK)   2",
      "text/html": "<div>\n<style scoped>\n    .dataframe tbody tr th:only-of-type {\n        vertical-align: middle;\n    }\n\n    .dataframe tbody tr th {\n        vertical-align: top;\n    }\n\n    .dataframe thead th {\n        text-align: right;\n    }\n</style>\n<table border=\"1\" class=\"dataframe\">\n  <thead>\n    <tr style=\"text-align: right;\">\n      <th></th>\n      <th></th>\n      <th>0</th>\n    </tr>\n    <tr>\n      <th>ServiceDate</th>\n      <th>Service Name</th>\n      <th></th>\n    </tr>\n  </thead>\n  <tbody>\n    <tr>\n      <th rowspan=\"5\" valign=\"top\">2016-01</th>\n      <th>Athens Protocol</th>\n      <td>16</td>\n    </tr>\n    <tr>\n      <th>Clear Lens Exchange (CLE / RLE)</th>\n      <td>1</td>\n    </tr>\n    <tr>\n      <th>Combined Phaco Vitrectomy</th>\n      <td>40</td>\n    </tr>\n    <tr>\n      <th>Corneal Cross Linking (CXL)</th>\n      <td>15</td>\n    </tr>\n    <tr>\n      <th>Deep Anterior Lamellar Keratoplasty (DALK)</th>\n      <td>2</td>\n    </tr>\n  </tbody>\n</table>\n</div>"
     },
     "metadata": {},
     "execution_count": 70
    }
   ],
   "source": [
    "grouped = pd.DataFrame(renamed_op.groupby(['ServiceDate', 'Service Name'], as_index=False).size())\n",
    "grouped.head()"
   ]
  },
  {
   "cell_type": "code",
   "execution_count": 71,
   "metadata": {},
   "outputs": [
    {
     "output_type": "execute_result",
     "data": {
      "text/plain": "                                                        Count\nServiceDate Service Name                                     \n2016-01     Athens Protocol                                16\n            Clear Lens Exchange (CLE / RLE)                 1\n            Combined Phaco Vitrectomy                      40\n            Corneal Cross Linking (CXL)                    15\n            Deep Anterior Lamellar Keratoplasty (DALK)      2",
      "text/html": "<div>\n<style scoped>\n    .dataframe tbody tr th:only-of-type {\n        vertical-align: middle;\n    }\n\n    .dataframe tbody tr th {\n        vertical-align: top;\n    }\n\n    .dataframe thead th {\n        text-align: right;\n    }\n</style>\n<table border=\"1\" class=\"dataframe\">\n  <thead>\n    <tr style=\"text-align: right;\">\n      <th></th>\n      <th></th>\n      <th>Count</th>\n    </tr>\n    <tr>\n      <th>ServiceDate</th>\n      <th>Service Name</th>\n      <th></th>\n    </tr>\n  </thead>\n  <tbody>\n    <tr>\n      <th rowspan=\"5\" valign=\"top\">2016-01</th>\n      <th>Athens Protocol</th>\n      <td>16</td>\n    </tr>\n    <tr>\n      <th>Clear Lens Exchange (CLE / RLE)</th>\n      <td>1</td>\n    </tr>\n    <tr>\n      <th>Combined Phaco Vitrectomy</th>\n      <td>40</td>\n    </tr>\n    <tr>\n      <th>Corneal Cross Linking (CXL)</th>\n      <td>15</td>\n    </tr>\n    <tr>\n      <th>Deep Anterior Lamellar Keratoplasty (DALK)</th>\n      <td>2</td>\n    </tr>\n  </tbody>\n</table>\n</div>"
     },
     "metadata": {},
     "execution_count": 71
    }
   ],
   "source": [
    "grouped.rename(columns={0:'Count'}, inplace=True)\n",
    "grouped.head()"
   ]
  },
  {
   "cell_type": "code",
   "execution_count": 72,
   "metadata": {},
   "outputs": [
    {
     "output_type": "execute_result",
     "data": {
      "text/plain": "  ServiceDate                                Service Name  Count\n0     2016-01                             Athens Protocol     16\n1     2016-01             Clear Lens Exchange (CLE / RLE)      1\n2     2016-01                   Combined Phaco Vitrectomy     40\n3     2016-01                 Corneal Cross Linking (CXL)     15\n4     2016-01  Deep Anterior Lamellar Keratoplasty (DALK)      2",
      "text/html": "<div>\n<style scoped>\n    .dataframe tbody tr th:only-of-type {\n        vertical-align: middle;\n    }\n\n    .dataframe tbody tr th {\n        vertical-align: top;\n    }\n\n    .dataframe thead th {\n        text-align: right;\n    }\n</style>\n<table border=\"1\" class=\"dataframe\">\n  <thead>\n    <tr style=\"text-align: right;\">\n      <th></th>\n      <th>ServiceDate</th>\n      <th>Service Name</th>\n      <th>Count</th>\n    </tr>\n  </thead>\n  <tbody>\n    <tr>\n      <th>0</th>\n      <td>2016-01</td>\n      <td>Athens Protocol</td>\n      <td>16</td>\n    </tr>\n    <tr>\n      <th>1</th>\n      <td>2016-01</td>\n      <td>Clear Lens Exchange (CLE / RLE)</td>\n      <td>1</td>\n    </tr>\n    <tr>\n      <th>2</th>\n      <td>2016-01</td>\n      <td>Combined Phaco Vitrectomy</td>\n      <td>40</td>\n    </tr>\n    <tr>\n      <th>3</th>\n      <td>2016-01</td>\n      <td>Corneal Cross Linking (CXL)</td>\n      <td>15</td>\n    </tr>\n    <tr>\n      <th>4</th>\n      <td>2016-01</td>\n      <td>Deep Anterior Lamellar Keratoplasty (DALK)</td>\n      <td>2</td>\n    </tr>\n  </tbody>\n</table>\n</div>"
     },
     "metadata": {},
     "execution_count": 72
    }
   ],
   "source": [
    "grouped = grouped.reset_index()\n",
    "grouped.head()"
   ]
  },
  {
   "cell_type": "code",
   "execution_count": 73,
   "metadata": {},
   "outputs": [],
   "source": [
    "day_dict={0:\"Monday\",1:\"Tuesday\",2:\"Wednesday\",3:\"Thursday\",4:\"Friday\",5:\"Saturday\",6:\"Sunday\"}"
   ]
  },
  {
   "cell_type": "code",
   "execution_count": 74,
   "metadata": {},
   "outputs": [
    {
     "output_type": "execute_result",
     "data": {
      "text/plain": "  ServiceDate                                Service Name  Count WeekDay  \\\n0     2016-01                             Athens Protocol     16  Sunday   \n1     2016-01             Clear Lens Exchange (CLE / RLE)      1  Sunday   \n2     2016-01                   Combined Phaco Vitrectomy     40  Sunday   \n3     2016-01                 Corneal Cross Linking (CXL)     15  Sunday   \n4     2016-01  Deep Anterior Lamellar Keratoplasty (DALK)      2  Sunday   \n\n   DayMonth  Month  Year  \n0        31      1  2016  \n1        31      1  2016  \n2        31      1  2016  \n3        31      1  2016  \n4        31      1  2016  ",
      "text/html": "<div>\n<style scoped>\n    .dataframe tbody tr th:only-of-type {\n        vertical-align: middle;\n    }\n\n    .dataframe tbody tr th {\n        vertical-align: top;\n    }\n\n    .dataframe thead th {\n        text-align: right;\n    }\n</style>\n<table border=\"1\" class=\"dataframe\">\n  <thead>\n    <tr style=\"text-align: right;\">\n      <th></th>\n      <th>ServiceDate</th>\n      <th>Service Name</th>\n      <th>Count</th>\n      <th>WeekDay</th>\n      <th>DayMonth</th>\n      <th>Month</th>\n      <th>Year</th>\n    </tr>\n  </thead>\n  <tbody>\n    <tr>\n      <th>0</th>\n      <td>2016-01</td>\n      <td>Athens Protocol</td>\n      <td>16</td>\n      <td>Sunday</td>\n      <td>31</td>\n      <td>1</td>\n      <td>2016</td>\n    </tr>\n    <tr>\n      <th>1</th>\n      <td>2016-01</td>\n      <td>Clear Lens Exchange (CLE / RLE)</td>\n      <td>1</td>\n      <td>Sunday</td>\n      <td>31</td>\n      <td>1</td>\n      <td>2016</td>\n    </tr>\n    <tr>\n      <th>2</th>\n      <td>2016-01</td>\n      <td>Combined Phaco Vitrectomy</td>\n      <td>40</td>\n      <td>Sunday</td>\n      <td>31</td>\n      <td>1</td>\n      <td>2016</td>\n    </tr>\n    <tr>\n      <th>3</th>\n      <td>2016-01</td>\n      <td>Corneal Cross Linking (CXL)</td>\n      <td>15</td>\n      <td>Sunday</td>\n      <td>31</td>\n      <td>1</td>\n      <td>2016</td>\n    </tr>\n    <tr>\n      <th>4</th>\n      <td>2016-01</td>\n      <td>Deep Anterior Lamellar Keratoplasty (DALK)</td>\n      <td>2</td>\n      <td>Sunday</td>\n      <td>31</td>\n      <td>1</td>\n      <td>2016</td>\n    </tr>\n  </tbody>\n</table>\n</div>"
     },
     "metadata": {},
     "execution_count": 74
    }
   ],
   "source": [
    "grouped['WeekDay'] = grouped.ServiceDate.dt.weekday.map(day_dict)\n",
    "grouped['DayMonth'] = grouped.ServiceDate.dt.day\n",
    "grouped['Month'] = grouped.ServiceDate.dt.month\n",
    "grouped['Year'] = grouped.ServiceDate.dt.year\n",
    "grouped.head()"
   ]
  },
  {
   "cell_type": "code",
   "execution_count": 66,
   "metadata": {},
   "outputs": [
    {
     "output_type": "execute_result",
     "data": {
      "text/plain": "                                    Service Name  Count   WeekDay  DayMonth  \\\n0                Phacoemulsification (Phaco+IOL)      1  Saturday         2   \n1                                    Femto-LASIK      2  Saturday         2   \n2  Laser-Assisted in Situ Keratomileusis (LASIK)      1  Saturday         2   \n3                Phacoemulsification (Phaco+IOL)      1  Saturday         2   \n4                Phacoemulsification (Phaco+IOL)      1  Saturday         2   \n\n   Month  Year  \n0      1  2016  \n1      1  2016  \n2      1  2016  \n3      1  2016  \n4      1  2016  ",
      "text/html": "<div>\n<style scoped>\n    .dataframe tbody tr th:only-of-type {\n        vertical-align: middle;\n    }\n\n    .dataframe tbody tr th {\n        vertical-align: top;\n    }\n\n    .dataframe thead th {\n        text-align: right;\n    }\n</style>\n<table border=\"1\" class=\"dataframe\">\n  <thead>\n    <tr style=\"text-align: right;\">\n      <th></th>\n      <th>Service Name</th>\n      <th>Count</th>\n      <th>WeekDay</th>\n      <th>DayMonth</th>\n      <th>Month</th>\n      <th>Year</th>\n    </tr>\n  </thead>\n  <tbody>\n    <tr>\n      <th>0</th>\n      <td>Phacoemulsification (Phaco+IOL)</td>\n      <td>1</td>\n      <td>Saturday</td>\n      <td>2</td>\n      <td>1</td>\n      <td>2016</td>\n    </tr>\n    <tr>\n      <th>1</th>\n      <td>Femto-LASIK</td>\n      <td>2</td>\n      <td>Saturday</td>\n      <td>2</td>\n      <td>1</td>\n      <td>2016</td>\n    </tr>\n    <tr>\n      <th>2</th>\n      <td>Laser-Assisted in Situ Keratomileusis (LASIK)</td>\n      <td>1</td>\n      <td>Saturday</td>\n      <td>2</td>\n      <td>1</td>\n      <td>2016</td>\n    </tr>\n    <tr>\n      <th>3</th>\n      <td>Phacoemulsification (Phaco+IOL)</td>\n      <td>1</td>\n      <td>Saturday</td>\n      <td>2</td>\n      <td>1</td>\n      <td>2016</td>\n    </tr>\n    <tr>\n      <th>4</th>\n      <td>Phacoemulsification (Phaco+IOL)</td>\n      <td>1</td>\n      <td>Saturday</td>\n      <td>2</td>\n      <td>1</td>\n      <td>2016</td>\n    </tr>\n  </tbody>\n</table>\n</div>"
     },
     "metadata": {},
     "execution_count": 66
    }
   ],
   "source": [
    "grouped.drop('ServiceDate', axis=1, inplace = True)\n",
    "grouped.head()\n",
    ""
   ]
  },
  {
   "cell_type": "code",
   "execution_count": 75,
   "metadata": {},
   "outputs": [],
   "source": [
    "# grouped.to_csv(\"monthly_training_data.csv\",encoding='utf-8-sig')"
   ]
  },
  {
   "cell_type": "code",
   "execution_count": 76,
   "metadata": {},
   "outputs": [],
   "source": [
    "ServiceNames = {name : idx for idx, name in enumerate(grouped['Service Name'].unique())}"
   ]
  },
  {
   "cell_type": "code",
   "execution_count": 77,
   "metadata": {},
   "outputs": [
    {
     "output_type": "execute_result",
     "data": {
      "text/plain": "  ServiceDate  Service Name  Count WeekDay  DayMonth  Month  Year\n0     2016-01             0     16  Sunday        31      1  2016\n1     2016-01             1      1  Sunday        31      1  2016\n2     2016-01             2     40  Sunday        31      1  2016\n3     2016-01             3     15  Sunday        31      1  2016\n4     2016-01             4      2  Sunday        31      1  2016\n5     2016-01             5     20  Sunday        31      1  2016\n6     2016-01             6      9  Sunday        31      1  2016\n7     2016-01             7      6  Sunday        31      1  2016\n8     2016-01             8    253  Sunday        31      1  2016\n9     2016-01             9     15  Sunday        31      1  2016",
      "text/html": "<div>\n<style scoped>\n    .dataframe tbody tr th:only-of-type {\n        vertical-align: middle;\n    }\n\n    .dataframe tbody tr th {\n        vertical-align: top;\n    }\n\n    .dataframe thead th {\n        text-align: right;\n    }\n</style>\n<table border=\"1\" class=\"dataframe\">\n  <thead>\n    <tr style=\"text-align: right;\">\n      <th></th>\n      <th>ServiceDate</th>\n      <th>Service Name</th>\n      <th>Count</th>\n      <th>WeekDay</th>\n      <th>DayMonth</th>\n      <th>Month</th>\n      <th>Year</th>\n    </tr>\n  </thead>\n  <tbody>\n    <tr>\n      <th>0</th>\n      <td>2016-01</td>\n      <td>0</td>\n      <td>16</td>\n      <td>Sunday</td>\n      <td>31</td>\n      <td>1</td>\n      <td>2016</td>\n    </tr>\n    <tr>\n      <th>1</th>\n      <td>2016-01</td>\n      <td>1</td>\n      <td>1</td>\n      <td>Sunday</td>\n      <td>31</td>\n      <td>1</td>\n      <td>2016</td>\n    </tr>\n    <tr>\n      <th>2</th>\n      <td>2016-01</td>\n      <td>2</td>\n      <td>40</td>\n      <td>Sunday</td>\n      <td>31</td>\n      <td>1</td>\n      <td>2016</td>\n    </tr>\n    <tr>\n      <th>3</th>\n      <td>2016-01</td>\n      <td>3</td>\n      <td>15</td>\n      <td>Sunday</td>\n      <td>31</td>\n      <td>1</td>\n      <td>2016</td>\n    </tr>\n    <tr>\n      <th>4</th>\n      <td>2016-01</td>\n      <td>4</td>\n      <td>2</td>\n      <td>Sunday</td>\n      <td>31</td>\n      <td>1</td>\n      <td>2016</td>\n    </tr>\n    <tr>\n      <th>5</th>\n      <td>2016-01</td>\n      <td>5</td>\n      <td>20</td>\n      <td>Sunday</td>\n      <td>31</td>\n      <td>1</td>\n      <td>2016</td>\n    </tr>\n    <tr>\n      <th>6</th>\n      <td>2016-01</td>\n      <td>6</td>\n      <td>9</td>\n      <td>Sunday</td>\n      <td>31</td>\n      <td>1</td>\n      <td>2016</td>\n    </tr>\n    <tr>\n      <th>7</th>\n      <td>2016-01</td>\n      <td>7</td>\n      <td>6</td>\n      <td>Sunday</td>\n      <td>31</td>\n      <td>1</td>\n      <td>2016</td>\n    </tr>\n    <tr>\n      <th>8</th>\n      <td>2016-01</td>\n      <td>8</td>\n      <td>253</td>\n      <td>Sunday</td>\n      <td>31</td>\n      <td>1</td>\n      <td>2016</td>\n    </tr>\n    <tr>\n      <th>9</th>\n      <td>2016-01</td>\n      <td>9</td>\n      <td>15</td>\n      <td>Sunday</td>\n      <td>31</td>\n      <td>1</td>\n      <td>2016</td>\n    </tr>\n  </tbody>\n</table>\n</div>"
     },
     "metadata": {},
     "execution_count": 77
    }
   ],
   "source": [
    "# Here is the data grouped with service name and month\n",
    "#for every month and sevice name it has the corresponding service count.\n",
    "processed_data = grouped.copy()\n",
    "processed_data['Service Name'].replace(ServiceNames, inplace=True)\n",
    "processed_data.head(10)"
   ]
  },
  {
   "cell_type": "code",
   "execution_count": 78,
   "metadata": {},
   "outputs": [
    {
     "output_type": "execute_result",
     "data": {
      "text/plain": "852"
     },
     "metadata": {},
     "execution_count": 78
    }
   ],
   "source": [
    "len(processed_data)"
   ]
  },
  {
   "cell_type": "code",
   "execution_count": 73,
   "metadata": {},
   "outputs": [],
   "source": [
    "# #monthly grouped data regardless of Service name\n",
    "# month_group = pd.DataFrame(processed_data.drop('Service Name', axis=1).groupby('ServiceDate').sum())\n",
    "# month_group = month_group.reset_index()\n",
    "# print(len(month_group))\n",
    "# month_group.head()"
   ]
  },
  {
   "cell_type": "code",
   "execution_count": null,
   "metadata": {},
   "outputs": [],
   "source": []
  }
 ]
}