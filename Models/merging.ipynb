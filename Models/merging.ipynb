{
 "nbformat": 4,
 "nbformat_minor": 2,
 "metadata": {
  "language_info": {
   "name": "python",
   "codemirror_mode": {
    "name": "ipython",
    "version": 3
   },
   "version": "3.7.3-final"
  },
  "orig_nbformat": 2,
  "file_extension": ".py",
  "mimetype": "text/x-python",
  "name": "python",
  "npconvert_exporter": "python",
  "pygments_lexer": "ipython3",
  "version": 3,
  "kernelspec": {
   "name": "python3",
   "display_name": "Python 3"
  }
 },
 "cells": [
  {
   "cell_type": "code",
   "execution_count": 1,
   "metadata": {},
   "outputs": [],
   "source": [
    "import pandas as pd\n",
    "import numpy as np\n",
    "import matplotlib.pyplot as plt\n",
    "import datetime"
   ]
  },
  {
   "cell_type": "markdown",
   "metadata": {},
   "source": [
    "* Loading the processed Data"
   ]
  },
  {
   "cell_type": "code",
   "execution_count": 32,
   "metadata": {},
   "outputs": [],
   "source": [
    "prices=pd.read_csv(\"proc_prices_table_2018.csv\",usecols=[\"Name\",\"Avg Unit Price\"])\n",
    "count=pd.read_csv(\"proc_inventory_count_table.csv\",usecols=[\"EntryDate\",\"Class\",\"Type\",\"Count\"])\n",
    "rates=pd.read_csv(\"proc_consumption_rates_table.csv\",usecols=[\"Name\",\"Name_AR\",\"Average\"])"
   ]
  },
  {
   "cell_type": "markdown",
   "metadata": {},
   "source": [
    "* A look on the prices data"
   ]
  },
  {
   "cell_type": "code",
   "execution_count": 15,
   "metadata": {},
   "outputs": [
    {
     "output_type": "execute_result",
     "data": {
      "text/plain": "                       Name  Avg Unit Price\n0  حقنة أيليا (1/3 أمبول )      1301.666667\n1           زجاجة Revonto\\t     1164.000000\n2          صوديوم بيكربونات       28.333333\n3             كانيولا لليزك       46.666667\n4                ميكروباك\\t        8.486667",
      "text/html": "<div>\n<style scoped>\n    .dataframe tbody tr th:only-of-type {\n        vertical-align: middle;\n    }\n\n    .dataframe tbody tr th {\n        vertical-align: top;\n    }\n\n    .dataframe thead th {\n        text-align: right;\n    }\n</style>\n<table border=\"1\" class=\"dataframe\">\n  <thead>\n    <tr style=\"text-align: right;\">\n      <th></th>\n      <th>Name</th>\n      <th>Avg Unit Price</th>\n    </tr>\n  </thead>\n  <tbody>\n    <tr>\n      <th>0</th>\n      <td>حقنة أيليا (1/3 أمبول )</td>\n      <td>1301.666667</td>\n    </tr>\n    <tr>\n      <th>1</th>\n      <td>زجاجة Revonto\\t</td>\n      <td>1164.000000</td>\n    </tr>\n    <tr>\n      <th>2</th>\n      <td>صوديوم بيكربونات</td>\n      <td>28.333333</td>\n    </tr>\n    <tr>\n      <th>3</th>\n      <td>كانيولا لليزك</td>\n      <td>46.666667</td>\n    </tr>\n    <tr>\n      <th>4</th>\n      <td>ميكروباك\\t</td>\n      <td>8.486667</td>\n    </tr>\n  </tbody>\n</table>\n</div>"
     },
     "metadata": {},
     "execution_count": 15
    }
   ],
   "source": [
    "prices.head()"
   ]
  },
  {
   "cell_type": "markdown",
   "metadata": {},
   "source": [
    "* A look on the inventory count data"
   ]
  },
  {
   "cell_type": "code",
   "execution_count": 4,
   "metadata": {},
   "outputs": [
    {
     "output_type": "execute_result",
     "data": {
      "text/plain": "    EntryDate                      Class            Type  Count\n0  2018-01-06               مشارط جراحية     كيراتوم 1.2   4956\n1  2018-01-06               مشارط جراحية      كيراتوم2.2   5976\n2  2018-01-06               مشارط جراحية      كيراتوم2.4    510\n3  2018-01-06                     سرنجات       سرنجة 5سم   7800\n4  2018-01-06  جوانتيات معقمه وغير معقمه  جوانتى أنسيل 7   5780",
      "text/html": "<div>\n<style scoped>\n    .dataframe tbody tr th:only-of-type {\n        vertical-align: middle;\n    }\n\n    .dataframe tbody tr th {\n        vertical-align: top;\n    }\n\n    .dataframe thead th {\n        text-align: right;\n    }\n</style>\n<table border=\"1\" class=\"dataframe\">\n  <thead>\n    <tr style=\"text-align: right;\">\n      <th></th>\n      <th>EntryDate</th>\n      <th>Class</th>\n      <th>Type</th>\n      <th>Count</th>\n    </tr>\n  </thead>\n  <tbody>\n    <tr>\n      <th>0</th>\n      <td>2018-01-06</td>\n      <td>مشارط جراحية</td>\n      <td>كيراتوم 1.2</td>\n      <td>4956</td>\n    </tr>\n    <tr>\n      <th>1</th>\n      <td>2018-01-06</td>\n      <td>مشارط جراحية</td>\n      <td>كيراتوم2.2</td>\n      <td>5976</td>\n    </tr>\n    <tr>\n      <th>2</th>\n      <td>2018-01-06</td>\n      <td>مشارط جراحية</td>\n      <td>كيراتوم2.4</td>\n      <td>510</td>\n    </tr>\n    <tr>\n      <th>3</th>\n      <td>2018-01-06</td>\n      <td>سرنجات</td>\n      <td>سرنجة 5سم</td>\n      <td>7800</td>\n    </tr>\n    <tr>\n      <th>4</th>\n      <td>2018-01-06</td>\n      <td>جوانتيات معقمه وغير معقمه</td>\n      <td>جوانتى أنسيل 7</td>\n      <td>5780</td>\n    </tr>\n  </tbody>\n</table>\n</div>"
     },
     "metadata": {},
     "execution_count": 4
    }
   ],
   "source": [
    "count.head()"
   ]
  },
  {
   "cell_type": "markdown",
   "metadata": {},
   "source": [
    "* A look on the consumption rates data"
   ]
  },
  {
   "cell_type": "code",
   "execution_count": 5,
   "metadata": {},
   "outputs": [
    {
     "output_type": "execute_result",
     "data": {
      "text/plain": "                               Name             Name_AR  Average\n0  أمبولات ببترليف (بديل الزانتاك )    D.C.R. - العينين        1\n1                  أمبولات فولتارين    D.C.R. - العينين        1\n2                     بخاخة أوترفين    D.C.R. - العينين        1\n3                         جلوكوز 5%  D.C.R. - عين واحدة        1\n4  أمبولات ببترليف (بديل الزانتاك )  D.C.R. - عين واحدة        1",
      "text/html": "<div>\n<style scoped>\n    .dataframe tbody tr th:only-of-type {\n        vertical-align: middle;\n    }\n\n    .dataframe tbody tr th {\n        vertical-align: top;\n    }\n\n    .dataframe thead th {\n        text-align: right;\n    }\n</style>\n<table border=\"1\" class=\"dataframe\">\n  <thead>\n    <tr style=\"text-align: right;\">\n      <th></th>\n      <th>Name</th>\n      <th>Name_AR</th>\n      <th>Average</th>\n    </tr>\n  </thead>\n  <tbody>\n    <tr>\n      <th>0</th>\n      <td>أمبولات ببترليف (بديل الزانتاك )</td>\n      <td>D.C.R. - العينين</td>\n      <td>1</td>\n    </tr>\n    <tr>\n      <th>1</th>\n      <td>أمبولات فولتارين</td>\n      <td>D.C.R. - العينين</td>\n      <td>1</td>\n    </tr>\n    <tr>\n      <th>2</th>\n      <td>بخاخة أوترفين</td>\n      <td>D.C.R. - العينين</td>\n      <td>1</td>\n    </tr>\n    <tr>\n      <th>3</th>\n      <td>جلوكوز 5%</td>\n      <td>D.C.R. - عين واحدة</td>\n      <td>1</td>\n    </tr>\n    <tr>\n      <th>4</th>\n      <td>أمبولات ببترليف (بديل الزانتاك )</td>\n      <td>D.C.R. - عين واحدة</td>\n      <td>1</td>\n    </tr>\n  </tbody>\n</table>\n</div>"
     },
     "metadata": {},
     "execution_count": 5
    }
   ],
   "source": [
    "rates.head()"
   ]
  },
  {
   "cell_type": "markdown",
   "metadata": {},
   "source": [
    "* Merging the Consumption Rates & the Prices data"
   ]
  },
  {
   "cell_type": "code",
   "execution_count": 29,
   "metadata": {},
   "outputs": [
    {
     "output_type": "execute_result",
     "data": {
      "text/plain": "                               Name                 Name_AR  Average  \\\n0  أمبولات ببترليف (بديل الزانتاك )        D.C.R. - العينين        1   \n1  أمبولات ببترليف (بديل الزانتاك )      D.C.R. - عين واحدة        1   \n2  أمبولات ببترليف (بديل الزانتاك )  إاستئصال ورم من الحجاج        1   \n3  أمبولات ببترليف (بديل الزانتاك )         ازالة جسم زجاجي        1   \n4  أمبولات ببترليف (بديل الزانتاك )   أزالة عدسة + زرع عدسة        1   \n\n   Avg Unit Price  \n0        1.386667  \n1        1.386667  \n2        1.386667  \n3        1.386667  \n4        1.386667  ",
      "text/html": "<div>\n<style scoped>\n    .dataframe tbody tr th:only-of-type {\n        vertical-align: middle;\n    }\n\n    .dataframe tbody tr th {\n        vertical-align: top;\n    }\n\n    .dataframe thead th {\n        text-align: right;\n    }\n</style>\n<table border=\"1\" class=\"dataframe\">\n  <thead>\n    <tr style=\"text-align: right;\">\n      <th></th>\n      <th>Name</th>\n      <th>Name_AR</th>\n      <th>Average</th>\n      <th>Avg Unit Price</th>\n    </tr>\n  </thead>\n  <tbody>\n    <tr>\n      <th>0</th>\n      <td>أمبولات ببترليف (بديل الزانتاك )</td>\n      <td>D.C.R. - العينين</td>\n      <td>1</td>\n      <td>1.386667</td>\n    </tr>\n    <tr>\n      <th>1</th>\n      <td>أمبولات ببترليف (بديل الزانتاك )</td>\n      <td>D.C.R. - عين واحدة</td>\n      <td>1</td>\n      <td>1.386667</td>\n    </tr>\n    <tr>\n      <th>2</th>\n      <td>أمبولات ببترليف (بديل الزانتاك )</td>\n      <td>إاستئصال ورم من الحجاج</td>\n      <td>1</td>\n      <td>1.386667</td>\n    </tr>\n    <tr>\n      <th>3</th>\n      <td>أمبولات ببترليف (بديل الزانتاك )</td>\n      <td>ازالة جسم زجاجي</td>\n      <td>1</td>\n      <td>1.386667</td>\n    </tr>\n    <tr>\n      <th>4</th>\n      <td>أمبولات ببترليف (بديل الزانتاك )</td>\n      <td>أزالة عدسة + زرع عدسة</td>\n      <td>1</td>\n      <td>1.386667</td>\n    </tr>\n  </tbody>\n</table>\n</div>"
     },
     "metadata": {},
     "execution_count": 29
    }
   ],
   "source": [
    "merged_data=rates[:]\n",
    "merged_data=merged_data.merge(prices,on=\"Name\")\n",
    "merged_data.head()"
   ]
  },
  {
   "cell_type": "markdown",
   "metadata": {},
   "source": [
    "* Grouping the dat by each operation"
   ]
  },
  {
   "cell_type": "code",
   "execution_count": 30,
   "metadata": {},
   "outputs": [],
   "source": [
    "gr_merged_data=merged_data.groupby(merged_data.Name_AR)"
   ]
  },
  {
   "cell_type": "markdown",
   "metadata": {},
   "source": [
    "* Calculating the number of SKUs and their values for each operation"
   ]
  },
  {
   "cell_type": "code",
   "execution_count": 31,
   "metadata": {},
   "outputs": [
    {
     "output_type": "execute_result",
     "data": {
      "text/plain": "                                                   num_SKU  SKU_total_cost\nName_AR                                                                   \n ترقيع للملتحمه                                          8      382.701795\nD.C.R. - العينين                                        25      544.536480\nD.C.R. - عين واحدة                                      31      737.147449\nLASIK                                                   64     1672.320222\nLASIK*                                                   9      280.886588\n...                                                    ...             ...\nليزك + تثبيت                                            24     2364.799605\nمياة بيضاء + قناة دمعية                                  7     1790.390643\nمياة بيضاء و زرع عدسة + جسم زجاجي + حقن السيليكون       13     2023.898382\nنركيب ثقل ذهبى                                           6       46.268000\nوشم / صبغة قرنيه                                        32     2055.664522\n\n[258 rows x 2 columns]",
      "text/html": "<div>\n<style scoped>\n    .dataframe tbody tr th:only-of-type {\n        vertical-align: middle;\n    }\n\n    .dataframe tbody tr th {\n        vertical-align: top;\n    }\n\n    .dataframe thead th {\n        text-align: right;\n    }\n</style>\n<table border=\"1\" class=\"dataframe\">\n  <thead>\n    <tr style=\"text-align: right;\">\n      <th></th>\n      <th>num_SKU</th>\n      <th>SKU_total_cost</th>\n    </tr>\n    <tr>\n      <th>Name_AR</th>\n      <th></th>\n      <th></th>\n    </tr>\n  </thead>\n  <tbody>\n    <tr>\n      <th>ترقيع للملتحمه</th>\n      <td>8</td>\n      <td>382.701795</td>\n    </tr>\n    <tr>\n      <th>D.C.R. - العينين</th>\n      <td>25</td>\n      <td>544.536480</td>\n    </tr>\n    <tr>\n      <th>D.C.R. - عين واحدة</th>\n      <td>31</td>\n      <td>737.147449</td>\n    </tr>\n    <tr>\n      <th>LASIK</th>\n      <td>64</td>\n      <td>1672.320222</td>\n    </tr>\n    <tr>\n      <th>LASIK*</th>\n      <td>9</td>\n      <td>280.886588</td>\n    </tr>\n    <tr>\n      <th>...</th>\n      <td>...</td>\n      <td>...</td>\n    </tr>\n    <tr>\n      <th>ليزك + تثبيت</th>\n      <td>24</td>\n      <td>2364.799605</td>\n    </tr>\n    <tr>\n      <th>مياة بيضاء + قناة دمعية</th>\n      <td>7</td>\n      <td>1790.390643</td>\n    </tr>\n    <tr>\n      <th>مياة بيضاء و زرع عدسة + جسم زجاجي + حقن السيليكون</th>\n      <td>13</td>\n      <td>2023.898382</td>\n    </tr>\n    <tr>\n      <th>نركيب ثقل ذهبى</th>\n      <td>6</td>\n      <td>46.268000</td>\n    </tr>\n    <tr>\n      <th>وشم / صبغة قرنيه</th>\n      <td>32</td>\n      <td>2055.664522</td>\n    </tr>\n  </tbody>\n</table>\n<p>258 rows × 2 columns</p>\n</div>"
     },
     "metadata": {},
     "execution_count": 31
    }
   ],
   "source": [
    "x=gr_merged_data.sum()\n",
    "x.rename(columns={\"Average\":\"num_SKU\",\"Avg Unit Price\":\"SKU_total_cost\"})"
   ]
  },
  {
   "cell_type": "code",
   "execution_count": null,
   "metadata": {},
   "outputs": [],
   "source": []
  }
 ]
}