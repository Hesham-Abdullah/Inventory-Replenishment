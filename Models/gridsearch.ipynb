{
 "nbformat": 4,
 "nbformat_minor": 2,
 "metadata": {
  "language_info": {
   "name": "python",
   "codemirror_mode": {
    "name": "ipython",
    "version": 3
   },
   "version": "3.6.8-final"
  },
  "orig_nbformat": 2,
  "file_extension": ".py",
  "mimetype": "text/x-python",
  "name": "python",
  "npconvert_exporter": "python",
  "pygments_lexer": "ipython3",
  "version": 3,
  "kernelspec": {
   "name": "python36864bit0b172f9ba7214432a4379325d24c4926",
   "display_name": "Python 3.6.8 64-bit"
  }
 },
 "cells": [
  {
   "cell_type": "code",
   "execution_count": 21,
   "metadata": {},
   "outputs": [],
   "source": [
    "import pandas as pd\n",
    "import numpy as np\n",
    "import matplotlib.pyplot as plt\n",
    "from sklearn.ensemble import RandomForestRegressor\n",
    "from sklearn.model_selection import train_test_split\n",
    "from sklearn.metrics import mean_absolute_error\n",
    "from sklearn.preprocessing import OneHotEncoder\n",
    "from sklearn.tree import DecisionTreeRegressor\n",
    "from sklearn.svm import SVR\n",
    "from sklearn.ensemble import AdaBoostRegressor\n",
    "from sklearn.model_selection import GridSearchCV\n",
    "from sklearn.metrics import mean_absolute_error, make_scorer\n",
    "from sklearn.preprocessing import StandardScaler\n",
    "from sklearn import decomposition\n",
    "from sklearn.pipeline import Pipeline"
   ]
  },
  {
   "cell_type": "code",
   "execution_count": 2,
   "metadata": {},
   "outputs": [],
   "source": [
    "data=pd.read_csv(\"Monthly_Training_Data_1.csv\",usecols=[\"Service Name\",\"Month\",\"Year\",\"Count\"])\n",
    "ServiceNames = {name : idx for idx, name in enumerate(data['Service Name'].unique())}\n",
    "ServiceIndex= {idx : name for idx, name in enumerate(data['Service Name'].unique())}\n",
    "processed_data = data.copy()\n",
    "processed_data['Service Name']=processed_data['Service Name'].map(ServiceNames)\n",
    "X=processed_data.drop([\"Count\"],axis=1)\n",
    "y=processed_data[\"Count\"]"
   ]
  },
  {
   "cell_type": "code",
   "execution_count": 3,
   "metadata": {},
   "outputs": [
    {
     "output_type": "execute_result",
     "data": {
      "text/plain": "((681, 3), (171, 3), (681,), (171,))"
     },
     "metadata": {},
     "execution_count": 3
    }
   ],
   "source": [
    "X_train, X_test, y_train, y_test=train_test_split(X,y,test_size=0.2,random_state=42)\n",
    "X_train.shape, X_test.shape, y_train.shape, y_test.shape"
   ]
  },
  {
   "cell_type": "code",
   "execution_count": 4,
   "metadata": {},
   "outputs": [],
   "source": [
    "def predict_last_two(pred, regressor):\n",
    "    lasttwo = processed_data[(processed_data['Year'] == 2018) &\n",
    "         ((processed_data['Month'] == 11) | (processed_data['Month'] == 12))]\n",
    "    pred = regressor.predict(lasttwo.drop('Count', axis=1))\n",
    "    return mean_absolute_error(pred, lasttwo['Count'])"
   ]
  },
  {
   "cell_type": "code",
   "execution_count": 15,
   "metadata": {},
   "outputs": [],
   "source": [
    "def perform_regression(regressor):\n",
    "    # regressor = DecisionTreeRegressor(random_state=0)\n",
    "    regressor.fit(X_train, y_train)\n",
    "    y_pred = regressor.predict(X_test)\n",
    "    print(f'Total MAE {mean_absolute_error(y_pred, y_test)}')\n",
    "    print(f'Last Two months MAE {predict_last_two(y_pred, regressor)}')\n",
    "    return mean_absolute_error(y_pred, y_test), predict_last_two(y_pred, regressor)"
   ]
  },
  {
   "cell_type": "code",
   "execution_count": 32,
   "metadata": {},
   "outputs": [
    {
     "output_type": "stream",
     "name": "stdout",
     "text": "Fitting 3 folds for each of 192 candidates, totalling 576 fits\n[Parallel(n_jobs=-1)]: Using backend LokyBackend with 4 concurrent workers.\n[Parallel(n_jobs=-1)]: Done 576 out of 576 | elapsed:    1.5s finished\n"
    }
   ],
   "source": [
    "dt = DecisionTreeRegressor()\n",
    "parameter = {'max_depth':[10, 50, 100, 200],'min_samples_split':[2, 4, 6, 8], \n",
    "                  'min_samples_leaf':[2,4,6,8], 'criterion': ['mse', 'friedman_mse', 'mae']\n",
    "                  }\n",
    "\n",
    "scorer = make_scorer(mean_absolute_error)\n",
    "\n",
    "dtsearch = GridSearchCV(dt, parameter, scoring = scorer, verbose=1, cv=3, n_jobs=-1)\n",
    "\n",
    "dtfit = dtsearch.fit(X_train, y_train)\n",
    "best_fit = dtfit.best_estimator_\n",
    "# best_fit.fit(X_train, y_train)\n",
    "# dt_pred = best_fit.predict(X_test)"
   ]
  },
  {
   "cell_type": "code",
   "execution_count": 33,
   "metadata": {},
   "outputs": [
    {
     "output_type": "stream",
     "name": "stdout",
     "text": "Total MAE 19.681286549707604\nLast Two months MAE 13.08695652173913\n"
    },
    {
     "output_type": "execute_result",
     "data": {
      "text/plain": "(19.681286549707604, 13.08695652173913)"
     },
     "metadata": {},
     "execution_count": 33
    }
   ],
   "source": [
    "perform_regression(best_fit)"
   ]
  },
  {
   "cell_type": "code",
   "execution_count": null,
   "metadata": {},
   "outputs": [],
   "source": []
  }
 ]
}