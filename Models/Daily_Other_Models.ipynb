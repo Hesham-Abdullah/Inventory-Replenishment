{
 "nbformat": 4,
 "nbformat_minor": 2,
 "metadata": {
  "language_info": {
   "name": "python",
   "codemirror_mode": {
    "name": "ipython",
    "version": 3
   },
   "version": "3.6.8-final"
  },
  "orig_nbformat": 2,
  "file_extension": ".py",
  "mimetype": "text/x-python",
  "name": "python",
  "npconvert_exporter": "python",
  "pygments_lexer": "ipython3",
  "version": 3,
  "kernelspec": {
   "name": "python3",
   "display_name": "Python 3"
  }
 },
 "cells": [
  {
   "cell_type": "code",
   "execution_count": 2,
   "metadata": {},
   "outputs": [],
   "source": [
    "import pandas as pd\n",
    "import numpy as np\n",
    "import matplotlib.pyplot as plt\n",
    "from sklearn.ensemble import RandomForestRegressor\n",
    "from sklearn.model_selection import train_test_split,GridSearchCV\n",
    "from sklearn.metrics import mean_absolute_error\n",
    "from sklearn.preprocessing import OneHotEncoder\n",
    "from sklearn.tree import DecisionTreeRegressor\n",
    "from sklearn.svm import SVR\n",
    "from sklearn.ensemble import AdaBoostRegressor, GradientBoostingRegressor, ExtraTreesRegressor\n",
    "# import xgboost as xgb\n",
    "import pickle\n",
    "import plotly.graph_objects as go"
   ]
  },
  {
   "cell_type": "code",
   "execution_count": 4,
   "metadata": {},
   "outputs": [
    {
     "output_type": "stream",
     "name": "stdout",
     "text": "(4148, 5) (1392, 4) (11784, 5)\n"
    },
    {
     "output_type": "execute_result",
     "data": {
      "text/plain": "                                    Service Name  Count  DayMonth  Month  Year\n0                    Examination Under Anathesia      1         2      1  2016\n1                                    Femto-LASIK      7         2      1  2016\n2                               IOL Implantation      1         2      1  2016\n3                Intravitreal Lucentis Injection      8         2      1  2016\n4  Laser-Assisted in Situ Keratomileusis (LASIK)     12         2      1  2016",
      "text/html": "<div>\n<style scoped>\n    .dataframe tbody tr th:only-of-type {\n        vertical-align: middle;\n    }\n\n    .dataframe tbody tr th {\n        vertical-align: top;\n    }\n\n    .dataframe thead th {\n        text-align: right;\n    }\n</style>\n<table border=\"1\" class=\"dataframe\">\n  <thead>\n    <tr style=\"text-align: right;\">\n      <th></th>\n      <th>Service Name</th>\n      <th>Count</th>\n      <th>DayMonth</th>\n      <th>Month</th>\n      <th>Year</th>\n    </tr>\n  </thead>\n  <tbody>\n    <tr>\n      <td>0</td>\n      <td>Examination Under Anathesia</td>\n      <td>1</td>\n      <td>2</td>\n      <td>1</td>\n      <td>2016</td>\n    </tr>\n    <tr>\n      <td>1</td>\n      <td>Femto-LASIK</td>\n      <td>7</td>\n      <td>2</td>\n      <td>1</td>\n      <td>2016</td>\n    </tr>\n    <tr>\n      <td>2</td>\n      <td>IOL Implantation</td>\n      <td>1</td>\n      <td>2</td>\n      <td>1</td>\n      <td>2016</td>\n    </tr>\n    <tr>\n      <td>3</td>\n      <td>Intravitreal Lucentis Injection</td>\n      <td>8</td>\n      <td>2</td>\n      <td>1</td>\n      <td>2016</td>\n    </tr>\n    <tr>\n      <td>4</td>\n      <td>Laser-Assisted in Situ Keratomileusis (LASIK)</td>\n      <td>12</td>\n      <td>2</td>\n      <td>1</td>\n      <td>2016</td>\n    </tr>\n  </tbody>\n</table>\n</div>"
     },
     "metadata": {},
     "execution_count": 4
    }
   ],
   "source": [
    "monthly_data=pd.read_csv(\"Monthly_Training_Data.csv\",usecols=[\"Service Name\",\"Month\",\"Year\",\"Count\"])\n",
    "weekly_data=pd.read_csv(\"Weekly_training_data.csv\",usecols=[\"Service Name\",\"Month\",\"Year\",\"Count\",\"wom\"])\n",
    "daily_data = pd.read_csv(\"daily_training_data.csv\",usecols=[\"Service Name\",\"Month\",\"Year\",\"Count\",\"DayMonth\"])\n",
    "print(weekly_data.shape,monthly_data.shape, daily_data.shape)\n",
    "daily_data.head()"
   ]
  },
  {
   "cell_type": "code",
   "execution_count": 49,
   "metadata": {},
   "outputs": [],
   "source": [
    "# # monthly_data=monthly_data.sort_values(by=[\"Count\"],ascending=False).iloc[0:100]\n",
    "# monthly_data=monthly_data[(monthly_data['Year'] == 2018) & (monthly_data['Month'] == 12)]\n",
    "# monthly_data=monthly_data.sort_values(by=[\"Count\"],ascending=False).iloc[0:20]\n",
    "# monthly_data"
   ]
  },
  {
   "cell_type": "code",
   "execution_count": 14,
   "metadata": {},
   "outputs": [],
   "source": [
    "with open('operations_names_en_to_ar.pickle', 'rb') as f:\n",
    "    operations_names_en_to_ar = pickle.load(f)"
   ]
  },
  {
   "cell_type": "code",
   "execution_count": 51,
   "metadata": {},
   "outputs": [],
   "source": [
    "# Service_Names_to_index = {name : idx for idx, name in enumerate(weekly_data['Service Name'].unique())}\n",
    "# Service_Index_to_name= {idx : name for idx, name in enumerate(weekly_data['Service Name'].unique())}\n",
    "# monthly_Service_Index_to_name= {idx : name for idx, name in enumerate(weekly_data['Service Name'].unique())}"
   ]
  },
  {
   "cell_type": "code",
   "execution_count": 7,
   "metadata": {},
   "outputs": [],
   "source": [
    "def encode_monthly_names(df, uniq):\n",
    "    Service_Names_to_index = {name : idx for idx, name in enumerate(uniq)}\n",
    "    df['Service Name']=df['Service Name'].map(Service_Names_to_index)\n",
    "    return df"
   ]
  },
  {
   "cell_type": "code",
   "execution_count": 13,
   "metadata": {},
   "outputs": [],
   "source": [
    "def decode_monthly_names(df, uniq):\n",
    "    Service_Index_to_name= {idx : name for idx, name in enumerate(uniq)}\n",
    "    df['Service Name']=df['Service Name'].map(Service_Index_to_name)\n",
    "    return df"
   ]
  },
  {
   "cell_type": "code",
   "execution_count": 54,
   "metadata": {},
   "outputs": [],
   "source": [
    "def encode_weekly_names(df):\n",
    "    Service_Names_to_index = {name : idx for idx, name in enumerate(weekly_data['Service Name'].unique())}\n",
    "    df['Service Name']=df['Service Name'].map(Service_Names_to_index)\n",
    "    return df"
   ]
  },
  {
   "cell_type": "code",
   "execution_count": 55,
   "metadata": {},
   "outputs": [],
   "source": [
    "def decode_weekly_names(df):\n",
    "    Service_Index_to_name= {idx : name for idx, name in enumerate(weekly_data['Service Name'].unique())}\n",
    "    df['Service Name']=df['Service Name'].map(Service_Index_to_name)\n",
    "    return df"
   ]
  },
  {
   "cell_type": "code",
   "execution_count": 8,
   "metadata": {},
   "outputs": [
    {
     "output_type": "execute_result",
     "data": {
      "text/plain": "   Service Name  Count  DayMonth  Month  Year\n0             0      1         2      1  2016\n1             1      7         2      1  2016\n2             2      1         2      1  2016\n3             3      8         2      1  2016\n4             4     12         2      1  2016",
      "text/html": "<div>\n<style scoped>\n    .dataframe tbody tr th:only-of-type {\n        vertical-align: middle;\n    }\n\n    .dataframe tbody tr th {\n        vertical-align: top;\n    }\n\n    .dataframe thead th {\n        text-align: right;\n    }\n</style>\n<table border=\"1\" class=\"dataframe\">\n  <thead>\n    <tr style=\"text-align: right;\">\n      <th></th>\n      <th>Service Name</th>\n      <th>Count</th>\n      <th>DayMonth</th>\n      <th>Month</th>\n      <th>Year</th>\n    </tr>\n  </thead>\n  <tbody>\n    <tr>\n      <td>0</td>\n      <td>0</td>\n      <td>1</td>\n      <td>2</td>\n      <td>1</td>\n      <td>2016</td>\n    </tr>\n    <tr>\n      <td>1</td>\n      <td>1</td>\n      <td>7</td>\n      <td>2</td>\n      <td>1</td>\n      <td>2016</td>\n    </tr>\n    <tr>\n      <td>2</td>\n      <td>2</td>\n      <td>1</td>\n      <td>2</td>\n      <td>1</td>\n      <td>2016</td>\n    </tr>\n    <tr>\n      <td>3</td>\n      <td>3</td>\n      <td>8</td>\n      <td>2</td>\n      <td>1</td>\n      <td>2016</td>\n    </tr>\n    <tr>\n      <td>4</td>\n      <td>4</td>\n      <td>12</td>\n      <td>2</td>\n      <td>1</td>\n      <td>2016</td>\n    </tr>\n  </tbody>\n</table>\n</div>"
     },
     "metadata": {},
     "execution_count": 8
    }
   ],
   "source": [
    "# weekly_processed_data = weekly_data.copy()\n",
    "# weekly_processed_data=encode_weekly_names(weekly_processed_data)\n",
    "# monthly_processed_data= monthly_data.copy()\n",
    "# monthly_processed_data=encode_monthly_names(monthly_processed_data)\n",
    "# monthly_processed_data.head()\n",
    "# monthly_processed_data=encode_monthly_names(monthly_data)\n",
    "uniq = daily_data['Service Name'].unique() \n",
    "daily_data = encode_monthly_names(daily_data, uniq)\n",
    "daily_data.head()"
   ]
  },
  {
   "cell_type": "code",
   "execution_count": 57,
   "metadata": {},
   "outputs": [],
   "source": [
    "# X=data.drop([\"Count\"],axis=1)\n",
    "# y=data[\"Count\"]"
   ]
  },
  {
   "cell_type": "code",
   "execution_count": 9,
   "metadata": {},
   "outputs": [
    {
     "output_type": "stream",
     "name": "stdout",
     "text": "9697\n"
    }
   ],
   "source": [
    "monthly_split_index = daily_data[(daily_data['Year'] == 2018) & (daily_data['Month'] == 6)].iloc[-1].name\n",
    "# weekly_split_index = weekly_processed_data[(weekly_processed_data['Year'] == 2018) & (weekly_processed_data['Month'] == 11)].iloc[-1].name\n",
    "print(monthly_split_index)"
   ]
  },
  {
   "cell_type": "code",
   "execution_count": 10,
   "metadata": {},
   "outputs": [],
   "source": [
    "# X_train, X_test, y_train, y_test=train_test_split(X,y,test_size=0.2,random_state=42)\n",
    "def get_X_y(df,split_index):\n",
    "    X_train = df.iloc[:split_index].drop('Count', axis=1)\n",
    "    X_test = df.iloc[split_index:].drop('Count', axis=1)\n",
    "\n",
    "    y_train = df.iloc[:split_index]['Count']\n",
    "    y_test = df.iloc[split_index:]['Count']\n",
    "\n",
    "    return X_train, X_test, y_train, y_test\n",
    ""
   ]
  },
  {
   "cell_type": "code",
   "execution_count": 12,
   "metadata": {},
   "outputs": [],
   "source": [
    "def mean_absolute_percentage_error(y_true, y_pred): \n",
    "    y_true, y_pred = np.array(y_true), np.array(y_pred)\n",
    "    return np.mean(np.abs((y_true - y_pred) / y_true)) * 100\n",
    "\n",
    "def element_mean_absolute_percentage_error(y_true, y_pred): \n",
    "    y_true, y_pred = np.array(y_true), np.array(y_pred)\n",
    "    return (np.abs((y_true - y_pred) / y_true)) * 100"
   ]
  },
  {
   "cell_type": "code",
   "execution_count": 61,
   "metadata": {},
   "outputs": [],
   "source": [
    "# weekly_processed_data[(weekly_processed_data['Year'] == 2018) & (weekly_processed_data['Month'] == 12) & (weekly_processed_data['wom'] == 1) & (weekly_processed_data['wom'] == 2)]"
   ]
  },
  {
   "cell_type": "code",
   "execution_count": 62,
   "metadata": {},
   "outputs": [],
   "source": [
    "def weekly_prediction_cases(regressor):\n",
    "     week_ahead = weekly_processed_data[(weekly_processed_data['Year'] == 2018) & (weekly_processed_data['Month'] == 12) & (weekly_processed_data['wom'] == 1)]\n",
    "     \n",
    "     two_weeks_ahead = weekly_processed_data[(weekly_processed_data['Year'] == 2018) & (weekly_processed_data['Month'] == 12) & ((weekly_processed_data['wom'] == 1) | (weekly_processed_data['wom'] == 2))]\n",
    "     \n",
    "\n",
    "     week_ahead_pred = regressor.predict(week_ahead.drop('Count', axis=1))\n",
    "     two_weeks_ahead_pred = regressor.predict(two_weeks_ahead.drop('Count', axis=1))\n",
    "     # half_year_pred = regressor.predict(half_year.drop('Count', axis=1))\n",
    "     \n",
    "     err = mean_absolute_error(week_ahead['Count'], week_ahead_pred)\n",
    "     week_ahead_MAPE = mean_absolute_percentage_error(week_ahead['Count'], week_ahead_pred)\n",
    "     two_weeks_ahead_MAPE = mean_absolute_percentage_error( two_weeks_ahead['Count'], two_weeks_ahead_pred)\n",
    "     # half_year_MAPE = mean_absolute_percentage_error(half_year['Count'], half_year_pred) \n",
    "     \n",
    "     week_ahead[\"predictions\"]=week_ahead_pred\n",
    "     two_weeks_ahead[\"predictions\"]=two_weeks_ahead_pred\n",
    "     # half_year[\"predictions\"]=half_year_pred\n",
    "     week_ahead=decode_weekly_names(week_ahead)\n",
    "     two_weeks_ahead=decode_weekly_names(two_weeks_ahead)\n",
    "     # half_year['Service Name']=half_year['Service Name'].map(Service_Index_to_name)\n",
    "\n",
    "     week_ahead['Service Name AR']=week_ahead['Service Name'].map(operations_names_en_to_ar)\n",
    "     two_weeks_ahead['Service Name AR']=two_weeks_ahead['Service Name'].map(operations_names_en_to_ar)\n",
    "     # half_year['Service Name AR']=half_year['Service Name'].map(operations_names_en_to_ar)     \n",
    "\n",
    "     return err,week_ahead_MAPE, two_weeks_ahead_MAPE, week_ahead, two_weeks_ahead"
   ]
  },
  {
   "cell_type": "code",
   "execution_count": 71,
   "metadata": {},
   "outputs": [],
   "source": [
    "def monthly_prediction_cases(regressor):\n",
    "     month_ahead = monthly_processed_data[(monthly_processed_data['Year'] == 2018) & (monthly_processed_data['Month'] == 12)].sort_values(by=[\"Count\"],ascending=False).iloc[0:10]\n",
    "     \n",
    "     quarter_year = monthly_processed_data[(monthly_processed_data['Year'] == 2018) & (monthly_processed_data['Month'] >= 9)]\n",
    "     \n",
    "     half_year = monthly_processed_data[(monthly_processed_data['Year'] == 2018) & (monthly_processed_data['Month'] >= 7)]\n",
    "\n",
    "     month_ahead_pred = regressor.predict(month_ahead.drop('Count', axis=1))\n",
    "     quarter_year_pred = regressor.predict(quarter_year.drop('Count', axis=1))\n",
    "     half_year_pred = regressor.predict(half_year.drop('Count', axis=1))\n",
    "     \n",
    "     err = mean_absolute_error(month_ahead['Count'], month_ahead_pred)\n",
    "     month_MAPE = mean_absolute_percentage_error(month_ahead['Count'], month_ahead_pred)\n",
    "     quarter_year_MAPE = mean_absolute_percentage_error( quarter_year['Count'], quarter_year_pred)\n",
    "     half_year_MAPE = mean_absolute_percentage_error(half_year['Count'], half_year_pred) \n",
    "     \n",
    "     month_ahead[\"predictions\"]=month_ahead_pred\n",
    "     quarter_year[\"predictions\"]=quarter_year_pred\n",
    "     half_year[\"predictions\"]=half_year_pred\n",
    "\n",
    "     month_ahead=decode_monthly_names(month_ahead)\n",
    "     quarter_year=decode_monthly_names(quarter_year)\n",
    "     half_year=decode_monthly_names(half_year)\n",
    "     # month_ahead['Service Name']=month_ahead['Service Name'].map(Service_Index_to_name)\n",
    "     # quarter_year['Service Name']=quarter_year['Service Name'].map(Service_Index_to_name)\n",
    "     # half_year['Service Name']=half_year['Service Name'].map(Service_Index_to_name)\n",
    "     \n",
    "\n",
    "     month_ahead['Service Name AR']=month_ahead['Service Name'].map(operations_names_en_to_ar)\n",
    "     quarter_year['Service Name AR']=quarter_year['Service Name'].map(operations_names_en_to_ar)\n",
    "     half_year['Service Name AR']=half_year['Service Name'].map(operations_names_en_to_ar)     \n",
    "     # month_ahead['MAPE']=\n",
    "\n",
    "\n",
    "     return err,month_MAPE,quarter_year_MAPE, half_year_MAPE, month_ahead,quarter_year, half_year"
   ]
  },
  {
   "cell_type": "code",
   "execution_count": 25,
   "metadata": {},
   "outputs": [],
   "source": [
    "def daily_prediction_cases(regressor):\n",
    "     month_ahead = daily_data[(daily_data['Year'] == 2018) & (daily_data['Month'] == 12)] # .sort_values(by=[\"Count\"],ascending=False).iloc[0:10]\n",
    "     \n",
    "     quarter_year = daily_data[(daily_data['Year'] == 2018) & (daily_data['Month'] >= 9)]\n",
    "     \n",
    "     half_year = daily_data[(daily_data['Year'] == 2018) & (daily_data['Month'] >= 7)]\n",
    "\n",
    "     month_ahead_pred = regressor.predict(month_ahead.drop('Count', axis=1))\n",
    "     quarter_year_pred = regressor.predict(quarter_year.drop('Count', axis=1))\n",
    "     half_year_pred = regressor.predict(half_year.drop('Count', axis=1))\n",
    "     \n",
    "     err = mean_absolute_error(month_ahead['Count'], month_ahead_pred)\n",
    "     \n",
    "     month_MAPE = mean_absolute_percentage_error(month_ahead['Count'], month_ahead_pred)\n",
    "     element_month_MAPE = element_mean_absolute_percentage_error(month_ahead['Count'], month_ahead_pred)\n",
    "\n",
    "     quarter_year_MAPE = mean_absolute_percentage_error( quarter_year['Count'], quarter_year_pred)\n",
    "     element_quarter_year_MAPE = element_mean_absolute_percentage_error( quarter_year['Count'], quarter_year_pred)\n",
    "\n",
    "     half_year_MAPE = mean_absolute_percentage_error(half_year['Count'], half_year_pred) \n",
    "     element_half_year_MAPE = element_mean_absolute_percentage_error(half_year['Count'], half_year_pred)\n",
    "\n",
    "     month_ahead[\"predictions\"]=month_ahead_pred\n",
    "     month_ahead[\"Month_MAPE\"]=element_month_MAPE\n",
    "\n",
    "     quarter_year[\"predictions\"]=quarter_year_pred\n",
    "     quarter_year[\"quarter_MAPE\"]= element_quarter_year_MAPE\n",
    "\n",
    "     half_year[\"predictions\"]=half_year_pred\n",
    "     half_year[\"half_year_MAPE\"]=element_half_year_MAPE\n",
    "\n",
    "\n",
    "     month_ahead=decode_monthly_names(month_ahead, uniq)\n",
    "     quarter_year=decode_monthly_names(quarter_year, uniq)\n",
    "     half_year=decode_monthly_names(half_year, uniq)\n",
    "     # month_ahead['Service Name']=month_ahead['Service Name'].map(Service_Index_to_name)\n",
    "     # quarter_year['Service Name']=quarter_year['Service Name'].map(Service_Index_to_name)\n",
    "     # half_year['Service Name']=half_year['Service Name'].map(Service_Index_to_name)\n",
    "     \n",
    "\n",
    "     month_ahead['Service Name AR']=month_ahead['Service Name'].map(operations_names_en_to_ar)\n",
    "     quarter_year['Service Name AR']=quarter_year['Service Name'].map(operations_names_en_to_ar)\n",
    "     half_year['Service Name AR']=half_year['Service Name'].map(operations_names_en_to_ar)     \n",
    "     # month_ahead['MAPE']=\n",
    "\n",
    "\n",
    "     return err,month_MAPE,quarter_year_MAPE, half_year_MAPE, month_ahead,quarter_year, half_year"
   ]
  },
  {
   "cell_type": "code",
   "execution_count": 67,
   "metadata": {},
   "outputs": [],
   "source": [
    "def perform_weekly_regression(regressor):\n",
    "    # regressor = DecisionTreeRegressor(random_state=0)\n",
    "    X_train, X_test, y_train, y_test=get_X_y(weekly_processed_data,weekly_split_index)\n",
    "    regressor.fit(X_train, y_train)\n",
    "    # y_pred = regressor.predict(X_test)\n",
    "    # print(f'Total MAE {mean_absolute_percentage_error(y_pred, y_test)}')\n",
    "    err,week_ahead_MAPE, two_weeks_ahead_MAPE, week_ahead, two_weeks_ahead= weekly_prediction_cases(regressor)\n",
    "\n",
    "    print(f'1 week predection MAE {err}')\n",
    "    print(f'1 week predection MAPE {week_ahead_MAPE}')\n",
    "    print(f'2 weeks predection MAPE {two_weeks_ahead_MAPE}')\n",
    "    # print(f'half year MAPE {half_year_MAPE}')\n",
    "    return week_ahead, two_weeks_ahead"
   ]
  },
  {
   "cell_type": "code",
   "execution_count": 16,
   "metadata": {},
   "outputs": [],
   "source": [
    "def perform_monthly_regression(regressor):\n",
    "    # regressor = DecisionTreeRegressor(random_state=0)\n",
    "    X_train, X_test, y_train, y_test=get_X_y(monthly_processed_data,monthly_split_index)\n",
    "    regressor.fit(X_train, y_train)\n",
    "    # y_pred = regressor.predict(X_test)\n",
    "    # print(f'Total MAE {mean_absolute_percentage_error(y_pred, y_test)}')\n",
    "    err,month_MAPE,quarter_year_MAPE, half_year_MAPE, month_ahead,quarter_year, half_year = monthly_prediction_cases(regressor)\n",
    "\n",
    "    print(f'1 month predection MAE {err}')\n",
    "    print(f'1 month predection MAPE {month_MAPE}')\n",
    "    print(f'Last quarter year MAPE {quarter_year_MAPE}')\n",
    "    print(f'half year MAPE {half_year_MAPE}')\n",
    "    return month_ahead,quarter_year, half_year"
   ]
  },
  {
   "cell_type": "code",
   "execution_count": 21,
   "metadata": {},
   "outputs": [],
   "source": [
    "def perform_daily_regression(regressor):\n",
    "    # regressor = DecisionTreeRegressor(random_state=0)\n",
    "    X_train, X_test, y_train, y_test=get_X_y(daily_data,monthly_split_index)\n",
    "    regressor.fit(X_train, y_train)\n",
    "    # y_pred = regressor.predict(X_test)\n",
    "    # print(f'Total MAE {mean_absolute_percentage_error(y_pred, y_test)}')\n",
    "    err,month_MAPE,quarter_year_MAPE, half_year_MAPE, month_ahead,quarter_year, half_year = daily_prediction_cases(regressor)\n",
    "\n",
    "    print(f'1 month predection MAE {err}')\n",
    "    print(f'1 month predection MAPE {month_MAPE}')\n",
    "    print(f'Last quarter year MAPE {quarter_year_MAPE}')\n",
    "    print(f'half year MAPE {half_year_MAPE}')\n",
    "    return month_ahead,quarter_year, half_year"
   ]
  },
  {
   "cell_type": "code",
   "execution_count": 18,
   "metadata": {},
   "outputs": [],
   "source": [
    "def vis(df):\n",
    "    fig = go.Figure(data=[\n",
    "                        go.Bar(name = 'Real Data', x=df[\"Service Name\"], y=df[\"Count\"], marker_color='#800000'),\n",
    "                        go.Bar(name = 'Predicted', x=df[\"Service Name\"], y=df[\"predictions\"], marker_color='#228B22'),\n",
    "\n",
    "    ])\n",
    "\n",
    "    fig.update_layout(barmode='group',width=1200, height=400)\n",
    "    return fig.show()"
   ]
  },
  {
   "cell_type": "markdown",
   "metadata": {},
   "source": [
    "1. **Decision Tree Regression**"
   ],
   "execution_count": null,
   "outputs": []
  },
  {
   "cell_type": "code",
   "execution_count": 26,
   "metadata": {},
   "outputs": [
    {
     "output_type": "stream",
     "name": "stdout",
     "text": "1 month predection MAE 3.3823529411764706\n1 month predection MAPE 85.6703332065373\nLast quarter year MAPE 82.9380616939965\nhalf year MAPE 86.15206874484237\n"
    }
   ],
   "source": [
    "regressor = DecisionTreeRegressor(random_state=0)\n",
    "p1 = perform_daily_regression(regressor)"
   ]
  },
  {
   "cell_type": "code",
   "execution_count": 24,
   "metadata": {},
   "outputs": [
    {
     "output_type": "execute_result",
     "data": {
      "text/plain": "                          Service Name  Count  DayMonth  Month  Year  \\\n11657  Phacoemulsification (Phaco+IOL)     48        18     12  2018   \n11507  Phacoemulsification (Phaco+IOL)     47         5     12  2018   \n11480  Phacoemulsification (Phaco+IOL)     47         3     12  2018   \n11576  Phacoemulsification (Phaco+IOL)     44        11     12  2018   \n11589  Phacoemulsification (Phaco+IOL)     43        12     12  2018   \n11468  Phacoemulsification (Phaco+IOL)     42         2     12  2018   \n11642  Phacoemulsification (Phaco+IOL)     41        17     12  2018   \n11616  Phacoemulsification (Phaco+IOL)     40        15     12  2018   \n11495  Phacoemulsification (Phaco+IOL)     40         4     12  2018   \n11559  Phacoemulsification (Phaco+IOL)     38        10     12  2018   \n\n       predictions  Month_MAPE  Service Name AR  \n11657         41.0   14.583333  فاكو + زرع عدسه  \n11507         56.0   19.148936  فاكو + زرع عدسه  \n11480         51.0    8.510638  فاكو + زرع عدسه  \n11576         14.0   68.181818  فاكو + زرع عدسه  \n11589         43.0    0.000000  فاكو + زرع عدسه  \n11468         37.0   11.904762  فاكو + زرع عدسه  \n11642         43.0    4.878049  فاكو + زرع عدسه  \n11616         16.0   60.000000  فاكو + زرع عدسه  \n11495         39.0    2.500000  فاكو + زرع عدسه  \n11559         23.0   39.473684  فاكو + زرع عدسه  ",
      "text/html": "<div>\n<style scoped>\n    .dataframe tbody tr th:only-of-type {\n        vertical-align: middle;\n    }\n\n    .dataframe tbody tr th {\n        vertical-align: top;\n    }\n\n    .dataframe thead th {\n        text-align: right;\n    }\n</style>\n<table border=\"1\" class=\"dataframe\">\n  <thead>\n    <tr style=\"text-align: right;\">\n      <th></th>\n      <th>Service Name</th>\n      <th>Count</th>\n      <th>DayMonth</th>\n      <th>Month</th>\n      <th>Year</th>\n      <th>predictions</th>\n      <th>Month_MAPE</th>\n      <th>Service Name AR</th>\n    </tr>\n  </thead>\n  <tbody>\n    <tr>\n      <td>11657</td>\n      <td>Phacoemulsification (Phaco+IOL)</td>\n      <td>48</td>\n      <td>18</td>\n      <td>12</td>\n      <td>2018</td>\n      <td>41.0</td>\n      <td>14.583333</td>\n      <td>فاكو + زرع عدسه</td>\n    </tr>\n    <tr>\n      <td>11507</td>\n      <td>Phacoemulsification (Phaco+IOL)</td>\n      <td>47</td>\n      <td>5</td>\n      <td>12</td>\n      <td>2018</td>\n      <td>56.0</td>\n      <td>19.148936</td>\n      <td>فاكو + زرع عدسه</td>\n    </tr>\n    <tr>\n      <td>11480</td>\n      <td>Phacoemulsification (Phaco+IOL)</td>\n      <td>47</td>\n      <td>3</td>\n      <td>12</td>\n      <td>2018</td>\n      <td>51.0</td>\n      <td>8.510638</td>\n      <td>فاكو + زرع عدسه</td>\n    </tr>\n    <tr>\n      <td>11576</td>\n      <td>Phacoemulsification (Phaco+IOL)</td>\n      <td>44</td>\n      <td>11</td>\n      <td>12</td>\n      <td>2018</td>\n      <td>14.0</td>\n      <td>68.181818</td>\n      <td>فاكو + زرع عدسه</td>\n    </tr>\n    <tr>\n      <td>11589</td>\n      <td>Phacoemulsification (Phaco+IOL)</td>\n      <td>43</td>\n      <td>12</td>\n      <td>12</td>\n      <td>2018</td>\n      <td>43.0</td>\n      <td>0.000000</td>\n      <td>فاكو + زرع عدسه</td>\n    </tr>\n    <tr>\n      <td>11468</td>\n      <td>Phacoemulsification (Phaco+IOL)</td>\n      <td>42</td>\n      <td>2</td>\n      <td>12</td>\n      <td>2018</td>\n      <td>37.0</td>\n      <td>11.904762</td>\n      <td>فاكو + زرع عدسه</td>\n    </tr>\n    <tr>\n      <td>11642</td>\n      <td>Phacoemulsification (Phaco+IOL)</td>\n      <td>41</td>\n      <td>17</td>\n      <td>12</td>\n      <td>2018</td>\n      <td>43.0</td>\n      <td>4.878049</td>\n      <td>فاكو + زرع عدسه</td>\n    </tr>\n    <tr>\n      <td>11616</td>\n      <td>Phacoemulsification (Phaco+IOL)</td>\n      <td>40</td>\n      <td>15</td>\n      <td>12</td>\n      <td>2018</td>\n      <td>16.0</td>\n      <td>60.000000</td>\n      <td>فاكو + زرع عدسه</td>\n    </tr>\n    <tr>\n      <td>11495</td>\n      <td>Phacoemulsification (Phaco+IOL)</td>\n      <td>40</td>\n      <td>4</td>\n      <td>12</td>\n      <td>2018</td>\n      <td>39.0</td>\n      <td>2.500000</td>\n      <td>فاكو + زرع عدسه</td>\n    </tr>\n    <tr>\n      <td>11559</td>\n      <td>Phacoemulsification (Phaco+IOL)</td>\n      <td>38</td>\n      <td>10</td>\n      <td>12</td>\n      <td>2018</td>\n      <td>23.0</td>\n      <td>39.473684</td>\n      <td>فاكو + زرع عدسه</td>\n    </tr>\n  </tbody>\n</table>\n</div>"
     },
     "metadata": {},
     "execution_count": 24
    }
   ],
   "source": [
    "p1[0]"
   ]
  },
  {
   "cell_type": "markdown",
   "metadata": {},
   "source": [
    "2. **Support Vector Machine Regression**"
   ],
   "execution_count": null,
   "outputs": []
  },
  {
   "cell_type": "code",
   "execution_count": 28,
   "metadata": {},
   "outputs": [
    {
     "output_type": "stream",
     "name": "stdout",
     "text": "1 month predection MAE 4.6010873968289765\n1 month predection MAPE 89.59980573907436\nLast quarter year MAPE 87.18396885188683\nhalf year MAPE 84.08593429313036\n"
    }
   ],
   "source": [
    "svr = SVR()\n",
    "p2 = perform_daily_regression(svr)"
   ]
  },
  {
   "cell_type": "code",
   "execution_count": 29,
   "metadata": {},
   "outputs": [
    {
     "output_type": "execute_result",
     "data": {
      "text/plain": "                                        Service Name  Count  DayMonth  Month  \\\n11444                                Athens Protocol      1         1     12   \n11445     Deep Anterior Lamellar Keratoplasty (DALK)      1         1     12   \n11446                                    Femto-LASIK     15         1     12   \n11447              Intracorneal Ring Segments (ICRS)      1         1     12   \n11448                   Intravitreal Eylea Injection      5         1     12   \n...                                              ...    ...       ...    ...   \n11779  Laser-Assisted in Situ Keratomileusis (LASIK)      3        30     12   \n11780                Phacoemulsification (Phaco+IOL)     19        30     12   \n11781           Photorefractive Keratomileusis (PRK)      1        30     12   \n11782                       Removal of Sutures (ROS)      1        30     12   \n11783                                        Squint       4        30     12   \n\n       Year  predictions  Month_MAPE      Service Name AR  \n11444  2018     2.081705  108.170483    تثبيت قرنية + PRK  \n11445  2018     2.678478  167.847833         ترقيع قرنيه   \n11446  2018     4.364711   70.901925           فيمتو ليزك  \n11447  2018     2.163314  116.331377  حلقات + تثبيت قرنية  \n11448  2018     2.783171   44.336588            حقن إيليا  \n...     ...          ...         ...                  ...  \n11779  2018     5.709568   90.318943           REDO LASIK  \n11780  2018     5.263753   72.296038      فاكو + زرع عدسه  \n11781  2018     1.805793   80.579300                  PRK  \n11782  2018     1.845417   84.541706         ترقيع قرنيه   \n11783  2018     2.711072   32.223209                  NaN  \n\n[340 rows x 8 columns]",
      "text/html": "<div>\n<style scoped>\n    .dataframe tbody tr th:only-of-type {\n        vertical-align: middle;\n    }\n\n    .dataframe tbody tr th {\n        vertical-align: top;\n    }\n\n    .dataframe thead th {\n        text-align: right;\n    }\n</style>\n<table border=\"1\" class=\"dataframe\">\n  <thead>\n    <tr style=\"text-align: right;\">\n      <th></th>\n      <th>Service Name</th>\n      <th>Count</th>\n      <th>DayMonth</th>\n      <th>Month</th>\n      <th>Year</th>\n      <th>predictions</th>\n      <th>Month_MAPE</th>\n      <th>Service Name AR</th>\n    </tr>\n  </thead>\n  <tbody>\n    <tr>\n      <td>11444</td>\n      <td>Athens Protocol</td>\n      <td>1</td>\n      <td>1</td>\n      <td>12</td>\n      <td>2018</td>\n      <td>2.081705</td>\n      <td>108.170483</td>\n      <td>تثبيت قرنية + PRK</td>\n    </tr>\n    <tr>\n      <td>11445</td>\n      <td>Deep Anterior Lamellar Keratoplasty (DALK)</td>\n      <td>1</td>\n      <td>1</td>\n      <td>12</td>\n      <td>2018</td>\n      <td>2.678478</td>\n      <td>167.847833</td>\n      <td>ترقيع قرنيه</td>\n    </tr>\n    <tr>\n      <td>11446</td>\n      <td>Femto-LASIK</td>\n      <td>15</td>\n      <td>1</td>\n      <td>12</td>\n      <td>2018</td>\n      <td>4.364711</td>\n      <td>70.901925</td>\n      <td>فيمتو ليزك</td>\n    </tr>\n    <tr>\n      <td>11447</td>\n      <td>Intracorneal Ring Segments (ICRS)</td>\n      <td>1</td>\n      <td>1</td>\n      <td>12</td>\n      <td>2018</td>\n      <td>2.163314</td>\n      <td>116.331377</td>\n      <td>حلقات + تثبيت قرنية</td>\n    </tr>\n    <tr>\n      <td>11448</td>\n      <td>Intravitreal Eylea Injection</td>\n      <td>5</td>\n      <td>1</td>\n      <td>12</td>\n      <td>2018</td>\n      <td>2.783171</td>\n      <td>44.336588</td>\n      <td>حقن إيليا</td>\n    </tr>\n    <tr>\n      <td>...</td>\n      <td>...</td>\n      <td>...</td>\n      <td>...</td>\n      <td>...</td>\n      <td>...</td>\n      <td>...</td>\n      <td>...</td>\n      <td>...</td>\n    </tr>\n    <tr>\n      <td>11779</td>\n      <td>Laser-Assisted in Situ Keratomileusis (LASIK)</td>\n      <td>3</td>\n      <td>30</td>\n      <td>12</td>\n      <td>2018</td>\n      <td>5.709568</td>\n      <td>90.318943</td>\n      <td>REDO LASIK</td>\n    </tr>\n    <tr>\n      <td>11780</td>\n      <td>Phacoemulsification (Phaco+IOL)</td>\n      <td>19</td>\n      <td>30</td>\n      <td>12</td>\n      <td>2018</td>\n      <td>5.263753</td>\n      <td>72.296038</td>\n      <td>فاكو + زرع عدسه</td>\n    </tr>\n    <tr>\n      <td>11781</td>\n      <td>Photorefractive Keratomileusis (PRK)</td>\n      <td>1</td>\n      <td>30</td>\n      <td>12</td>\n      <td>2018</td>\n      <td>1.805793</td>\n      <td>80.579300</td>\n      <td>PRK</td>\n    </tr>\n    <tr>\n      <td>11782</td>\n      <td>Removal of Sutures (ROS)</td>\n      <td>1</td>\n      <td>30</td>\n      <td>12</td>\n      <td>2018</td>\n      <td>1.845417</td>\n      <td>84.541706</td>\n      <td>ترقيع قرنيه</td>\n    </tr>\n    <tr>\n      <td>11783</td>\n      <td>Squint</td>\n      <td>4</td>\n      <td>30</td>\n      <td>12</td>\n      <td>2018</td>\n      <td>2.711072</td>\n      <td>32.223209</td>\n      <td>NaN</td>\n    </tr>\n  </tbody>\n</table>\n<p>340 rows × 8 columns</p>\n</div>"
     },
     "metadata": {},
     "execution_count": 29
    }
   ],
   "source": [
    "p2[0]"
   ]
  },
  {
   "cell_type": "markdown",
   "metadata": {},
   "source": [
    "3. **AdaBoost Regression**"
   ],
   "execution_count": null,
   "outputs": []
  },
  {
   "cell_type": "code",
   "execution_count": 23,
   "metadata": {},
   "outputs": [],
   "source": [
    "# ada = AdaBoostRegressor(base_estimator=DecisionTreeRegressor(criterion='mae'), n_estimators=200, learning_rate=0.02, loss='square',random_state=72)\n",
    "# x=perform_weekly_regression(ada)\n",
    "# vis(x[0])"
   ]
  },
  {
   "cell_type": "code",
   "execution_count": 31,
   "metadata": {},
   "outputs": [
    {
     "output_type": "stream",
     "name": "stdout",
     "text": "1 month predection MAE 2.8411764705882354\n1 month predection MAPE 67.0230302917265\nLast quarter year MAPE 68.06829416207117\nhalf year MAPE 69.64026943018865\n"
    }
   ],
   "source": [
    "ada = AdaBoostRegressor(base_estimator=DecisionTreeRegressor(criterion='mae'), n_estimators=300, learning_rate=0.01, loss='square',random_state=7)\n",
    "x=perform_daily_regression(ada)\n",
    "# vis(x[0]) "
   ]
  },
  {
   "cell_type": "code",
   "execution_count": 32,
   "metadata": {},
   "outputs": [
    {
     "output_type": "execute_result",
     "data": {
      "text/plain": "                                        Service Name  Count  DayMonth  Month  \\\n11444                                Athens Protocol      1         1     12   \n11445     Deep Anterior Lamellar Keratoplasty (DALK)      1         1     12   \n11446                                    Femto-LASIK     15         1     12   \n11447              Intracorneal Ring Segments (ICRS)      1         1     12   \n11448                   Intravitreal Eylea Injection      5         1     12   \n...                                              ...    ...       ...    ...   \n11779  Laser-Assisted in Situ Keratomileusis (LASIK)      3        30     12   \n11780                Phacoemulsification (Phaco+IOL)     19        30     12   \n11781           Photorefractive Keratomileusis (PRK)      1        30     12   \n11782                       Removal of Sutures (ROS)      1        30     12   \n11783                                        Squint       4        30     12   \n\n       Year  predictions  Month_MAPE      Service Name AR  \n11444  2018          1.0    0.000000    تثبيت قرنية + PRK  \n11445  2018          2.0  100.000000         ترقيع قرنيه   \n11446  2018          9.0   40.000000           فيمتو ليزك  \n11447  2018          1.0    0.000000  حلقات + تثبيت قرنية  \n11448  2018          3.0   40.000000            حقن إيليا  \n...     ...          ...         ...                  ...  \n11779  2018          2.0   33.333333           REDO LASIK  \n11780  2018         38.0  100.000000      فاكو + زرع عدسه  \n11781  2018          1.0    0.000000                  PRK  \n11782  2018          1.0    0.000000         ترقيع قرنيه   \n11783  2018          4.0    0.000000                  NaN  \n\n[340 rows x 8 columns]",
      "text/html": "<div>\n<style scoped>\n    .dataframe tbody tr th:only-of-type {\n        vertical-align: middle;\n    }\n\n    .dataframe tbody tr th {\n        vertical-align: top;\n    }\n\n    .dataframe thead th {\n        text-align: right;\n    }\n</style>\n<table border=\"1\" class=\"dataframe\">\n  <thead>\n    <tr style=\"text-align: right;\">\n      <th></th>\n      <th>Service Name</th>\n      <th>Count</th>\n      <th>DayMonth</th>\n      <th>Month</th>\n      <th>Year</th>\n      <th>predictions</th>\n      <th>Month_MAPE</th>\n      <th>Service Name AR</th>\n    </tr>\n  </thead>\n  <tbody>\n    <tr>\n      <td>11444</td>\n      <td>Athens Protocol</td>\n      <td>1</td>\n      <td>1</td>\n      <td>12</td>\n      <td>2018</td>\n      <td>1.0</td>\n      <td>0.000000</td>\n      <td>تثبيت قرنية + PRK</td>\n    </tr>\n    <tr>\n      <td>11445</td>\n      <td>Deep Anterior Lamellar Keratoplasty (DALK)</td>\n      <td>1</td>\n      <td>1</td>\n      <td>12</td>\n      <td>2018</td>\n      <td>2.0</td>\n      <td>100.000000</td>\n      <td>ترقيع قرنيه</td>\n    </tr>\n    <tr>\n      <td>11446</td>\n      <td>Femto-LASIK</td>\n      <td>15</td>\n      <td>1</td>\n      <td>12</td>\n      <td>2018</td>\n      <td>9.0</td>\n      <td>40.000000</td>\n      <td>فيمتو ليزك</td>\n    </tr>\n    <tr>\n      <td>11447</td>\n      <td>Intracorneal Ring Segments (ICRS)</td>\n      <td>1</td>\n      <td>1</td>\n      <td>12</td>\n      <td>2018</td>\n      <td>1.0</td>\n      <td>0.000000</td>\n      <td>حلقات + تثبيت قرنية</td>\n    </tr>\n    <tr>\n      <td>11448</td>\n      <td>Intravitreal Eylea Injection</td>\n      <td>5</td>\n      <td>1</td>\n      <td>12</td>\n      <td>2018</td>\n      <td>3.0</td>\n      <td>40.000000</td>\n      <td>حقن إيليا</td>\n    </tr>\n    <tr>\n      <td>...</td>\n      <td>...</td>\n      <td>...</td>\n      <td>...</td>\n      <td>...</td>\n      <td>...</td>\n      <td>...</td>\n      <td>...</td>\n      <td>...</td>\n    </tr>\n    <tr>\n      <td>11779</td>\n      <td>Laser-Assisted in Situ Keratomileusis (LASIK)</td>\n      <td>3</td>\n      <td>30</td>\n      <td>12</td>\n      <td>2018</td>\n      <td>2.0</td>\n      <td>33.333333</td>\n      <td>REDO LASIK</td>\n    </tr>\n    <tr>\n      <td>11780</td>\n      <td>Phacoemulsification (Phaco+IOL)</td>\n      <td>19</td>\n      <td>30</td>\n      <td>12</td>\n      <td>2018</td>\n      <td>38.0</td>\n      <td>100.000000</td>\n      <td>فاكو + زرع عدسه</td>\n    </tr>\n    <tr>\n      <td>11781</td>\n      <td>Photorefractive Keratomileusis (PRK)</td>\n      <td>1</td>\n      <td>30</td>\n      <td>12</td>\n      <td>2018</td>\n      <td>1.0</td>\n      <td>0.000000</td>\n      <td>PRK</td>\n    </tr>\n    <tr>\n      <td>11782</td>\n      <td>Removal of Sutures (ROS)</td>\n      <td>1</td>\n      <td>30</td>\n      <td>12</td>\n      <td>2018</td>\n      <td>1.0</td>\n      <td>0.000000</td>\n      <td>ترقيع قرنيه</td>\n    </tr>\n    <tr>\n      <td>11783</td>\n      <td>Squint</td>\n      <td>4</td>\n      <td>30</td>\n      <td>12</td>\n      <td>2018</td>\n      <td>4.0</td>\n      <td>0.000000</td>\n      <td>NaN</td>\n    </tr>\n  </tbody>\n</table>\n<p>340 rows × 8 columns</p>\n</div>"
     },
     "metadata": {},
     "execution_count": 32
    }
   ],
   "source": [
    "x[0]"
   ]
  },
  {
   "cell_type": "code",
   "execution_count": 38,
   "metadata": {},
   "outputs": [
    {
     "output_type": "execute_result",
     "data": {
      "text/plain": "                          Service Name  Count  DayMonth  Month  Year  \\\n11657  Phacoemulsification (Phaco+IOL)     48        18     12  2018   \n11507  Phacoemulsification (Phaco+IOL)     47         5     12  2018   \n11480  Phacoemulsification (Phaco+IOL)     47         3     12  2018   \n11576  Phacoemulsification (Phaco+IOL)     44        11     12  2018   \n11589  Phacoemulsification (Phaco+IOL)     43        12     12  2018   \n11468  Phacoemulsification (Phaco+IOL)     42         2     12  2018   \n11642  Phacoemulsification (Phaco+IOL)     41        17     12  2018   \n11616  Phacoemulsification (Phaco+IOL)     40        15     12  2018   \n11495  Phacoemulsification (Phaco+IOL)     40         4     12  2018   \n11559  Phacoemulsification (Phaco+IOL)     38        10     12  2018   \n\n       predictions  Month_MAPE  Service Name AR  \n11657         41.0   14.583333  فاكو + زرع عدسه  \n11507         56.0   19.148936  فاكو + زرع عدسه  \n11480         51.0    8.510638  فاكو + زرع عدسه  \n11576         14.0   68.181818  فاكو + زرع عدسه  \n11589         43.0    0.000000  فاكو + زرع عدسه  \n11468         37.0   11.904762  فاكو + زرع عدسه  \n11642         43.0    4.878049  فاكو + زرع عدسه  \n11616         27.0   32.500000  فاكو + زرع عدسه  \n11495         39.0    2.500000  فاكو + زرع عدسه  \n11559         23.0   39.473684  فاكو + زرع عدسه  ",
      "text/html": "<div>\n<style scoped>\n    .dataframe tbody tr th:only-of-type {\n        vertical-align: middle;\n    }\n\n    .dataframe tbody tr th {\n        vertical-align: top;\n    }\n\n    .dataframe thead th {\n        text-align: right;\n    }\n</style>\n<table border=\"1\" class=\"dataframe\">\n  <thead>\n    <tr style=\"text-align: right;\">\n      <th></th>\n      <th>Service Name</th>\n      <th>Count</th>\n      <th>DayMonth</th>\n      <th>Month</th>\n      <th>Year</th>\n      <th>predictions</th>\n      <th>Month_MAPE</th>\n      <th>Service Name AR</th>\n    </tr>\n  </thead>\n  <tbody>\n    <tr>\n      <td>11657</td>\n      <td>Phacoemulsification (Phaco+IOL)</td>\n      <td>48</td>\n      <td>18</td>\n      <td>12</td>\n      <td>2018</td>\n      <td>41.0</td>\n      <td>14.583333</td>\n      <td>فاكو + زرع عدسه</td>\n    </tr>\n    <tr>\n      <td>11507</td>\n      <td>Phacoemulsification (Phaco+IOL)</td>\n      <td>47</td>\n      <td>5</td>\n      <td>12</td>\n      <td>2018</td>\n      <td>56.0</td>\n      <td>19.148936</td>\n      <td>فاكو + زرع عدسه</td>\n    </tr>\n    <tr>\n      <td>11480</td>\n      <td>Phacoemulsification (Phaco+IOL)</td>\n      <td>47</td>\n      <td>3</td>\n      <td>12</td>\n      <td>2018</td>\n      <td>51.0</td>\n      <td>8.510638</td>\n      <td>فاكو + زرع عدسه</td>\n    </tr>\n    <tr>\n      <td>11576</td>\n      <td>Phacoemulsification (Phaco+IOL)</td>\n      <td>44</td>\n      <td>11</td>\n      <td>12</td>\n      <td>2018</td>\n      <td>14.0</td>\n      <td>68.181818</td>\n      <td>فاكو + زرع عدسه</td>\n    </tr>\n    <tr>\n      <td>11589</td>\n      <td>Phacoemulsification (Phaco+IOL)</td>\n      <td>43</td>\n      <td>12</td>\n      <td>12</td>\n      <td>2018</td>\n      <td>43.0</td>\n      <td>0.000000</td>\n      <td>فاكو + زرع عدسه</td>\n    </tr>\n    <tr>\n      <td>11468</td>\n      <td>Phacoemulsification (Phaco+IOL)</td>\n      <td>42</td>\n      <td>2</td>\n      <td>12</td>\n      <td>2018</td>\n      <td>37.0</td>\n      <td>11.904762</td>\n      <td>فاكو + زرع عدسه</td>\n    </tr>\n    <tr>\n      <td>11642</td>\n      <td>Phacoemulsification (Phaco+IOL)</td>\n      <td>41</td>\n      <td>17</td>\n      <td>12</td>\n      <td>2018</td>\n      <td>43.0</td>\n      <td>4.878049</td>\n      <td>فاكو + زرع عدسه</td>\n    </tr>\n    <tr>\n      <td>11616</td>\n      <td>Phacoemulsification (Phaco+IOL)</td>\n      <td>40</td>\n      <td>15</td>\n      <td>12</td>\n      <td>2018</td>\n      <td>27.0</td>\n      <td>32.500000</td>\n      <td>فاكو + زرع عدسه</td>\n    </tr>\n    <tr>\n      <td>11495</td>\n      <td>Phacoemulsification (Phaco+IOL)</td>\n      <td>40</td>\n      <td>4</td>\n      <td>12</td>\n      <td>2018</td>\n      <td>39.0</td>\n      <td>2.500000</td>\n      <td>فاكو + زرع عدسه</td>\n    </tr>\n    <tr>\n      <td>11559</td>\n      <td>Phacoemulsification (Phaco+IOL)</td>\n      <td>38</td>\n      <td>10</td>\n      <td>12</td>\n      <td>2018</td>\n      <td>23.0</td>\n      <td>39.473684</td>\n      <td>فاكو + زرع عدسه</td>\n    </tr>\n  </tbody>\n</table>\n</div>"
     },
     "metadata": {},
     "execution_count": 38
    }
   ],
   "source": [
    "x[0].sort_values(['Count'], ascending=False)[:10]"
   ]
  },
  {
   "cell_type": "code",
   "execution_count": 25,
   "metadata": {},
   "outputs": [],
   "source": [
    "# xgb_model = xgb.XGBRegressor(objective=\"reg:squarederror\", random_state=7)\n",
    "# perform_monthly_regression(xgb_model)"
   ]
  },
  {
   "cell_type": "code",
   "execution_count": 26,
   "metadata": {},
   "outputs": [],
   "source": [
    "# gbc=GradientBoostingRegressor(n_estimators=500,max_depth=8,min_samples_split=2,loss=\"ls\",random_state=7)\n",
    "# perform_monthly_regression(gbc)"
   ]
  },
  {
   "cell_type": "markdown",
   "metadata": {},
   "source": [
    "** choosing the best Model  till now which is (ADABOOSTING) so We will pickle it **"
   ],
   "execution_count": null,
   "outputs": []
  },
  {
   "cell_type": "code",
   "execution_count": 27,
   "metadata": {},
   "outputs": [],
   "source": [
    "with open('./ada_regressor.pickle', 'wb') as f:\n",
    "    pickle.dump(ada, f)"
   ]
  },
  {
   "cell_type": "markdown",
   "metadata": {},
   "source": [
    "**Testing the pickled model**"
   ],
   "execution_count": null,
   "outputs": []
  },
  {
   "cell_type": "code",
   "execution_count": 28,
   "metadata": {},
   "outputs": [
    {
     "output_type": "error",
     "ename": "NameError",
     "evalue": "name 'monthly_split_index' is not defined",
     "traceback": [
      "\u001b[1;31m---------------------------------------------------------------------------\u001b[0m",
      "\u001b[1;31mNameError\u001b[0m                                 Traceback (most recent call last)",
      "\u001b[1;32m<ipython-input-28-3e21b3d53b1d>\u001b[0m in \u001b[0;36m<module>\u001b[1;34m\u001b[0m\n\u001b[0;32m      1\u001b[0m \u001b[1;32mwith\u001b[0m \u001b[0mopen\u001b[0m\u001b[1;33m(\u001b[0m\u001b[1;34m'./ada_regressor.pickle'\u001b[0m\u001b[1;33m,\u001b[0m \u001b[1;34m'rb'\u001b[0m\u001b[1;33m)\u001b[0m \u001b[1;32mas\u001b[0m \u001b[0mf\u001b[0m\u001b[1;33m:\u001b[0m\u001b[1;33m\u001b[0m\u001b[1;33m\u001b[0m\u001b[0m\n\u001b[0;32m      2\u001b[0m   \u001b[0mreg\u001b[0m \u001b[1;33m=\u001b[0m \u001b[0mpickle\u001b[0m\u001b[1;33m.\u001b[0m\u001b[0mload\u001b[0m\u001b[1;33m(\u001b[0m\u001b[0mf\u001b[0m\u001b[1;33m)\u001b[0m\u001b[1;33m\u001b[0m\u001b[1;33m\u001b[0m\u001b[0m\n\u001b[1;32m----> 3\u001b[1;33m \u001b[0mmonth\u001b[0m\u001b[1;33m=\u001b[0m\u001b[0mperform_monthly_regression\u001b[0m\u001b[1;33m(\u001b[0m\u001b[0mreg\u001b[0m\u001b[1;33m)\u001b[0m\u001b[1;33m\u001b[0m\u001b[1;33m\u001b[0m\u001b[0m\n\u001b[0m",
      "\u001b[1;32m<ipython-input-19-a3587d808417>\u001b[0m in \u001b[0;36mperform_monthly_regression\u001b[1;34m(regressor)\u001b[0m\n\u001b[0;32m      1\u001b[0m \u001b[1;32mdef\u001b[0m \u001b[0mperform_monthly_regression\u001b[0m\u001b[1;33m(\u001b[0m\u001b[0mregressor\u001b[0m\u001b[1;33m)\u001b[0m\u001b[1;33m:\u001b[0m\u001b[1;33m\u001b[0m\u001b[1;33m\u001b[0m\u001b[0m\n\u001b[0;32m      2\u001b[0m     \u001b[1;31m# regressor = DecisionTreeRegressor(random_state=0)\u001b[0m\u001b[1;33m\u001b[0m\u001b[1;33m\u001b[0m\u001b[1;33m\u001b[0m\u001b[0m\n\u001b[1;32m----> 3\u001b[1;33m     \u001b[0mX_train\u001b[0m\u001b[1;33m,\u001b[0m \u001b[0mX_test\u001b[0m\u001b[1;33m,\u001b[0m \u001b[0my_train\u001b[0m\u001b[1;33m,\u001b[0m \u001b[0my_test\u001b[0m\u001b[1;33m=\u001b[0m\u001b[0mget_X_y\u001b[0m\u001b[1;33m(\u001b[0m\u001b[0mmonthly_processed_data\u001b[0m\u001b[1;33m,\u001b[0m\u001b[0mmonthly_split_index\u001b[0m\u001b[1;33m)\u001b[0m\u001b[1;33m\u001b[0m\u001b[1;33m\u001b[0m\u001b[0m\n\u001b[0m\u001b[0;32m      4\u001b[0m     \u001b[0mregressor\u001b[0m\u001b[1;33m.\u001b[0m\u001b[0mfit\u001b[0m\u001b[1;33m(\u001b[0m\u001b[0mX_train\u001b[0m\u001b[1;33m,\u001b[0m \u001b[0my_train\u001b[0m\u001b[1;33m)\u001b[0m\u001b[1;33m\u001b[0m\u001b[1;33m\u001b[0m\u001b[0m\n\u001b[0;32m      5\u001b[0m     \u001b[1;31m# y_pred = regressor.predict(X_test)\u001b[0m\u001b[1;33m\u001b[0m\u001b[1;33m\u001b[0m\u001b[1;33m\u001b[0m\u001b[0m\n",
      "\u001b[1;31mNameError\u001b[0m: name 'monthly_split_index' is not defined"
     ]
    }
   ],
   "source": [
    "with open('./ada_regressor.pickle', 'rb') as f:\n",
    "  reg = pickle.load(f)\n",
    "month=perform_monthly_regression(reg)"
   ]
  },
  {
   "cell_type": "code",
   "execution_count": 29,
   "metadata": {},
   "outputs": [
    {
     "output_type": "error",
     "ename": "NameError",
     "evalue": "name 'weekly_split_index' is not defined",
     "traceback": [
      "\u001b[1;31m---------------------------------------------------------------------------\u001b[0m",
      "\u001b[1;31mNameError\u001b[0m                                 Traceback (most recent call last)",
      "\u001b[1;32m<ipython-input-29-d53ba00c1aee>\u001b[0m in \u001b[0;36m<module>\u001b[1;34m\u001b[0m\n\u001b[1;32m----> 1\u001b[1;33m \u001b[0mweek\u001b[0m\u001b[1;33m=\u001b[0m\u001b[0mperform_weekly_regression\u001b[0m\u001b[1;33m(\u001b[0m\u001b[0mreg\u001b[0m\u001b[1;33m)\u001b[0m\u001b[1;33m\u001b[0m\u001b[1;33m\u001b[0m\u001b[0m\n\u001b[0m",
      "\u001b[1;32m<ipython-input-18-56958d066cef>\u001b[0m in \u001b[0;36mperform_weekly_regression\u001b[1;34m(regressor)\u001b[0m\n\u001b[0;32m      1\u001b[0m \u001b[1;32mdef\u001b[0m \u001b[0mperform_weekly_regression\u001b[0m\u001b[1;33m(\u001b[0m\u001b[0mregressor\u001b[0m\u001b[1;33m)\u001b[0m\u001b[1;33m:\u001b[0m\u001b[1;33m\u001b[0m\u001b[1;33m\u001b[0m\u001b[0m\n\u001b[0;32m      2\u001b[0m     \u001b[1;31m# regressor = DecisionTreeRegressor(random_state=0)\u001b[0m\u001b[1;33m\u001b[0m\u001b[1;33m\u001b[0m\u001b[1;33m\u001b[0m\u001b[0m\n\u001b[1;32m----> 3\u001b[1;33m     \u001b[0mX_train\u001b[0m\u001b[1;33m,\u001b[0m \u001b[0mX_test\u001b[0m\u001b[1;33m,\u001b[0m \u001b[0my_train\u001b[0m\u001b[1;33m,\u001b[0m \u001b[0my_test\u001b[0m\u001b[1;33m=\u001b[0m\u001b[0mget_X_y\u001b[0m\u001b[1;33m(\u001b[0m\u001b[0mweekly_processed_data\u001b[0m\u001b[1;33m,\u001b[0m\u001b[0mweekly_split_index\u001b[0m\u001b[1;33m)\u001b[0m\u001b[1;33m\u001b[0m\u001b[1;33m\u001b[0m\u001b[0m\n\u001b[0m\u001b[0;32m      4\u001b[0m     \u001b[0mregressor\u001b[0m\u001b[1;33m.\u001b[0m\u001b[0mfit\u001b[0m\u001b[1;33m(\u001b[0m\u001b[0mX_train\u001b[0m\u001b[1;33m,\u001b[0m \u001b[0my_train\u001b[0m\u001b[1;33m)\u001b[0m\u001b[1;33m\u001b[0m\u001b[1;33m\u001b[0m\u001b[0m\n\u001b[0;32m      5\u001b[0m     \u001b[1;31m# y_pred = regressor.predict(X_test)\u001b[0m\u001b[1;33m\u001b[0m\u001b[1;33m\u001b[0m\u001b[1;33m\u001b[0m\u001b[0m\n",
      "\u001b[1;31mNameError\u001b[0m: name 'weekly_split_index' is not defined"
     ]
    }
   ],
   "source": [
    "week=perform_weekly_regression(reg)"
   ]
  },
  {
   "cell_type": "code",
   "execution_count": 30,
   "metadata": {},
   "outputs": [
    {
     "output_type": "error",
     "ename": "NameError",
     "evalue": "name 'week' is not defined",
     "traceback": [
      "\u001b[1;31m---------------------------------------------------------------------------\u001b[0m",
      "\u001b[1;31mNameError\u001b[0m                                 Traceback (most recent call last)",
      "\u001b[1;32m<ipython-input-30-5dacdb742a6e>\u001b[0m in \u001b[0;36m<module>\u001b[1;34m\u001b[0m\n\u001b[1;32m----> 1\u001b[1;33m \u001b[0mvis\u001b[0m\u001b[1;33m(\u001b[0m\u001b[0mweek\u001b[0m\u001b[1;33m[\u001b[0m\u001b[1;36m1\u001b[0m\u001b[1;33m]\u001b[0m\u001b[1;33m)\u001b[0m\u001b[1;33m\u001b[0m\u001b[1;33m\u001b[0m\u001b[0m\n\u001b[0m",
      "\u001b[1;31mNameError\u001b[0m: name 'week' is not defined"
     ]
    }
   ],
   "source": [
    "vis(week[1])"
   ]
  },
  {
   "cell_type": "code",
   "execution_count": 31,
   "metadata": {},
   "outputs": [
    {
     "output_type": "error",
     "ename": "NameError",
     "evalue": "name 'month' is not defined",
     "traceback": [
      "\u001b[1;31m---------------------------------------------------------------------------\u001b[0m",
      "\u001b[1;31mNameError\u001b[0m                                 Traceback (most recent call last)",
      "\u001b[1;32m<ipython-input-31-52566f64a2b6>\u001b[0m in \u001b[0;36m<module>\u001b[1;34m\u001b[0m\n\u001b[1;32m----> 1\u001b[1;33m \u001b[0mmonth\u001b[0m\u001b[1;33m[\u001b[0m\u001b[1;36m0\u001b[0m\u001b[1;33m]\u001b[0m\u001b[1;33m.\u001b[0m\u001b[0mhead\u001b[0m\u001b[1;33m(\u001b[0m\u001b[1;33m)\u001b[0m\u001b[1;33m\u001b[0m\u001b[1;33m\u001b[0m\u001b[0m\n\u001b[0m",
      "\u001b[1;31mNameError\u001b[0m: name 'month' is not defined"
     ]
    }
   ],
   "source": [
    "month[0].head()"
   ]
  },
  {
   "cell_type": "code",
   "execution_count": 32,
   "metadata": {},
   "outputs": [],
   "source": [
    "# week[0].to_csv(\"pred_one_week_ada.csv\",encoding='utf-8-sig')\n",
    "# month[0].to_csv(\"pred_one_month_ada.csv\",encoding='utf-8-sig')\n",
    "# quarter.to_csv(\"pred_last_quarter_ada.csv\",encoding='utf-8-sig')\n",
    "# half_year.to_csv(\"pred_half_year_ada.csv\",encoding='utf-8-sig')"
   ]
  },
  {
   "cell_type": "code",
   "execution_count": null,
   "metadata": {},
   "outputs": [],
   "source": []
  }
 ]
}