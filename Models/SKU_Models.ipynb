{
 "nbformat": 4,
 "nbformat_minor": 2,
 "metadata": {
  "language_info": {
   "name": "python",
   "codemirror_mode": {
    "name": "ipython",
    "version": 3
   },
   "version": "3.7.3-final"
  },
  "orig_nbformat": 2,
  "file_extension": ".py",
  "mimetype": "text/x-python",
  "name": "python",
  "npconvert_exporter": "python",
  "pygments_lexer": "ipython3",
  "version": 3,
  "kernelspec": {
   "name": "python3",
   "display_name": "Python 3"
  }
 },
 "cells": [
  {
   "cell_type": "code",
   "execution_count": 90,
   "metadata": {},
   "outputs": [],
   "source": [
    "import pandas as pd\n",
    "import numpy as np\n",
    "import matplotlib.pyplot as plt\n",
    "# from sklearn.ensemble import RandomForestRegressor\n",
    "# from sklearn.model_selection import train_test_split,GridSearchCV\n",
    "from sklearn.metrics import mean_absolute_error\n",
    "# from sklearn.preprocessing import OneHotEncoder\n",
    "from sklearn.tree import DecisionTreeRegressor\n",
    "# from sklearn.svm import SVR\n",
    "# from sklearn.ensemble import AdaBoostRegressor, GradientBoostingRegressor, ExtraTreesRegressor\n",
    "# import xgboost as xgb\n",
    "import pickle\n",
    "import plotly.graph_objects as go"
   ]
  },
  {
   "cell_type": "code",
   "execution_count": 91,
   "metadata": {},
   "outputs": [
    {
     "output_type": "execute_result",
     "data": {
      "text/plain": "              Name_AR  Average  Avg Unit Price\n0      ترقيع للملتحمه        8      382.701795\n1    D.C.R. - العينين       25      544.536480\n2  D.C.R. - عين واحدة       31      737.147449\n3               LASIK       64     1672.320222\n4              LASIK*        9      280.886588",
      "text/html": "<div>\n<style scoped>\n    .dataframe tbody tr th:only-of-type {\n        vertical-align: middle;\n    }\n\n    .dataframe tbody tr th {\n        vertical-align: top;\n    }\n\n    .dataframe thead th {\n        text-align: right;\n    }\n</style>\n<table border=\"1\" class=\"dataframe\">\n  <thead>\n    <tr style=\"text-align: right;\">\n      <th></th>\n      <th>Name_AR</th>\n      <th>Average</th>\n      <th>Avg Unit Price</th>\n    </tr>\n  </thead>\n  <tbody>\n    <tr>\n      <th>0</th>\n      <td>ترقيع للملتحمه</td>\n      <td>8</td>\n      <td>382.701795</td>\n    </tr>\n    <tr>\n      <th>1</th>\n      <td>D.C.R. - العينين</td>\n      <td>25</td>\n      <td>544.536480</td>\n    </tr>\n    <tr>\n      <th>2</th>\n      <td>D.C.R. - عين واحدة</td>\n      <td>31</td>\n      <td>737.147449</td>\n    </tr>\n    <tr>\n      <th>3</th>\n      <td>LASIK</td>\n      <td>64</td>\n      <td>1672.320222</td>\n    </tr>\n    <tr>\n      <th>4</th>\n      <td>LASIK*</td>\n      <td>9</td>\n      <td>280.886588</td>\n    </tr>\n  </tbody>\n</table>\n</div>"
     },
     "metadata": {},
     "execution_count": 91
    }
   ],
   "source": [
    "monthly_data=pd.read_csv(\"SKU_Monthly_training_data.csv\",usecols=[\"Name\",\"Month\",\"Year\",\"Count\"])\n",
    "weekly_data=pd.read_csv(\"SKU_Weekly_training_data.csv\",usecols=[\"Name\",\"Month\",\"Year\",\"Count\",\"wom\"])\n",
    "prices=pd.read_csv(\"proc_prices_table_2018.csv\",usecols=[\"Name\",\"Avg Unit Price\"],encoding='utf-8-sig')\n",
    "monthly_operations=pd.read_csv(\"Monthly_Training_Data.csv\",usecols=[\"Service Name\",\"Month\",\"Year\",\"Count\"],encoding='utf-8-sig')\n",
    "op_SKU=pd.read_csv(\"operation_SKUvalues.csv\",encoding='utf-8-sig')\n",
    "op_SKU.reset_index(drop=True,inplace=True)\n",
    "inv_df=pd.read_csv(\"Inventory_Cost.csv\",usecols=[\"Type\",\"Month\",\"Year\",\"Count\",\"Avg Unit Price\"])\n",
    "\n",
    "# print(weekly_data.shape,monthly_data.shape)\n",
    "op_SKU.head()"
   ]
  },
  {
   "cell_type": "code",
   "execution_count": 92,
   "metadata": {},
   "outputs": [
    {
     "output_type": "execute_result",
     "data": {
      "text/plain": "          Type  Month  Year  Inventory_count  Inventory_price\n0  أوبسيت صغير      1  2018             3100         9.333333\n1  أوبسيت صغير      2  2018             3620         9.333333\n2  أوبسيت صغير      3  2018             3220         9.333333\n3  أوبسيت صغير      4  2018             3520         9.333333\n4  أوبسيت صغير      5  2018             4020         9.333333",
      "text/html": "<div>\n<style scoped>\n    .dataframe tbody tr th:only-of-type {\n        vertical-align: middle;\n    }\n\n    .dataframe tbody tr th {\n        vertical-align: top;\n    }\n\n    .dataframe thead th {\n        text-align: right;\n    }\n</style>\n<table border=\"1\" class=\"dataframe\">\n  <thead>\n    <tr style=\"text-align: right;\">\n      <th></th>\n      <th>Type</th>\n      <th>Month</th>\n      <th>Year</th>\n      <th>Inventory_count</th>\n      <th>Inventory_price</th>\n    </tr>\n  </thead>\n  <tbody>\n    <tr>\n      <th>0</th>\n      <td>أوبسيت صغير</td>\n      <td>1</td>\n      <td>2018</td>\n      <td>3100</td>\n      <td>9.333333</td>\n    </tr>\n    <tr>\n      <th>1</th>\n      <td>أوبسيت صغير</td>\n      <td>2</td>\n      <td>2018</td>\n      <td>3620</td>\n      <td>9.333333</td>\n    </tr>\n    <tr>\n      <th>2</th>\n      <td>أوبسيت صغير</td>\n      <td>3</td>\n      <td>2018</td>\n      <td>3220</td>\n      <td>9.333333</td>\n    </tr>\n    <tr>\n      <th>3</th>\n      <td>أوبسيت صغير</td>\n      <td>4</td>\n      <td>2018</td>\n      <td>3520</td>\n      <td>9.333333</td>\n    </tr>\n    <tr>\n      <th>4</th>\n      <td>أوبسيت صغير</td>\n      <td>5</td>\n      <td>2018</td>\n      <td>4020</td>\n      <td>9.333333</td>\n    </tr>\n  </tbody>\n</table>\n</div>"
     },
     "metadata": {},
     "execution_count": 92
    }
   ],
   "source": [
    "inv_df.rename(columns={\"Avg Unit Price\":\"Inventory_price\",\"Count\":\"Inventory_count\"},inplace=True)\n",
    "inv_df.head()"
   ]
  },
  {
   "cell_type": "code",
   "execution_count": 93,
   "metadata": {},
   "outputs": [
    {
     "output_type": "execute_result",
     "data": {
      "text/plain": "37433.33333333333"
     },
     "metadata": {},
     "execution_count": 93
    }
   ],
   "source": [
    "prices[\"Avg Unit Price\"].max()"
   ]
  },
  {
   "cell_type": "code",
   "execution_count": 94,
   "metadata": {},
   "outputs": [],
   "source": [
    "# # monthly_data=monthly_data.sort_values(by=[\"Count\"],ascending=False).iloc[0:100]\n",
    "# monthly_data=monthly_data[(monthly_data['Year'] == 2018) & (monthly_data['Month'] == 12)]\n",
    "# monthly_data=monthly_data.sort_values(by=[\"Count\"],ascending=False).iloc[0:20]\n",
    "# monthly_data"
   ]
  },
  {
   "cell_type": "code",
   "execution_count": 95,
   "metadata": {},
   "outputs": [],
   "source": [
    "with open('operations_names_en_to_ar.pickle', 'rb') as f:\n",
    "    operations_names_en_to_ar = pickle.load(f)"
   ]
  },
  {
   "cell_type": "code",
   "execution_count": 96,
   "metadata": {},
   "outputs": [],
   "source": [
    "# Service_Names_to_index = {name : idx for idx, name in enumerate(weekly_data['Service Name'].unique())}\n",
    "# Service_Index_to_name= {idx : name for idx, name in enumerate(weekly_data['Service Name'].unique())}\n",
    "# monthly_Service_Index_to_name= {idx : name for idx, name in enumerate(weekly_data['Service Name'].unique())}"
   ]
  },
  {
   "cell_type": "code",
   "execution_count": 97,
   "metadata": {},
   "outputs": [],
   "source": [
    "def encode_monthly_names(df):\n",
    "    Service_Names_to_index = {name : idx for idx, name in enumerate(monthly_data['Name'].unique())}\n",
    "    df['Name']=df['Name'].map(Service_Names_to_index)\n",
    "    return df"
   ]
  },
  {
   "cell_type": "code",
   "execution_count": 98,
   "metadata": {},
   "outputs": [],
   "source": [
    "def decode_monthly_names(df):\n",
    "    Service_Index_to_name= {idx : name for idx, name in enumerate(monthly_data['Name'].unique())}\n",
    "    df['Name']=df['Name'].map(Service_Index_to_name)\n",
    "    return df"
   ]
  },
  {
   "cell_type": "code",
   "execution_count": 99,
   "metadata": {},
   "outputs": [],
   "source": [
    "def encode_weekly_names(df):\n",
    "    Service_Names_to_index = {name : idx for idx, name in enumerate(weekly_data['Name'].unique())}\n",
    "    df['Name']=df['Name'].map(Service_Names_to_index)\n",
    "    return df"
   ]
  },
  {
   "cell_type": "code",
   "execution_count": 100,
   "metadata": {},
   "outputs": [],
   "source": [
    "def decode_weekly_names(df):\n",
    "    Service_Index_to_name= {idx : name for idx, name in enumerate(weekly_data['Name'].unique())}\n",
    "    df['Name']=df['Name'].map(Service_Index_to_name)\n",
    "    return df"
   ]
  },
  {
   "cell_type": "code",
   "execution_count": 101,
   "metadata": {},
   "outputs": [
    {
     "output_type": "execute_result",
     "data": {
      "text/plain": "   Name  Count  Month  Year\n0     0      9      1  2016\n1     1      8      1  2016\n2     2      9      1  2016\n3     3      8      1  2016\n4     4    723      1  2016",
      "text/html": "<div>\n<style scoped>\n    .dataframe tbody tr th:only-of-type {\n        vertical-align: middle;\n    }\n\n    .dataframe tbody tr th {\n        vertical-align: top;\n    }\n\n    .dataframe thead th {\n        text-align: right;\n    }\n</style>\n<table border=\"1\" class=\"dataframe\">\n  <thead>\n    <tr style=\"text-align: right;\">\n      <th></th>\n      <th>Name</th>\n      <th>Count</th>\n      <th>Month</th>\n      <th>Year</th>\n    </tr>\n  </thead>\n  <tbody>\n    <tr>\n      <th>0</th>\n      <td>0</td>\n      <td>9</td>\n      <td>1</td>\n      <td>2016</td>\n    </tr>\n    <tr>\n      <th>1</th>\n      <td>1</td>\n      <td>8</td>\n      <td>1</td>\n      <td>2016</td>\n    </tr>\n    <tr>\n      <th>2</th>\n      <td>2</td>\n      <td>9</td>\n      <td>1</td>\n      <td>2016</td>\n    </tr>\n    <tr>\n      <th>3</th>\n      <td>3</td>\n      <td>8</td>\n      <td>1</td>\n      <td>2016</td>\n    </tr>\n    <tr>\n      <th>4</th>\n      <td>4</td>\n      <td>723</td>\n      <td>1</td>\n      <td>2016</td>\n    </tr>\n  </tbody>\n</table>\n</div>"
     },
     "metadata": {},
     "execution_count": 101
    }
   ],
   "source": [
    "weekly_processed_data = weekly_data.copy()\n",
    "weekly_processed_data=encode_weekly_names(weekly_processed_data)\n",
    "monthly_processed_data= monthly_data.copy()\n",
    "monthly_processed_data=encode_monthly_names(monthly_processed_data)\n",
    "monthly_processed_data.head()\n",
    "# monthly_processed_data=encode_monthly_names(monthly_data)"
   ]
  },
  {
   "cell_type": "code",
   "execution_count": 102,
   "metadata": {},
   "outputs": [],
   "source": [
    "# X=data.drop([\"Count\"],axis=1)\n",
    "# y=data[\"Count\"]"
   ]
  },
  {
   "cell_type": "code",
   "execution_count": 103,
   "metadata": {},
   "outputs": [
    {
     "output_type": "stream",
     "name": "stdout",
     "text": "24662\n"
    }
   ],
   "source": [
    "monthly_split_index = monthly_processed_data[(monthly_processed_data['Year'] == 2018) & (monthly_processed_data['Month'] == 10)].iloc[-1].name\n",
    "weekly_split_index = weekly_processed_data[(weekly_processed_data['Year'] == 2018) & (weekly_processed_data['Month'] == 11)].iloc[-1].name\n",
    "print(monthly_split_index)"
   ]
  },
  {
   "cell_type": "code",
   "execution_count": 104,
   "metadata": {},
   "outputs": [],
   "source": [
    "# X_train, X_test, y_train, y_test=train_test_split(X,y,test_size=0.2,random_state=42)\n",
    "def get_X_y(df,split_index):\n",
    "    X_train = df.iloc[:split_index].drop('Count', axis=1)\n",
    "    X_test = df.iloc[split_index:].drop('Count', axis=1)\n",
    "\n",
    "    y_train = df.iloc[:split_index]['Count']\n",
    "    y_test = df.iloc[split_index:]['Count']\n",
    "\n",
    "    return X_train, X_test, y_train, y_test\n",
    ""
   ]
  },
  {
   "cell_type": "code",
   "execution_count": 105,
   "metadata": {},
   "outputs": [],
   "source": [
    "def mean_absolute_percentage_error(y_true, y_pred): \n",
    "    y_true, y_pred = np.array(y_true), np.array(y_pred)\n",
    "    return np.mean(np.abs((y_true - y_pred) / y_true)) * 100"
   ]
  },
  {
   "cell_type": "code",
   "execution_count": 129,
   "metadata": {},
   "outputs": [],
   "source": [
    "def element_mean_absolute_percentage_error(y_true, y_pred): \n",
    "    y_true, y_pred = np.array(y_true), np.array(y_pred)\n",
    "    return (np.abs((y_true - y_pred) / y_true)) * 100"
   ]
  },
  {
   "cell_type": "code",
   "execution_count": 106,
   "metadata": {},
   "outputs": [],
   "source": [
    "# weekly_processed_data[(weekly_processed_data['Year'] == 2018) & (weekly_processed_data['Month'] == 12) & (weekly_processed_data['wom'] == 1) & (weekly_processed_data['wom'] == 2)]"
   ]
  },
  {
   "cell_type": "code",
   "execution_count": 122,
   "metadata": {},
   "outputs": [],
   "source": [
    "def weekly_prediction_cases(regressor):\n",
    "     week_ahead = weekly_processed_data[(weekly_processed_data['Year'] == 2018) & (weekly_processed_data['Month'] == 12) & (weekly_processed_data['wom'] == 1)]\n",
    "     \n",
    "     two_weeks_ahead = weekly_processed_data[(weekly_processed_data['Year'] == 2018) & (weekly_processed_data['Month'] == 12) & ((weekly_processed_data['wom'] == 1) | (weekly_processed_data['wom'] == 2))]\n",
    "     \n",
    "\n",
    "     week_ahead_pred = regressor.predict(week_ahead.drop('Count', axis=1))\n",
    "     two_weeks_ahead_pred = regressor.predict(two_weeks_ahead.drop('Count', axis=1))\n",
    "     # half_year_pred = regressor.predict(half_year.drop('Count', axis=1))\n",
    "     \n",
    "     err = mean_absolute_error(week_ahead['Count'], week_ahead_pred)\n",
    "     week_ahead_MAPE = mean_absolute_percentage_error(week_ahead['Count'], week_ahead_pred)\n",
    "     two_weeks_ahead_MAPE = mean_absolute_percentage_error( two_weeks_ahead['Count'], two_weeks_ahead_pred)\n",
    "     # half_year_MAPE = mean_absolute_percentage_error(half_year['Count'], half_year_pred) \n",
    "     \n",
    "     week_ahead[\"predictions\"]=week_ahead_pred\n",
    "     two_weeks_ahead[\"predictions\"]=two_weeks_ahead_pred\n",
    "     # half_year[\"predictions\"]=half_year_pred\n",
    "     week_ahead=decode_weekly_names(week_ahead)\n",
    "     two_weeks_ahead=decode_weekly_names(two_weeks_ahead)\n",
    "\n",
    "\n",
    "     week_ahead=week_ahead.merge(prices,on=[\"Name\"])\n",
    "     week_ahead[\"Actual_month_Cost\"]=week_ahead.Count * week_ahead[\"Avg Unit Price\"]\n",
    "     week_ahead[\"Prediction_month_Cost\"]=week_ahead.predictions * week_ahead[\"Avg Unit Price\"]\n",
    "\n",
    "\n",
    "     week_ahead[\"Actual_month_Cost\"]=week_ahead.Count * week_ahead[\"Avg Unit Price\"]\n",
    "     week_ahead[\"Prediction_month_Cost\"]=week_ahead.predictions * week_ahead[\"Avg Unit Price\"]     \n",
    "\n",
    "\n",
    "     # half_year['Service Name']=half_year['Service Name'].map(Service_Index_to_name)\n",
    "\n",
    "     # week_ahead['Service Name AR']=week_ahead['Service Name'].map(operations_names_en_to_ar)\n",
    "     # two_weeks_ahead['Service Name AR']=two_weeks_ahead['Service Name'].map(operations_names_en_to_ar)\n",
    "     # half_year['Service Name AR']=half_year['Service Name'].map(operations_names_en_to_ar)     \n",
    "\n",
    "     return err,week_ahead_MAPE, two_weeks_ahead_MAPE, week_ahead, two_weeks_ahead"
   ]
  },
  {
   "cell_type": "code",
   "execution_count": 123,
   "metadata": {},
   "outputs": [],
   "source": [
    "def monthly_prediction_cases(regressor):\n",
    "     month_ahead = monthly_processed_data[(monthly_processed_data['Year'] == 2018) & (monthly_processed_data['Month'] == 12)]\n",
    "     #.sort_values(by=[\"Count\"],ascending=False).iloc[0:10]\n",
    "     \n",
    "     quarter_year = monthly_processed_data[(monthly_processed_data['Year'] == 2018) & (monthly_processed_data['Month'] >= 9)]\n",
    "     \n",
    "     half_year = monthly_processed_data[(monthly_processed_data['Year'] == 2018) & (monthly_processed_data['Month'] >= 7)]\n",
    "\n",
    "     month_ahead_pred = regressor.predict(month_ahead.drop('Count', axis=1))\n",
    "     quarter_year_pred = regressor.predict(quarter_year.drop('Count', axis=1))\n",
    "     half_year_pred = regressor.predict(half_year.drop('Count', axis=1))\n",
    "     \n",
    "     err = mean_absolute_error(month_ahead['Count'], month_ahead_pred)\n",
    "     month_MAPE = mean_absolute_percentage_error(month_ahead['Count'], month_ahead_pred)\n",
    "     quarter_year_MAPE = mean_absolute_percentage_error( quarter_year['Count'], quarter_year_pred)\n",
    "     half_year_MAPE = mean_absolute_percentage_error(half_year['Count'], half_year_pred) \n",
    "     \n",
    "     month_ahead[\"predictions\"]=month_ahead_pred\n",
    "     quarter_year[\"predictions\"]=quarter_year_pred\n",
    "     half_year[\"predictions\"]=half_year_pred\n",
    "\n",
    "     month_ahead=decode_monthly_names(month_ahead)\n",
    "     quarter_year=decode_monthly_names(quarter_year)\n",
    "     half_year=decode_monthly_names(half_year)\n",
    "\n",
    "     month_MAPE = mean_absolute_percentage_error(month_ahead['Count'], month_ahead_pred)\n",
    "     element_month_MAPE = element_mean_absolute_percentage_error(month_ahead['Count'], month_ahead_pred)\n",
    "     month_ahead[\"Month_MAPE\"]=element_month_MAPE\n",
    "\n",
    "     month_ahead=month_ahead.merge(prices,on=[\"Name\"])\n",
    "     month_ahead[\"Actual_month_Cost\"]=month_ahead.Count * month_ahead[\"Avg Unit Price\"]\n",
    "     month_ahead[\"Prediction_month_Cost\"]=month_ahead.predictions * month_ahead[\"Avg Unit Price\"]\n",
    "\n",
    "     month_ahead=month_ahead.merge(inv_df,left_on=[\"Name\",\"Month\",\"Year\"],right_on=[\"Type\",\"Month\",\"Year\"])\n",
    "     month_ahead[\"Inventory_month_Cost\"]=month_ahead.Inventory_count * month_ahead.Inventory_price\n",
    "\n",
    "\n",
    "     month_ahead[\"subtract_inventory_prediction\"]=  month_ahead[\"Inventory_month_Cost\"] -month_ahead[\"Prediction_month_Cost\"]\n",
    "     month_ahead[\"subtract_inventory_actual\"]=  month_ahead[\"Inventory_month_Cost\"]- month_ahead[\"Actual_month_Cost\"]\n",
    "\n",
    "\n",
    "     # month_ahead['Service Name']=month_ahead['Service Name'].map(Service_Index_to_name)\n",
    "     # quarter_year['Service Name']=quarter_year['Service Name'].map(Service_Index_to_name)\n",
    "     # half_year['Service Name']=half_year['Service Name'].map(Service_Index_to_name)\n",
    "     \n",
    "\n",
    "     # month_ahead['Service Name AR']=month_ahead['Service Name'].map(operations_names_en_to_ar)\n",
    "     # quarter_year['Service Name AR']=quarter_year['Service Name'].map(operations_names_en_to_ar)\n",
    "     # half_year['Service Name AR']=half_year['Service Name'].map(operations_names_en_to_ar)     \n",
    "     # month_ahead['MAPE']=\n",
    "\n",
    "\n",
    "     return err,month_MAPE,quarter_year_MAPE, half_year_MAPE, month_ahead,quarter_year, half_year"
   ]
  },
  {
   "cell_type": "code",
   "execution_count": 124,
   "metadata": {},
   "outputs": [],
   "source": [
    "def perform_weekly_regression(regressor):\n",
    "    # regressor = DecisionTreeRegressor(random_state=0)\n",
    "    X_train, X_test, y_train, y_test=get_X_y(weekly_processed_data,weekly_split_index)\n",
    "    regressor.fit(X_train, y_train)\n",
    "    # y_pred = regressor.predict(X_test)\n",
    "    # print(f'Total MAE {mean_absolute_percentage_error(y_pred, y_test)}')\n",
    "    err,week_ahead_MAPE, two_weeks_ahead_MAPE, week_ahead, two_weeks_ahead= weekly_prediction_cases(regressor)\n",
    "\n",
    "    print(f'1 week predection MAE {err}')\n",
    "    print(f'1 week predection MAPE {week_ahead_MAPE}')\n",
    "    print(f'2 weeks predection MAPE {two_weeks_ahead_MAPE}')\n",
    "    # print(f'half year MAPE {half_year_MAPE}')\n",
    "    return week_ahead, two_weeks_ahead"
   ]
  },
  {
   "cell_type": "code",
   "execution_count": 125,
   "metadata": {},
   "outputs": [],
   "source": [
    "def perform_monthly_regression(regressor):\n",
    "    # regressor = DecisionTreeRegressor(random_state=0)\n",
    "    X_train, X_test, y_train, y_test=get_X_y(monthly_processed_data,monthly_split_index)\n",
    "    regressor.fit(X_train, y_train)\n",
    "    # y_pred = regressor.predict(X_test)\n",
    "    # print(f'Total MAE {mean_absolute_percentage_error(y_pred, y_test)}')\n",
    "    err,month_MAPE,quarter_year_MAPE, half_year_MAPE, month_ahead,quarter_year, half_year = monthly_prediction_cases(regressor)\n",
    "\n",
    "    print(f'1 month predection MAE {err}')\n",
    "    print(f'1 month predection MAPE {month_MAPE}')\n",
    "    print(f'Last quarter year MAPE {quarter_year_MAPE}')\n",
    "    print(f'half year MAPE {half_year_MAPE}')\n",
    "    return month_ahead,quarter_year, half_year"
   ]
  },
  {
   "cell_type": "code",
   "execution_count": null,
   "metadata": {},
   "outputs": [],
   "source": []
  },
  {
   "cell_type": "code",
   "execution_count": 111,
   "metadata": {},
   "outputs": [],
   "source": [
    "def vis(df):\n",
    "    fig = go.Figure(data=[\n",
    "                        go.Bar(name = 'Real Data', x=df[\"Name\"], y=df[\"Count\"], marker_color='#800000'),\n",
    "                        go.Bar(name = 'Predicted', x=df[\"Name\"], y=df[\"predictions\"], marker_color='#228B22'),\n",
    "\n",
    "    ])\n",
    "\n",
    "    fig.update_layout(barmode='group',width=1200, height=400)\n",
    "    return fig.show()"
   ]
  },
  {
   "cell_type": "markdown",
   "metadata": {},
   "source": [
    "1. **Decision Tree Regression**"
   ],
   "execution_count": null,
   "outputs": []
  },
  {
   "cell_type": "code",
   "execution_count": 112,
   "metadata": {},
   "outputs": [
    {
     "output_type": "stream",
     "name": "stdout",
     "text": "1 week predection MAE 67.01388888888889\n1 week predection MAPE 41.572943485682536\n2 weeks predection MAPE 38.95491496693732\n"
    }
   ],
   "source": [
    "regressor = DecisionTreeRegressor(random_state=0)\n",
    "tw=perform_weekly_regression(regressor)"
   ]
  },
  {
   "cell_type": "code",
   "execution_count": 25,
   "metadata": {},
   "outputs": [
    {
     "output_type": "display_data",
     "data": {
      "application/vnd.plotly.v1+json": {
       "config": {
        "plotlyServerURL": "https://plot.ly"
       },
       "data": [
        {
         "marker": {
          "color": "#800000"
         },
         "name": "Real Data",
         "type": "bar",
         "x": [
          "\tبانش 7.75\t",
          "\tبانش 8\t",
          "\tبانش 8.25\t",
          "\tبانش 8.5\t",
          "\tبروب أمامى Centurion\t",
          "\tترفاين 7.25\t",
          "\tترفاين 7.5\t",
          "\tترفاين 7.75\t",
          "\tترفاين 8\t",
          "\tترفاين 8.25\t",
          "\tحلقات رينج 160 م20\t",
          "\tحلقات رينج 160 م25\t",
          "\tحلقات رينج 160 م30\t",
          "\tحلقات رينج 210 م20\t",
          "\tحلقات رينج 210 م25\t",
          "\tحلقات رينج 210 م30\t",
          "\tكاسيت Centurion\t",
          "\tكاسيت LENSX - لانزيكس\t",
          " إيثيلون 10/0- 1770",
          "ArtiFlex (-8.5) ",
          "Artisan (-11) ",
          "Artisan (-12.5) ",
          "Artisan (-13) ",
          "Artisan (-14.5) ",
          "Artisan (-16) ",
          "Artisan Ap11",
          "Artisan Ap12",
          "Artisan Ap14",
          "Artisan Ap15",
          "Artisan Ap16",
          "Artisan Ap17",
          "Artisan Ap18",
          "Artisan Ap19",
          "Artisan Ap20",
          "Artisan Ap21",
          "Artisan Ap23",
          "Artisan Ap24",
          "Artisan Ap6",
          "Artisan Ap7",
          "Capsul Tension ",
          "ICLSTAAR 12.1 -10",
          "ICLSTAAR 12.1 -11",
          "ICLSTAAR 12.1 -12",
          "ICLSTAAR 12.1 -14",
          "ICLSTAAR 12.1 -15",
          "ICLSTAAR 12.1 -16",
          "ICLSTAAR 12.1 -17",
          "ICLSTAAR 12.1 -18",
          "ICLSTAAR 12.6 -10",
          "ICLSTAAR 12.6 -11",
          "ICLSTAAR 12.6 -12",
          "ICLSTAAR 12.6 -13",
          "ICLSTAAR 12.6 -14",
          "ICLSTAAR 12.6 -15",
          "ICLSTAAR 12.6 -16",
          "ICLSTAAR 12.6 -17",
          "ICLSTAAR 12.6 -18",
          "ICLSTAAR 12.6 -5",
          "ICLSTAAR 12.6 -5.5",
          "ICLSTAAR 12.6 -6",
          "ICLSTAAR 12.6 -6.5",
          "ICLSTAAR 12.6 -7",
          "ICLSTAAR 12.6 -7.5",
          "ICLSTAAR 12.6 -8",
          "ICLSTAAR 12.6 -9",
          "ICLSTAAR 12.6-11.5",
          "ICLSTAAR 12.6-12.5",
          "ICLSTAAR 12.6-8.5",
          "ICLSTAAR 12.6-9.5",
          "ICLSTAAR 13.2 -10",
          "ICLSTAAR 13.2 -11",
          "ICLSTAAR 13.2 -11.5",
          "ICLSTAAR 13.2 -12",
          "ICLSTAAR 13.2 -12.5",
          "ICLSTAAR 13.2 -13",
          "ICLSTAAR 13.2 -14",
          "ICLSTAAR 13.2 -15",
          "ICLSTAAR 13.2 -16",
          "ICLSTAAR 13.2 -17",
          "ICLSTAAR 13.2 -18",
          "ICLSTAAR 13.2 -5",
          "ICLSTAAR 13.2 -5.5",
          "ICLSTAAR 13.2 -7",
          "ICLSTAAR 13.2 -7.5",
          "ICLSTAAR 13.2 -8",
          "ICLSTAAR 13.2 -9",
          "ICLSTAAR 13.2-6",
          "ICLSTAAR 13.2-8.5",
          "ICLSTAAR 13.2-9.5",
          "ICLSTAAR 13.7 -6",
          "MI60P(0)",
          "MI60P(1)",
          "MI60P(10)",
          "MI60P(10.5)",
          "MI60P(11)",
          "MI60P(11.5)",
          "MI60P(12)",
          "MI60P(12.5)",
          "MI60P(13)",
          "MI60P(13.5)",
          "MI60P(14)",
          "MI60P(14.5)",
          "MI60P(15)",
          "MI60P(15.5)",
          "MI60P(16)",
          "MI60P(16.5)",
          "MI60P(17)",
          "MI60P(17.5)",
          "MI60P(18)",
          "MI60P(18.5)",
          "MI60P(19)",
          "MI60P(19.5)",
          "MI60P(2)",
          "MI60P(20)",
          "MI60P(20.5)",
          "MI60P(21)",
          "MI60P(21.5)",
          "MI60P(22)",
          "MI60P(22.5)",
          "MI60P(23)",
          "MI60P(23.5)",
          "MI60P(24)",
          "MI60P(24.5)",
          "MI60P(25)",
          "MI60P(25.5)",
          "MI60P(26)",
          "MI60P(26.5)",
          "MI60P(27)",
          "MI60P(27.5)",
          "MI60P(28)",
          "MI60P(28.5)",
          "MI60P(29)",
          "MI60P(29.5)",
          "MI60P(3)",
          "MI60P(30)",
          "MI60P(4)",
          "MI60P(5)",
          "MI60P(6)",
          "MI60P(7)",
          "MI60P(8)",
          "MI60P(9)",
          "Malyugin Ring",
          "OCUFLEX (-5) ",
          "OCUFLEX (0) ",
          "OCUFLEX (1) ",
          "OCUFLEX (10) ",
          "OCUFLEX (11) ",
          "OCUFLEX (12) ",
          "OCUFLEX (13) ",
          "OCUFLEX (14) ",
          "OCUFLEX (15) ",
          "OCUFLEX (16) ",
          "OCUFLEX (17) ",
          "OCUFLEX (18) ",
          "OCUFLEX (19) ",
          "OCUFLEX (2) ",
          "OCUFLEX (20) ",
          "OCUFLEX (21) ",
          "OCUFLEX (22) ",
          "OCUFLEX (23) ",
          "OCUFLEX (24) ",
          "OCUFLEX (25) ",
          "OCUFLEX (26) ",
          "OCUFLEX (27) ",
          "OCUFLEX (28) ",
          "OCUFLEX (3) ",
          "OCUFLEX (4) ",
          "OCUFLEX (5) ",
          "OCUFLEX (6) ",
          "OCUFLEX (8) ",
          "OCUFLEX (9) ",
          "OROFLEX (-2) ",
          "OROFLEX (-3) ",
          "OROFLEX (-5) ",
          "OROFLEX (1) ",
          "OROFLEX (10) ",
          "OROFLEX (11) ",
          "OROFLEX (13) ",
          "OROFLEX (14) ",
          "OROFLEX (15) ",
          "OROFLEX (16) ",
          "OROFLEX (17) ",
          "OROFLEX (18) ",
          "OROFLEX (19) ",
          "OROFLEX (2) ",
          "OROFLEX (20) ",
          "OROFLEX (21) ",
          "OROFLEX (22) ",
          "OROFLEX (23) ",
          "OROFLEX (24) ",
          "OROFLEX (25) ",
          "OROFLEX (3) ",
          "OROFLEX (4) ",
          "OROFLEX (5) ",
          "OROFLEX (6) ",
          "OROFLEX (7) ",
          "OROFLEX (8) ",
          "OROFLEX (9) ",
          "Optiflex(16)",
          "Optiflex(16.5)",
          "Optiflex(17)",
          "Optiflex(18)",
          "Optiflex(19)",
          "Optiflex(20)",
          "Optiflex(21)",
          "Optiflex(22)",
          "Optiflex(23)",
          "Optiflex(24)",
          "Optiflex(25)",
          "Optiflex(26)",
          "Optiflex(3)",
          "Optiflex(30)",
          "Optiflex(4)",
          "Optiflex(5)",
          "Optiflex(6)",
          "Optiflex(8)",
          "POD14",
          "POD21.5",
          "POD22",
          "POD22.5",
          "Punctal Plug",
          "SA60AT (10) ",
          "SA60AT (10.5) ",
          "SA60AT (11) ",
          "SA60AT (12) ",
          "SA60AT (12.5) ",
          "SA60AT (13) ",
          "SA60AT (13.5) ",
          "SA60AT (14) ",
          "SA60AT (14.5) ",
          "SA60AT (15) ",
          "SA60AT (15.5) ",
          "SA60AT (16) ",
          "SA60AT (16.5) ",
          "SA60AT (17) ",
          "SA60AT (17.5) ",
          "SA60AT (18) ",
          "SA60AT (18.5) ",
          "SA60AT (19) ",
          "SA60AT (19.5) ",
          "SA60AT (20) ",
          "SA60AT (20.5) ",
          "SA60AT (21) ",
          "SA60AT (21.5) ",
          "SA60AT (22) ",
          "SA60AT (22.5) ",
          "SA60AT (23) ",
          "SA60AT (23.5) ",
          "SA60AT (24) ",
          "SA60AT (24.5) ",
          "SA60AT (25) ",
          "SA60AT (25.5) ",
          "SA60AT (26) ",
          "SA60AT (26.5) ",
          "SA60AT (27) ",
          "SA60AT (27.5) ",
          "SA60AT (28) ",
          "SA60AT (28.5) ",
          "SA60AT (29) ",
          "SA60AT (29.5) ",
          "SA60AT (30) ",
          "SA60AT (31) ",
          "SA60AT (32) ",
          "SA60AT (33) ",
          "SA60AT (34) ",
          "SA60AT (35) ",
          "SA60AT (36) ",
          "SA60AT (37) ",
          "SA60AT (39) ",
          "SA60AT (40) ",
          "SA60AT (6) ",
          "SA60AT (7) ",
          "SA60AT (8) ",
          "SA60AT (8.5) ",
          "SA60AT (9) ",
          "SA60AT (9.5) ",
          "SN60T2(19)",
          "SN60T3 (12) ",
          "SN60T3 (12.5) ",
          "SN60T3 (13) ",
          "SN60T3 (13.5) ",
          "SN60T3 (14) ",
          "SN60T3 (14.5) ",
          "SN60T3 (15) ",
          "SN60T3 (15.5) ",
          "SN60T3 (16) ",
          "SN60T3 (16.5) ",
          "SN60T3 (17) ",
          "SN60T3 (17.5) ",
          "SN60T3 (18) ",
          "SN60T3 (18.5) ",
          "SN60T3 (19) ",
          "SN60T3 (19.5) ",
          "SN60T3 (20) ",
          "SN60T3 (20.5) ",
          "SN60T3 (21) ",
          "SN60T3 (21.5) ",
          "SN60T3 (22) ",
          "SN60T3 (22.5) ",
          "SN60T3 (23) ",
          "SN60T3 (23.5) ",
          "SN60T3 (24) ",
          "SN60T3 (24.5) ",
          "SN60T3 (25) ",
          "SN60T3 (25.5) ",
          "SN60T3 (26) ",
          "SN60T3 (27) ",
          "SN60T3 (28.5) ",
          "SN60T3(27.5)",
          "SN60T4 (15.5) ",
          "SN60T4 (16) ",
          "SN60T4 (16.5) ",
          "SN60T4 (17) ",
          "SN60T4 (18) ",
          "SN60T4 (18.5) ",
          "SN60T4 (19) ",
          "SN60T4 (20) ",
          "SN60T4 (20.5) ",
          "SN60T4 (21) ",
          "SN60T4 (21.5) ",
          "SN60T4 (22) ",
          "SN60T4 (22.5) ",
          "SN60T4 (23.5) ",
          "SN60T4 (24) ",
          "SN60T4 (26) ",
          "SN60T4 (26.5) ",
          "SN60T4 (27) ",
          "SN60T4 (29) ",
          "SN60T5 (16) ",
          "SN60T5 (16.5) ",
          "SN60T5 (17) ",
          "SN60T5 (18) ",
          "SN60T5 (19) ",
          "SN60T5 (19.5) ",
          "SN60T5 (21) ",
          "SN60T5 (22) ",
          "SN60T5 (22.5) ",
          "SN60T5 (24) ",
          "SN60T5 (24.5) ",
          "SN60T5 (25) ",
          "SN60T5 (25.5) ",
          "SN60T5 (27.5) ",
          "SN60T6 (13) ",
          "SN60T6 (15.5) ",
          "SN60T6 (16) ",
          "SN60T6 (16.5) ",
          "SN60T6 (17) ",
          "SN60T6 (18) ",
          "SN60T6 (18.5) ",
          "SN60T6 (19) ",
          "SN60T6 (19.5) ",
          "SN60T6 (21.5) ",
          "SN60T6 (22) ",
          "SN60T6 (23) ",
          "SN60T6 (24) ",
          "SN60T6 (24.5) ",
          "SN60T6 (25) ",
          "SN60T6 (27.5) ",
          "SN60T6 (28) ",
          "SN60T6 (28.5) ",
          "SN60T7 (15.5) ",
          "SN60T7 (16.5) ",
          "SN60T7 (18.5) ",
          "SN60T7 (20.5) ",
          "SN60T7 (21.5) ",
          "SN60T7 (22.5) ",
          "SN60T7 (23.5) ",
          "SN60T7 (24) ",
          "SN60T7 (24.5) ",
          "SN60T8 (18.5) ",
          "SN60T8 (19) ",
          "SN60T8 (19.5) ",
          "SN60T8 (22) ",
          "SN60T8 (6.5) ",
          "SN60T9 (24) ",
          "SN60T9 (24.5) ",
          "SN60WF (17) ",
          "SN60WF (18) ",
          "SN60WF (19) ",
          "SN60WF (20) ",
          "SN60WF (21) ",
          "SN60WF (22) ",
          "SN60WF (23) ",
          "SN60WF (24) ",
          "SN60WF (25) ",
          "Sensar Expend (-1) ",
          "Sensar Expend (-10) ",
          "Sensar Expend (-2) ",
          "Sensar Expend (-3) ",
          "Sensar Expend (-4) ",
          "Sensar Expend (-5) ",
          "Sensar Expend (-6) ",
          "Sensar Expend (-7) ",
          "Sensar Expend (-8) ",
          "Sensar Expend (-9) ",
          "Sensar Expend (0) ",
          "Sensar Expend (1) ",
          "Sensar Expend (2) ",
          "Sensar Expend (3) ",
          "Sensar Expend (4) ",
          "Sensar Expend (5) ",
          "Sensar1-PC (10) ",
          "Sensar1-PC (10.5) ",
          "Sensar1-PC (11) ",
          "Sensar1-PC (11.5) ",
          "Sensar1-PC (12) ",
          "Sensar1-PC (12.5) ",
          "Sensar1-PC (13) ",
          "Sensar1-PC (13.5) ",
          "Sensar1-PC (14) ",
          "Sensar1-PC (14.5) ",
          "Sensar1-PC (15) ",
          "Sensar1-PC (15.5) ",
          "Sensar1-PC (16) ",
          "Sensar1-PC (16.5) ",
          "Sensar1-PC (17) ",
          "Sensar1-PC (17.5) ",
          "Sensar1-PC (18) ",
          "Sensar1-PC (18.5) ",
          "Sensar1-PC (19) ",
          "Sensar1-PC (19.5) ",
          "Sensar1-PC (20) ",
          "Sensar1-PC (20.5) ",
          "Sensar1-PC (21) ",
          "Sensar1-PC (21.5) ",
          "Sensar1-PC (22) ",
          "Sensar1-PC (22.5) ",
          "Sensar1-PC (23) ",
          "Sensar1-PC (23.5) ",
          "Sensar1-PC (24) ",
          "Sensar1-PC (24.5) ",
          "Sensar1-PC (25) ",
          "Sensar1-PC (25.5) ",
          "Sensar1-PC (26) ",
          "Sensar1-PC (26.5) ",
          "Sensar1-PC (27) ",
          "Sensar1-PC (27.5) ",
          "Sensar1-PC (28) ",
          "Sensar1-PC (28.5) ",
          "Sensar1-PC (29) ",
          "Sensar1-PC (29.5) ",
          "Sensar1-PC (30) ",
          "Sensar1-PC (6) ",
          "Sensar1-PC (6.5) ",
          "Sensar1-PC (7) ",
          "Sensar1-PC (7.5) ",
          "Sensar1-PC (8) ",
          "Sensar1-PC (8.5) ",
          "Sensar1-PC (9) ",
          "Sensar1-PC (9.5) ",
          "SensarAcrylic (10) ",
          "SensarAcrylic (11) ",
          "SensarAcrylic (12) ",
          "SensarAcrylic (12.5) ",
          "SensarAcrylic (13) ",
          "SensarAcrylic (13.5) ",
          "SensarAcrylic (14) ",
          "SensarAcrylic (14.5) ",
          "SensarAcrylic (15) ",
          "SensarAcrylic (15.5) ",
          "SensarAcrylic (16) ",
          "SensarAcrylic (16.5) ",
          "SensarAcrylic (17) ",
          "SensarAcrylic (17.5) ",
          "SensarAcrylic (18) ",
          "SensarAcrylic (18.5) ",
          "SensarAcrylic (19) ",
          "SensarAcrylic (19.5) ",
          "SensarAcrylic (20) ",
          "SensarAcrylic (20.5) ",
          "SensarAcrylic (21) ",
          "SensarAcrylic (21.5) ",
          "SensarAcrylic (22) ",
          "SensarAcrylic (22.5) ",
          "SensarAcrylic (23) ",
          "SensarAcrylic (23.5) ",
          "SensarAcrylic (24) ",
          "SensarAcrylic (24.5) ",
          "SensarAcrylic (25) ",
          "SensarAcrylic (25.5) ",
          "SensarAcrylic (26) ",
          "SensarAcrylic (27) ",
          "SensarAcrylic (28) ",
          "SensarAcrylic (29) ",
          "SensarAcrylic (30) ",
          "SensarAcrylic (6) ",
          "SensarAcrylic (7) ",
          "SensarAcrylic (8) ",
          "SensarAcrylic (9) ",
          "ZCB00 (10) ",
          "ZCB00 (10.5) ",
          "ZCB00 (11) ",
          "ZCB00 (11.5) ",
          "ZCB00 (12) ",
          "ZCB00 (12.5) ",
          "ZCB00 (13) ",
          "ZCB00 (13.5) ",
          "ZCB00 (14) ",
          "ZCB00 (14.5) ",
          "ZCB00 (15) ",
          "ZCB00 (15.5) ",
          "ZCB00 (16) ",
          "ZCB00 (16.5) ",
          "ZCB00 (17) ",
          "ZCB00 (17.5) ",
          "ZCB00 (18) ",
          "ZCB00 (18.5) ",
          "ZCB00 (19) ",
          "ZCB00 (19.5) ",
          "ZCB00 (20) ",
          "ZCB00 (20.5) ",
          "ZCB00 (21) ",
          "ZCB00 (21.5) ",
          "ZCB00 (22) ",
          "ZCB00 (22.5) ",
          "ZCB00 (23) ",
          "ZCB00 (23.5) ",
          "ZCB00 (24) ",
          "ZCB00 (24.5) ",
          "ZCB00 (25) ",
          "ZCB00 (25.5) ",
          "ZCB00 (26) ",
          "ZCB00 (26.5) ",
          "ZCB00 (27) ",
          "ZCB00 (27.5) ",
          "ZCB00 (28) ",
          "ZCB00 (28.5) ",
          "ZCB00 (29) ",
          "ZCB00 (29.5) ",
          "ZCB00 (30) ",
          "ZCB00 (30.5) ",
          "ZCB00 (31) ",
          "ZCB00 (31.5) ",
          "ZCB00 (32) ",
          "ZCB00 (32.5) ",
          "ZCB00 (33) ",
          "ZCB00 (33.5) ",
          "ZCB00 (5) ",
          "ZCB00 (5.5) ",
          "ZCB00 (6) ",
          "ZCB00 (6.5) ",
          "ZCB00 (7) ",
          "ZCB00 (7.5) ",
          "ZCB00 (8) ",
          "ZCB00 (8.5) ",
          "ZCB00 (9) ",
          "ZCB00 (9.5) ",
          "biovision(10)",
          "biovision(11)",
          "biovision(12)",
          "biovision(13)",
          "biovision(14)",
          "biovision(15)",
          "biovision(16)",
          "biovision(17)",
          "biovision(18)",
          "biovision(19)",
          "biovision(2)",
          "biovision(20)",
          "biovision(21)",
          "biovision(22)",
          "biovision(23)",
          "biovision(24)",
          "biovision(25)",
          "biovision(26)",
          "biovision(28)",
          "biovision(29)",
          "biovision(30)",
          "biovision(5)",
          "biovision(6)",
          "biovision(7)",
          "biovision(8)",
          "biovision(9)",
          "أرتيفيشيال شمبر",
          "أقلام ماركر",
          "أكيومكس",
          "أمبولات Utoral ( بديل 5 فلوراسيل )",
          "أمبولات إبيرليفان (بديل الكيناكورت)",
          "أمبولات إفيدرين",
          "أمبولات إيبوكتيل",
          "أمبولات بيتافوس",
          "أمبولات جرانيتريل ",
          "أمبولات ديبروفوس",
          "أمبولات ديبوميدرول ( زولون )",
          "أمبولات ديفلوكان ( صانى فنجال )",
          "أمبولات سايكلوكابرون",
          "أمبولات سوليوكورتيف",
          "أمبولات فورتام",
          "أمبولات فولتارين",
          "أمبولات مايكول (مايوستات)",
          "أمبولات ميتاميسين",
          "أمبولات مينوفليين",
          "أوبسيت صغير",
          "أولجين ",
          "أيباك صغير",
          "أيباك كبير",
          "إثيبوند أبيض 5/0 بوليستر",
          "إثيلون- نيلون 0/10",
          "إكسبريس جلوكوما",
          "بانش 7.5\t",
          "بروب أمامى Enfiniti",
          "بروب أنتيروفيتركتومى-امامى(ألتراتك)",
          "بروب ليزر(كونستليشن)-G23 كود991و113",
          "بروفيسك (55 ملل )",
          "بروفيسك(0.85مللى)",
          "برولين 10/0 - 999560 / 934560",
          "برولين 4/0 - كود 98853\t",
          "برولين أبيض 9/0\t",
          "بليد Femto Kit",
          "بليد فيمتو سمايل",
          "بليد ميتل هيد",
          "بيرفلوروكاربون (ديكالين)",
          "بيرفلوروكاربون -أركادين",
          "بيرفلوروكاربون أركادين(7مللى)",
          "بيرفوكاربون FCI\t",
          "تب 19 - ألتراتك",
          "تب 21 - ألتراتك",
          "تريبان بلو ( للشبكية)",
          "تريبان بلو للقرنية",
          "تريبان بلو مستورد",
          "تريبان بلو هندى ",
          "جاون طبيب معقم ",
          "جاون مريض (XL)",
          "جهاز وريدJMS",
          "جوانتى أنسيل 7",
          "جوانتى أنسيل 8",
          "جوانتى أنسيل7.5",
          "جوانتى مقاس7 بدون بودرة",
          "جوانتى مقاس7.5 بدون بودرة",
          "جوانتى مقاس8 بدون بودرة",
          "حربةMVR19",
          "حرير أسود-روند 4/0 كود 582",
          "حرير-إبرتين 6/0- 888",
          "حقنة أيليا (1/3 أمبول ) ",
          "حقنة ليوسنتس (1/2أمبول)",
          "حلقات رينج 160 م15\t",
          "حلقات رينج 300/360 - IMT",
          "حلقات رينج 320/25 - IMT",
          "حلقات رينج 320/30 - IMT",
          "حلقات رينج 350/360 - IMT",
          "حلقات رينج 355/15 - IMT",
          "حلقات رينج 355/20 - IMT",
          "حلقات رينج 355/25 - IMT",
          "حلقات مايورنج - 300/5",
          "حلقات مايورينج - 240/6",
          "حلقات مايورينج - 280/5",
          "حلقات مايورينج - 280/6",
          "حلقات مايورينج - 320/5",
          "رنجر لكتات",
          "زايلوكين 2%",
          "زجاجات بيرفالجان ( انجيكتمول )",
          "زجاجات ماء معقم",
          "زجاجة B.S.S - (مللى500)",
          "سنون هيدروسكشن",
          "سوبر بليد 15- كاى",
          "سوبر بليد 30 - ميدى تيك",
          "سوبر بليد 45 - ميدى تيك",
          "سيفوبيد 1جرام",
          "سيفوفلورين",
          "سيلكون1000- FCI\t",
          "سيليكون 1300- أركادين",
          "سيليكون2000",
          "شاش10*10 ",
          "صمام جلوجوما ( احمد فالف )",
          "طرف الجراح - أى فيل",
          "طرف الجراح - كاسيت( تعقيم بلازما )",
          "عدسات لاصقة أكوافيو\t",
          "عدسات لاصقة بيورفيجن",
          "غشاء أمنيوتى ",
          "فاكيوم تيوب موريا",
          "فانكومايسين",
          "فلاشة 16جيجا",
          "فيسكوت",
          "فيكريل 6/0 سباتيولا",
          "فيكريل 7/0 سباتيولا",
          "فيكريل 8/0 سباتيولا",
          "فيكريل-إبرتين7/0- 9565",
          "قطرة Cross Linking-الامين(850)\t",
          "قطرة أوبتيبرد",
          "قطرة أوفلوكس",
          "قطرة إكونوبريد",
          "قطرة بريدفورت",
          "قطرة بينوكس",
          "قطرة توبرادكس",
          "قطرة توبريكس",
          "قطرة سيكلوبليجيكو%1",
          "قطرة فارمابريد (بديل بريت فورت )",
          "قطرة فارماجاتين ( بديل زايمر )",
          "قطرة فيجاموكس",
          "قطرة فينيل إفرين10% مستوردة",
          "قطرة ميدرياسيل",
          "كابل دياثرمى - مرة واحدة",
          "كارت Streamlight",
          "كاسيت Enfinite - مرة واحدة (1040)-2087",
          "كاسيت بلازما",
          "كاسيت كتاليز",
          "كاسيت وايت ستار\t",
          "كانيولا لليزك",
          "كريسنت منحنى ",
          "كريسنت منحنى كاى",
          "كيراتوم 1.2",
          "كيراتوم 2.8",
          "كيراتوم 3",
          "كيراتوم2.4",
          "كيراتوم3 - كاى",
          "كيراتوم3.2 - كاى",
          "ماركيين",
          "مانيتول20%",
          "مجموعة كونستليشن-G23 كود1058-1900",
          "محلول أكيوكوت",
          "محلول أوبتيفلكس ( باى كورنيال )",
          "محلول أورو فيسك 2%",
          "محلول أى فيل",
          "محلول ملح",
          "مرهم توبرادكس",
          "مرهم ديكساترول",
          "ميكروسبونج",
          "ميكروسبونج الليزك",
          "نيترودرم لاصقة",
          "هيلون(0.85مللى) عادى"
         ],
         "y": [
          17,
          16,
          14,
          16,
          264,
          16,
          17,
          17,
          13,
          15,
          5,
          6,
          6,
          5,
          6,
          4,
          315,
          255,
          282,
          7,
          7,
          7,
          7,
          7,
          81,
          3,
          5,
          7,
          323,
          259,
          256,
          254,
          261,
          323,
          259,
          251,
          251,
          251,
          251,
          270,
          7,
          7,
          7,
          7,
          7,
          7,
          7,
          7,
          7,
          7,
          7,
          7,
          48,
          7,
          7,
          7,
          7,
          7,
          7,
          7,
          7,
          7,
          7,
          7,
          7,
          7,
          7,
          7,
          7,
          7,
          7,
          7,
          258,
          7,
          258,
          7,
          7,
          7,
          7,
          7,
          7,
          7,
          7,
          7,
          7,
          7,
          7,
          7,
          7,
          7,
          251,
          251,
          251,
          251,
          254,
          251,
          251,
          251,
          251,
          251,
          252,
          251,
          251,
          251,
          251,
          251,
          251,
          258,
          254,
          258,
          254,
          258,
          251,
          265,
          261,
          251,
          258,
          258,
          254,
          255,
          258,
          265,
          251,
          255,
          252,
          262,
          262,
          251,
          251,
          251,
          251,
          251,
          251,
          252,
          251,
          251,
          254,
          254,
          258,
          251,
          255,
          251,
          254,
          251,
          251,
          7,
          251,
          251,
          251,
          251,
          254,
          251,
          251,
          251,
          258,
          251,
          251,
          258,
          251,
          251,
          261,
          251,
          254,
          251,
          251,
          251,
          251,
          251,
          251,
          251,
          251,
          251,
          251,
          251,
          251,
          251,
          251,
          251,
          251,
          251,
          251,
          251,
          251,
          251,
          251,
          251,
          254,
          251,
          251,
          251,
          251,
          251,
          251,
          251,
          251,
          251,
          251,
          251,
          251,
          3,
          251,
          251,
          251,
          251,
          254,
          251,
          258,
          251,
          251,
          251,
          251,
          251,
          251,
          251,
          251,
          254,
          251,
          251,
          251,
          251,
          316,
          265,
          268,
          254,
          263,
          254,
          259,
          261,
          265,
          254,
          254,
          262,
          261,
          254,
          260,
          266,
          268,
          267,
          273,
          267,
          267,
          270,
          272,
          269,
          268,
          266,
          268,
          262,
          271,
          267,
          265,
          266,
          261,
          258,
          263,
          261,
          251,
          254,
          258,
          251,
          258,
          254,
          256,
          251,
          251,
          251,
          255,
          251,
          251,
          251,
          254,
          258,
          261,
          261,
          254,
          256,
          5,
          251,
          251,
          251,
          251,
          251,
          251,
          251,
          251,
          251,
          251,
          251,
          251,
          251,
          251,
          251,
          251,
          258,
          251,
          251,
          251,
          255,
          251,
          251,
          258,
          252,
          251,
          251,
          251,
          251,
          251,
          251,
          251,
          251,
          251,
          251,
          251,
          251,
          251,
          251,
          251,
          251,
          251,
          251,
          251,
          255,
          251,
          251,
          251,
          251,
          251,
          251,
          251,
          251,
          255,
          251,
          251,
          251,
          251,
          251,
          251,
          251,
          251,
          251,
          251,
          251,
          251,
          251,
          251,
          251,
          251,
          251,
          251,
          251,
          251,
          251,
          251,
          251,
          251,
          251,
          251,
          7,
          251,
          251,
          251,
          251,
          251,
          251,
          251,
          251,
          251,
          251,
          1,
          251,
          251,
          251,
          251,
          251,
          251,
          251,
          254,
          254,
          261,
          254,
          262,
          261,
          261,
          254,
          254,
          262,
          254,
          259,
          255,
          258,
          251,
          251,
          7,
          256,
          251,
          258,
          263,
          270,
          262,
          254,
          265,
          251,
          251,
          264,
          258,
          262,
          261,
          251,
          251,
          262,
          251,
          252,
          258,
          261,
          258,
          256,
          253,
          262,
          263,
          254,
          261,
          263,
          265,
          266,
          266,
          265,
          261,
          276,
          265,
          266,
          258,
          251,
          258,
          254,
          254,
          254,
          251,
          251,
          251,
          258,
          251,
          251,
          255,
          251,
          265,
          258,
          251,
          258,
          254,
          255,
          262,
          255,
          265,
          8,
          259,
          258,
          260,
          256,
          278,
          255,
          268,
          257,
          265,
          258,
          256,
          264,
          331,
          259,
          258,
          265,
          260,
          269,
          272,
          258,
          270,
          255,
          261,
          259,
          327,
          254,
          261,
          251,
          258,
          261,
          252,
          255,
          254,
          256,
          260,
          254,
          251,
          258,
          251,
          255,
          251,
          256,
          254,
          251,
          251,
          258,
          251,
          265,
          256,
          262,
          262,
          254,
          260,
          268,
          271,
          265,
          266,
          262,
          265,
          262,
          262,
          266,
          270,
          270,
          262,
          267,
          262,
          268,
          262,
          252,
          258,
          255,
          251,
          251,
          251,
          251,
          251,
          258,
          255,
          251,
          251,
          251,
          251,
          251,
          252,
          255,
          251,
          255,
          251,
          258,
          251,
          255,
          251,
          263,
          251,
          256,
          256,
          264,
          268,
          259,
          256,
          259,
          260,
          256,
          263,
          271,
          259,
          259,
          259,
          8,
          257,
          251,
          5,
          256,
          256,
          254,
          256,
          256,
          3,
          12,
          286,
          282,
          251,
          425,
          6,
          339,
          262,
          311,
          396,
          439,
          1,
          3,
          311,
          285,
          299,
          323,
          98,
          288,
          463,
          68,
          536,
          480,
          3,
          322,
          3,
          16,
          260,
          4,
          3,
          313,
          318,
          276,
          6,
          332,
          115,
          81,
          96,
          11,
          15,
          11,
          16,
          251,
          251,
          11,
          24,
          300,
          251,
          496,
          136,
          118,
          126,
          126,
          120,
          125,
          128,
          136,
          294,
          285,
          3,
          53,
          107,
          5,
          5,
          4,
          4,
          6,
          4,
          1,
          1,
          6,
          6,
          6,
          6,
          6,
          444,
          251,
          36,
          333,
          423,
          263,
          302,
          285,
          284,
          272,
          251,
          11,
          11,
          15,
          522,
          3,
          283,
          266,
          387,
          112,
          12,
          81,
          288,
          523,
          354,
          37,
          298,
          281,
          11,
          11,
          348,
          10,
          414,
          385,
          500,
          456,
          363,
          3,
          468,
          401,
          507,
          251,
          266,
          3,
          16,
          378,
          3,
          265,
          290,
          120,
          379,
          259,
          323,
          7,
          275,
          308,
          274,
          289,
          251,
          263,
          11,
          269,
          303,
          282,
          323,
          262,
          408,
          286,
          421,
          391,
          273,
          267
         ]
        },
        {
         "marker": {
          "color": "#228B22"
         },
         "name": "Predicted",
         "type": "bar",
         "x": [
          "\tبانش 7.75\t",
          "\tبانش 8\t",
          "\tبانش 8.25\t",
          "\tبانش 8.5\t",
          "\tبروب أمامى Centurion\t",
          "\tترفاين 7.25\t",
          "\tترفاين 7.5\t",
          "\tترفاين 7.75\t",
          "\tترفاين 8\t",
          "\tترفاين 8.25\t",
          "\tحلقات رينج 160 م20\t",
          "\tحلقات رينج 160 م25\t",
          "\tحلقات رينج 160 م30\t",
          "\tحلقات رينج 210 م20\t",
          "\tحلقات رينج 210 م25\t",
          "\tحلقات رينج 210 م30\t",
          "\tكاسيت Centurion\t",
          "\tكاسيت LENSX - لانزيكس\t",
          " إيثيلون 10/0- 1770",
          "ArtiFlex (-8.5) ",
          "Artisan (-11) ",
          "Artisan (-12.5) ",
          "Artisan (-13) ",
          "Artisan (-14.5) ",
          "Artisan (-16) ",
          "Artisan Ap11",
          "Artisan Ap12",
          "Artisan Ap14",
          "Artisan Ap15",
          "Artisan Ap16",
          "Artisan Ap17",
          "Artisan Ap18",
          "Artisan Ap19",
          "Artisan Ap20",
          "Artisan Ap21",
          "Artisan Ap23",
          "Artisan Ap24",
          "Artisan Ap6",
          "Artisan Ap7",
          "Capsul Tension ",
          "ICLSTAAR 12.1 -10",
          "ICLSTAAR 12.1 -11",
          "ICLSTAAR 12.1 -12",
          "ICLSTAAR 12.1 -14",
          "ICLSTAAR 12.1 -15",
          "ICLSTAAR 12.1 -16",
          "ICLSTAAR 12.1 -17",
          "ICLSTAAR 12.1 -18",
          "ICLSTAAR 12.6 -10",
          "ICLSTAAR 12.6 -11",
          "ICLSTAAR 12.6 -12",
          "ICLSTAAR 12.6 -13",
          "ICLSTAAR 12.6 -14",
          "ICLSTAAR 12.6 -15",
          "ICLSTAAR 12.6 -16",
          "ICLSTAAR 12.6 -17",
          "ICLSTAAR 12.6 -18",
          "ICLSTAAR 12.6 -5",
          "ICLSTAAR 12.6 -5.5",
          "ICLSTAAR 12.6 -6",
          "ICLSTAAR 12.6 -6.5",
          "ICLSTAAR 12.6 -7",
          "ICLSTAAR 12.6 -7.5",
          "ICLSTAAR 12.6 -8",
          "ICLSTAAR 12.6 -9",
          "ICLSTAAR 12.6-11.5",
          "ICLSTAAR 12.6-12.5",
          "ICLSTAAR 12.6-8.5",
          "ICLSTAAR 12.6-9.5",
          "ICLSTAAR 13.2 -10",
          "ICLSTAAR 13.2 -11",
          "ICLSTAAR 13.2 -11.5",
          "ICLSTAAR 13.2 -12",
          "ICLSTAAR 13.2 -12.5",
          "ICLSTAAR 13.2 -13",
          "ICLSTAAR 13.2 -14",
          "ICLSTAAR 13.2 -15",
          "ICLSTAAR 13.2 -16",
          "ICLSTAAR 13.2 -17",
          "ICLSTAAR 13.2 -18",
          "ICLSTAAR 13.2 -5",
          "ICLSTAAR 13.2 -5.5",
          "ICLSTAAR 13.2 -7",
          "ICLSTAAR 13.2 -7.5",
          "ICLSTAAR 13.2 -8",
          "ICLSTAAR 13.2 -9",
          "ICLSTAAR 13.2-6",
          "ICLSTAAR 13.2-8.5",
          "ICLSTAAR 13.2-9.5",
          "ICLSTAAR 13.7 -6",
          "MI60P(0)",
          "MI60P(1)",
          "MI60P(10)",
          "MI60P(10.5)",
          "MI60P(11)",
          "MI60P(11.5)",
          "MI60P(12)",
          "MI60P(12.5)",
          "MI60P(13)",
          "MI60P(13.5)",
          "MI60P(14)",
          "MI60P(14.5)",
          "MI60P(15)",
          "MI60P(15.5)",
          "MI60P(16)",
          "MI60P(16.5)",
          "MI60P(17)",
          "MI60P(17.5)",
          "MI60P(18)",
          "MI60P(18.5)",
          "MI60P(19)",
          "MI60P(19.5)",
          "MI60P(2)",
          "MI60P(20)",
          "MI60P(20.5)",
          "MI60P(21)",
          "MI60P(21.5)",
          "MI60P(22)",
          "MI60P(22.5)",
          "MI60P(23)",
          "MI60P(23.5)",
          "MI60P(24)",
          "MI60P(24.5)",
          "MI60P(25)",
          "MI60P(25.5)",
          "MI60P(26)",
          "MI60P(26.5)",
          "MI60P(27)",
          "MI60P(27.5)",
          "MI60P(28)",
          "MI60P(28.5)",
          "MI60P(29)",
          "MI60P(29.5)",
          "MI60P(3)",
          "MI60P(30)",
          "MI60P(4)",
          "MI60P(5)",
          "MI60P(6)",
          "MI60P(7)",
          "MI60P(8)",
          "MI60P(9)",
          "Malyugin Ring",
          "OCUFLEX (-5) ",
          "OCUFLEX (0) ",
          "OCUFLEX (1) ",
          "OCUFLEX (10) ",
          "OCUFLEX (11) ",
          "OCUFLEX (12) ",
          "OCUFLEX (13) ",
          "OCUFLEX (14) ",
          "OCUFLEX (15) ",
          "OCUFLEX (16) ",
          "OCUFLEX (17) ",
          "OCUFLEX (18) ",
          "OCUFLEX (19) ",
          "OCUFLEX (2) ",
          "OCUFLEX (20) ",
          "OCUFLEX (21) ",
          "OCUFLEX (22) ",
          "OCUFLEX (23) ",
          "OCUFLEX (24) ",
          "OCUFLEX (25) ",
          "OCUFLEX (26) ",
          "OCUFLEX (27) ",
          "OCUFLEX (28) ",
          "OCUFLEX (3) ",
          "OCUFLEX (4) ",
          "OCUFLEX (5) ",
          "OCUFLEX (6) ",
          "OCUFLEX (8) ",
          "OCUFLEX (9) ",
          "OROFLEX (-2) ",
          "OROFLEX (-3) ",
          "OROFLEX (-5) ",
          "OROFLEX (1) ",
          "OROFLEX (10) ",
          "OROFLEX (11) ",
          "OROFLEX (13) ",
          "OROFLEX (14) ",
          "OROFLEX (15) ",
          "OROFLEX (16) ",
          "OROFLEX (17) ",
          "OROFLEX (18) ",
          "OROFLEX (19) ",
          "OROFLEX (2) ",
          "OROFLEX (20) ",
          "OROFLEX (21) ",
          "OROFLEX (22) ",
          "OROFLEX (23) ",
          "OROFLEX (24) ",
          "OROFLEX (25) ",
          "OROFLEX (3) ",
          "OROFLEX (4) ",
          "OROFLEX (5) ",
          "OROFLEX (6) ",
          "OROFLEX (7) ",
          "OROFLEX (8) ",
          "OROFLEX (9) ",
          "Optiflex(16)",
          "Optiflex(16.5)",
          "Optiflex(17)",
          "Optiflex(18)",
          "Optiflex(19)",
          "Optiflex(20)",
          "Optiflex(21)",
          "Optiflex(22)",
          "Optiflex(23)",
          "Optiflex(24)",
          "Optiflex(25)",
          "Optiflex(26)",
          "Optiflex(3)",
          "Optiflex(30)",
          "Optiflex(4)",
          "Optiflex(5)",
          "Optiflex(6)",
          "Optiflex(8)",
          "POD14",
          "POD21.5",
          "POD22",
          "POD22.5",
          "Punctal Plug",
          "SA60AT (10) ",
          "SA60AT (10.5) ",
          "SA60AT (11) ",
          "SA60AT (12) ",
          "SA60AT (12.5) ",
          "SA60AT (13) ",
          "SA60AT (13.5) ",
          "SA60AT (14) ",
          "SA60AT (14.5) ",
          "SA60AT (15) ",
          "SA60AT (15.5) ",
          "SA60AT (16) ",
          "SA60AT (16.5) ",
          "SA60AT (17) ",
          "SA60AT (17.5) ",
          "SA60AT (18) ",
          "SA60AT (18.5) ",
          "SA60AT (19) ",
          "SA60AT (19.5) ",
          "SA60AT (20) ",
          "SA60AT (20.5) ",
          "SA60AT (21) ",
          "SA60AT (21.5) ",
          "SA60AT (22) ",
          "SA60AT (22.5) ",
          "SA60AT (23) ",
          "SA60AT (23.5) ",
          "SA60AT (24) ",
          "SA60AT (24.5) ",
          "SA60AT (25) ",
          "SA60AT (25.5) ",
          "SA60AT (26) ",
          "SA60AT (26.5) ",
          "SA60AT (27) ",
          "SA60AT (27.5) ",
          "SA60AT (28) ",
          "SA60AT (28.5) ",
          "SA60AT (29) ",
          "SA60AT (29.5) ",
          "SA60AT (30) ",
          "SA60AT (31) ",
          "SA60AT (32) ",
          "SA60AT (33) ",
          "SA60AT (34) ",
          "SA60AT (35) ",
          "SA60AT (36) ",
          "SA60AT (37) ",
          "SA60AT (39) ",
          "SA60AT (40) ",
          "SA60AT (6) ",
          "SA60AT (7) ",
          "SA60AT (8) ",
          "SA60AT (8.5) ",
          "SA60AT (9) ",
          "SA60AT (9.5) ",
          "SN60T2(19)",
          "SN60T3 (12) ",
          "SN60T3 (12.5) ",
          "SN60T3 (13) ",
          "SN60T3 (13.5) ",
          "SN60T3 (14) ",
          "SN60T3 (14.5) ",
          "SN60T3 (15) ",
          "SN60T3 (15.5) ",
          "SN60T3 (16) ",
          "SN60T3 (16.5) ",
          "SN60T3 (17) ",
          "SN60T3 (17.5) ",
          "SN60T3 (18) ",
          "SN60T3 (18.5) ",
          "SN60T3 (19) ",
          "SN60T3 (19.5) ",
          "SN60T3 (20) ",
          "SN60T3 (20.5) ",
          "SN60T3 (21) ",
          "SN60T3 (21.5) ",
          "SN60T3 (22) ",
          "SN60T3 (22.5) ",
          "SN60T3 (23) ",
          "SN60T3 (23.5) ",
          "SN60T3 (24) ",
          "SN60T3 (24.5) ",
          "SN60T3 (25) ",
          "SN60T3 (25.5) ",
          "SN60T3 (26) ",
          "SN60T3 (27) ",
          "SN60T3 (28.5) ",
          "SN60T3(27.5)",
          "SN60T4 (15.5) ",
          "SN60T4 (16) ",
          "SN60T4 (16.5) ",
          "SN60T4 (17) ",
          "SN60T4 (18) ",
          "SN60T4 (18.5) ",
          "SN60T4 (19) ",
          "SN60T4 (20) ",
          "SN60T4 (20.5) ",
          "SN60T4 (21) ",
          "SN60T4 (21.5) ",
          "SN60T4 (22) ",
          "SN60T4 (22.5) ",
          "SN60T4 (23.5) ",
          "SN60T4 (24) ",
          "SN60T4 (26) ",
          "SN60T4 (26.5) ",
          "SN60T4 (27) ",
          "SN60T4 (29) ",
          "SN60T5 (16) ",
          "SN60T5 (16.5) ",
          "SN60T5 (17) ",
          "SN60T5 (18) ",
          "SN60T5 (19) ",
          "SN60T5 (19.5) ",
          "SN60T5 (21) ",
          "SN60T5 (22) ",
          "SN60T5 (22.5) ",
          "SN60T5 (24) ",
          "SN60T5 (24.5) ",
          "SN60T5 (25) ",
          "SN60T5 (25.5) ",
          "SN60T5 (27.5) ",
          "SN60T6 (13) ",
          "SN60T6 (15.5) ",
          "SN60T6 (16) ",
          "SN60T6 (16.5) ",
          "SN60T6 (17) ",
          "SN60T6 (18) ",
          "SN60T6 (18.5) ",
          "SN60T6 (19) ",
          "SN60T6 (19.5) ",
          "SN60T6 (21.5) ",
          "SN60T6 (22) ",
          "SN60T6 (23) ",
          "SN60T6 (24) ",
          "SN60T6 (24.5) ",
          "SN60T6 (25) ",
          "SN60T6 (27.5) ",
          "SN60T6 (28) ",
          "SN60T6 (28.5) ",
          "SN60T7 (15.5) ",
          "SN60T7 (16.5) ",
          "SN60T7 (18.5) ",
          "SN60T7 (20.5) ",
          "SN60T7 (21.5) ",
          "SN60T7 (22.5) ",
          "SN60T7 (23.5) ",
          "SN60T7 (24) ",
          "SN60T7 (24.5) ",
          "SN60T8 (18.5) ",
          "SN60T8 (19) ",
          "SN60T8 (19.5) ",
          "SN60T8 (22) ",
          "SN60T8 (6.5) ",
          "SN60T9 (24) ",
          "SN60T9 (24.5) ",
          "SN60WF (17) ",
          "SN60WF (18) ",
          "SN60WF (19) ",
          "SN60WF (20) ",
          "SN60WF (21) ",
          "SN60WF (22) ",
          "SN60WF (23) ",
          "SN60WF (24) ",
          "SN60WF (25) ",
          "Sensar Expend (-1) ",
          "Sensar Expend (-10) ",
          "Sensar Expend (-2) ",
          "Sensar Expend (-3) ",
          "Sensar Expend (-4) ",
          "Sensar Expend (-5) ",
          "Sensar Expend (-6) ",
          "Sensar Expend (-7) ",
          "Sensar Expend (-8) ",
          "Sensar Expend (-9) ",
          "Sensar Expend (0) ",
          "Sensar Expend (1) ",
          "Sensar Expend (2) ",
          "Sensar Expend (3) ",
          "Sensar Expend (4) ",
          "Sensar Expend (5) ",
          "Sensar1-PC (10) ",
          "Sensar1-PC (10.5) ",
          "Sensar1-PC (11) ",
          "Sensar1-PC (11.5) ",
          "Sensar1-PC (12) ",
          "Sensar1-PC (12.5) ",
          "Sensar1-PC (13) ",
          "Sensar1-PC (13.5) ",
          "Sensar1-PC (14) ",
          "Sensar1-PC (14.5) ",
          "Sensar1-PC (15) ",
          "Sensar1-PC (15.5) ",
          "Sensar1-PC (16) ",
          "Sensar1-PC (16.5) ",
          "Sensar1-PC (17) ",
          "Sensar1-PC (17.5) ",
          "Sensar1-PC (18) ",
          "Sensar1-PC (18.5) ",
          "Sensar1-PC (19) ",
          "Sensar1-PC (19.5) ",
          "Sensar1-PC (20) ",
          "Sensar1-PC (20.5) ",
          "Sensar1-PC (21) ",
          "Sensar1-PC (21.5) ",
          "Sensar1-PC (22) ",
          "Sensar1-PC (22.5) ",
          "Sensar1-PC (23) ",
          "Sensar1-PC (23.5) ",
          "Sensar1-PC (24) ",
          "Sensar1-PC (24.5) ",
          "Sensar1-PC (25) ",
          "Sensar1-PC (25.5) ",
          "Sensar1-PC (26) ",
          "Sensar1-PC (26.5) ",
          "Sensar1-PC (27) ",
          "Sensar1-PC (27.5) ",
          "Sensar1-PC (28) ",
          "Sensar1-PC (28.5) ",
          "Sensar1-PC (29) ",
          "Sensar1-PC (29.5) ",
          "Sensar1-PC (30) ",
          "Sensar1-PC (6) ",
          "Sensar1-PC (6.5) ",
          "Sensar1-PC (7) ",
          "Sensar1-PC (7.5) ",
          "Sensar1-PC (8) ",
          "Sensar1-PC (8.5) ",
          "Sensar1-PC (9) ",
          "Sensar1-PC (9.5) ",
          "SensarAcrylic (10) ",
          "SensarAcrylic (11) ",
          "SensarAcrylic (12) ",
          "SensarAcrylic (12.5) ",
          "SensarAcrylic (13) ",
          "SensarAcrylic (13.5) ",
          "SensarAcrylic (14) ",
          "SensarAcrylic (14.5) ",
          "SensarAcrylic (15) ",
          "SensarAcrylic (15.5) ",
          "SensarAcrylic (16) ",
          "SensarAcrylic (16.5) ",
          "SensarAcrylic (17) ",
          "SensarAcrylic (17.5) ",
          "SensarAcrylic (18) ",
          "SensarAcrylic (18.5) ",
          "SensarAcrylic (19) ",
          "SensarAcrylic (19.5) ",
          "SensarAcrylic (20) ",
          "SensarAcrylic (20.5) ",
          "SensarAcrylic (21) ",
          "SensarAcrylic (21.5) ",
          "SensarAcrylic (22) ",
          "SensarAcrylic (22.5) ",
          "SensarAcrylic (23) ",
          "SensarAcrylic (23.5) ",
          "SensarAcrylic (24) ",
          "SensarAcrylic (24.5) ",
          "SensarAcrylic (25) ",
          "SensarAcrylic (25.5) ",
          "SensarAcrylic (26) ",
          "SensarAcrylic (27) ",
          "SensarAcrylic (28) ",
          "SensarAcrylic (29) ",
          "SensarAcrylic (30) ",
          "SensarAcrylic (6) ",
          "SensarAcrylic (7) ",
          "SensarAcrylic (8) ",
          "SensarAcrylic (9) ",
          "ZCB00 (10) ",
          "ZCB00 (10.5) ",
          "ZCB00 (11) ",
          "ZCB00 (11.5) ",
          "ZCB00 (12) ",
          "ZCB00 (12.5) ",
          "ZCB00 (13) ",
          "ZCB00 (13.5) ",
          "ZCB00 (14) ",
          "ZCB00 (14.5) ",
          "ZCB00 (15) ",
          "ZCB00 (15.5) ",
          "ZCB00 (16) ",
          "ZCB00 (16.5) ",
          "ZCB00 (17) ",
          "ZCB00 (17.5) ",
          "ZCB00 (18) ",
          "ZCB00 (18.5) ",
          "ZCB00 (19) ",
          "ZCB00 (19.5) ",
          "ZCB00 (20) ",
          "ZCB00 (20.5) ",
          "ZCB00 (21) ",
          "ZCB00 (21.5) ",
          "ZCB00 (22) ",
          "ZCB00 (22.5) ",
          "ZCB00 (23) ",
          "ZCB00 (23.5) ",
          "ZCB00 (24) ",
          "ZCB00 (24.5) ",
          "ZCB00 (25) ",
          "ZCB00 (25.5) ",
          "ZCB00 (26) ",
          "ZCB00 (26.5) ",
          "ZCB00 (27) ",
          "ZCB00 (27.5) ",
          "ZCB00 (28) ",
          "ZCB00 (28.5) ",
          "ZCB00 (29) ",
          "ZCB00 (29.5) ",
          "ZCB00 (30) ",
          "ZCB00 (30.5) ",
          "ZCB00 (31) ",
          "ZCB00 (31.5) ",
          "ZCB00 (32) ",
          "ZCB00 (32.5) ",
          "ZCB00 (33) ",
          "ZCB00 (33.5) ",
          "ZCB00 (5) ",
          "ZCB00 (5.5) ",
          "ZCB00 (6) ",
          "ZCB00 (6.5) ",
          "ZCB00 (7) ",
          "ZCB00 (7.5) ",
          "ZCB00 (8) ",
          "ZCB00 (8.5) ",
          "ZCB00 (9) ",
          "ZCB00 (9.5) ",
          "biovision(10)",
          "biovision(11)",
          "biovision(12)",
          "biovision(13)",
          "biovision(14)",
          "biovision(15)",
          "biovision(16)",
          "biovision(17)",
          "biovision(18)",
          "biovision(19)",
          "biovision(2)",
          "biovision(20)",
          "biovision(21)",
          "biovision(22)",
          "biovision(23)",
          "biovision(24)",
          "biovision(25)",
          "biovision(26)",
          "biovision(28)",
          "biovision(29)",
          "biovision(30)",
          "biovision(5)",
          "biovision(6)",
          "biovision(7)",
          "biovision(8)",
          "biovision(9)",
          "أرتيفيشيال شمبر",
          "أقلام ماركر",
          "أكيومكس",
          "أمبولات Utoral ( بديل 5 فلوراسيل )",
          "أمبولات إبيرليفان (بديل الكيناكورت)",
          "أمبولات إفيدرين",
          "أمبولات إيبوكتيل",
          "أمبولات بيتافوس",
          "أمبولات جرانيتريل ",
          "أمبولات ديبروفوس",
          "أمبولات ديبوميدرول ( زولون )",
          "أمبولات ديفلوكان ( صانى فنجال )",
          "أمبولات سايكلوكابرون",
          "أمبولات سوليوكورتيف",
          "أمبولات فورتام",
          "أمبولات فولتارين",
          "أمبولات مايكول (مايوستات)",
          "أمبولات ميتاميسين",
          "أمبولات مينوفليين",
          "أوبسيت صغير",
          "أولجين ",
          "أيباك صغير",
          "أيباك كبير",
          "إثيبوند أبيض 5/0 بوليستر",
          "إثيلون- نيلون 0/10",
          "إكسبريس جلوكوما",
          "بانش 7.5\t",
          "بروب أمامى Enfiniti",
          "بروب أنتيروفيتركتومى-امامى(ألتراتك)",
          "بروب ليزر(كونستليشن)-G23 كود991و113",
          "بروفيسك (55 ملل )",
          "بروفيسك(0.85مللى)",
          "برولين 10/0 - 999560 / 934560",
          "برولين 4/0 - كود 98853\t",
          "برولين أبيض 9/0\t",
          "بليد Femto Kit",
          "بليد فيمتو سمايل",
          "بليد ميتل هيد",
          "بيرفلوروكاربون (ديكالين)",
          "بيرفلوروكاربون -أركادين",
          "بيرفلوروكاربون أركادين(7مللى)",
          "بيرفوكاربون FCI\t",
          "تب 19 - ألتراتك",
          "تب 21 - ألتراتك",
          "تريبان بلو ( للشبكية)",
          "تريبان بلو للقرنية",
          "تريبان بلو مستورد",
          "تريبان بلو هندى ",
          "جاون طبيب معقم ",
          "جاون مريض (XL)",
          "جهاز وريدJMS",
          "جوانتى أنسيل 7",
          "جوانتى أنسيل 8",
          "جوانتى أنسيل7.5",
          "جوانتى مقاس7 بدون بودرة",
          "جوانتى مقاس7.5 بدون بودرة",
          "جوانتى مقاس8 بدون بودرة",
          "حربةMVR19",
          "حرير أسود-روند 4/0 كود 582",
          "حرير-إبرتين 6/0- 888",
          "حقنة أيليا (1/3 أمبول ) ",
          "حقنة ليوسنتس (1/2أمبول)",
          "حلقات رينج 160 م15\t",
          "حلقات رينج 300/360 - IMT",
          "حلقات رينج 320/25 - IMT",
          "حلقات رينج 320/30 - IMT",
          "حلقات رينج 350/360 - IMT",
          "حلقات رينج 355/15 - IMT",
          "حلقات رينج 355/20 - IMT",
          "حلقات رينج 355/25 - IMT",
          "حلقات مايورنج - 300/5",
          "حلقات مايورينج - 240/6",
          "حلقات مايورينج - 280/5",
          "حلقات مايورينج - 280/6",
          "حلقات مايورينج - 320/5",
          "رنجر لكتات",
          "زايلوكين 2%",
          "زجاجات بيرفالجان ( انجيكتمول )",
          "زجاجات ماء معقم",
          "زجاجة B.S.S - (مللى500)",
          "سنون هيدروسكشن",
          "سوبر بليد 15- كاى",
          "سوبر بليد 30 - ميدى تيك",
          "سوبر بليد 45 - ميدى تيك",
          "سيفوبيد 1جرام",
          "سيفوفلورين",
          "سيلكون1000- FCI\t",
          "سيليكون 1300- أركادين",
          "سيليكون2000",
          "شاش10*10 ",
          "صمام جلوجوما ( احمد فالف )",
          "طرف الجراح - أى فيل",
          "طرف الجراح - كاسيت( تعقيم بلازما )",
          "عدسات لاصقة أكوافيو\t",
          "عدسات لاصقة بيورفيجن",
          "غشاء أمنيوتى ",
          "فاكيوم تيوب موريا",
          "فانكومايسين",
          "فلاشة 16جيجا",
          "فيسكوت",
          "فيكريل 6/0 سباتيولا",
          "فيكريل 7/0 سباتيولا",
          "فيكريل 8/0 سباتيولا",
          "فيكريل-إبرتين7/0- 9565",
          "قطرة Cross Linking-الامين(850)\t",
          "قطرة أوبتيبرد",
          "قطرة أوفلوكس",
          "قطرة إكونوبريد",
          "قطرة بريدفورت",
          "قطرة بينوكس",
          "قطرة توبرادكس",
          "قطرة توبريكس",
          "قطرة سيكلوبليجيكو%1",
          "قطرة فارمابريد (بديل بريت فورت )",
          "قطرة فارماجاتين ( بديل زايمر )",
          "قطرة فيجاموكس",
          "قطرة فينيل إفرين10% مستوردة",
          "قطرة ميدرياسيل",
          "كابل دياثرمى - مرة واحدة",
          "كارت Streamlight",
          "كاسيت Enfinite - مرة واحدة (1040)-2087",
          "كاسيت بلازما",
          "كاسيت كتاليز",
          "كاسيت وايت ستار\t",
          "كانيولا لليزك",
          "كريسنت منحنى ",
          "كريسنت منحنى كاى",
          "كيراتوم 1.2",
          "كيراتوم 2.8",
          "كيراتوم 3",
          "كيراتوم2.4",
          "كيراتوم3 - كاى",
          "كيراتوم3.2 - كاى",
          "ماركيين",
          "مانيتول20%",
          "مجموعة كونستليشن-G23 كود1058-1900",
          "محلول أكيوكوت",
          "محلول أوبتيفلكس ( باى كورنيال )",
          "محلول أورو فيسك 2%",
          "محلول أى فيل",
          "محلول ملح",
          "مرهم توبرادكس",
          "مرهم ديكساترول",
          "ميكروسبونج",
          "ميكروسبونج الليزك",
          "نيترودرم لاصقة",
          "هيلون(0.85مللى) عادى"
         ],
         "y": [
          3,
          4,
          3,
          4,
          188,
          3,
          4,
          3,
          4,
          3,
          2,
          4,
          4,
          4,
          4,
          2,
          206,
          174,
          190,
          14,
          14,
          14,
          14,
          14,
          65,
          24,
          9,
          12,
          244,
          184,
          178,
          180,
          190,
          243,
          184,
          174,
          174,
          174,
          176,
          189,
          14,
          14,
          14,
          14,
          14,
          14,
          14,
          14,
          14,
          14,
          14,
          14,
          35,
          14,
          14,
          14,
          14,
          14,
          14,
          14,
          14,
          14,
          14,
          14,
          14,
          14,
          14,
          14,
          14,
          14,
          14,
          14,
          184,
          14,
          184,
          14,
          14,
          14,
          14,
          14,
          14,
          14,
          14,
          14,
          14,
          14,
          14,
          14,
          14,
          14,
          174,
          174,
          174,
          174,
          178,
          174,
          174,
          174,
          174,
          174,
          174,
          174,
          174,
          174,
          174,
          174,
          174,
          179,
          178,
          179,
          178,
          179,
          174,
          184,
          183,
          174,
          179,
          179,
          178,
          178,
          179,
          184,
          174,
          179,
          174,
          184,
          179,
          174,
          174,
          174,
          174,
          174,
          174,
          174,
          174,
          174,
          178,
          178,
          179,
          174,
          179,
          174,
          178,
          174,
          174,
          10,
          174,
          174,
          174,
          174,
          178,
          174,
          174,
          174,
          184,
          174,
          174,
          179,
          174,
          174,
          183,
          174,
          178,
          174,
          174,
          174,
          174,
          174,
          174,
          174,
          174,
          174,
          174,
          174,
          174,
          174,
          174,
          174,
          174,
          174,
          174,
          174,
          174,
          174,
          174,
          174,
          178,
          174,
          174,
          174,
          174,
          174,
          174,
          174,
          174,
          174,
          174,
          174,
          174,
          19,
          174,
          174,
          174,
          174,
          178,
          174,
          179,
          174,
          174,
          174,
          174,
          174,
          174,
          174,
          174,
          178,
          174,
          174,
          174,
          174,
          233,
          184,
          193,
          178,
          184,
          178,
          180,
          183,
          184,
          178,
          178,
          183,
          183,
          178,
          181,
          185,
          186,
          186,
          194,
          186,
          185,
          186,
          186,
          185,
          186,
          183,
          185,
          183,
          186,
          186,
          184,
          185,
          183,
          178,
          180,
          183,
          174,
          178,
          179,
          174,
          179,
          178,
          176,
          174,
          174,
          174,
          176,
          174,
          174,
          174,
          178,
          179,
          183,
          188,
          178,
          176,
          2,
          174,
          174,
          174,
          174,
          174,
          174,
          174,
          174,
          174,
          174,
          174,
          174,
          174,
          174,
          174,
          174,
          179,
          174,
          174,
          174,
          174,
          174,
          174,
          179,
          174,
          174,
          174,
          174,
          174,
          174,
          174,
          174,
          174,
          174,
          174,
          174,
          174,
          174,
          174,
          174,
          174,
          174,
          174,
          174,
          174,
          174,
          174,
          174,
          174,
          174,
          174,
          174,
          174,
          174,
          174,
          174,
          174,
          174,
          174,
          174,
          174,
          174,
          174,
          174,
          174,
          174,
          174,
          174,
          174,
          174,
          174,
          174,
          174,
          174,
          174,
          174,
          174,
          174,
          174,
          174,
          5,
          174,
          174,
          174,
          174,
          174,
          174,
          174,
          174,
          174,
          174,
          1,
          174,
          174,
          174,
          174,
          174,
          174,
          174,
          178,
          178,
          183,
          178,
          179,
          183,
          183,
          178,
          178,
          179,
          178,
          179,
          175,
          179,
          174,
          174,
          5,
          176,
          174,
          178,
          184,
          189,
          179,
          178,
          184,
          174,
          174,
          182,
          184,
          179,
          183,
          174,
          174,
          179,
          174,
          174,
          179,
          183,
          179,
          178,
          175,
          184,
          181,
          178,
          183,
          184,
          184,
          184,
          183,
          183,
          183,
          186,
          183,
          180,
          179,
          174,
          179,
          178,
          178,
          178,
          174,
          174,
          174,
          179,
          174,
          174,
          178,
          174,
          189,
          179,
          174,
          184,
          174,
          174,
          188,
          175,
          189,
          5,
          175,
          179,
          184,
          175,
          192,
          175,
          189,
          175,
          189,
          184,
          178,
          183,
          248,
          179,
          179,
          184,
          180,
          185,
          189,
          179,
          191,
          178,
          188,
          176,
          239,
          180,
          188,
          174,
          184,
          188,
          174,
          175,
          178,
          176,
          179,
          178,
          174,
          184,
          174,
          174,
          174,
          174,
          178,
          174,
          174,
          179,
          174,
          189,
          174,
          179,
          179,
          178,
          176,
          181,
          186,
          183,
          185,
          179,
          183,
          179,
          179,
          183,
          185,
          185,
          179,
          181,
          183,
          181,
          179,
          174,
          179,
          178,
          174,
          174,
          174,
          174,
          174,
          179,
          174,
          174,
          174,
          174,
          174,
          174,
          174,
          174,
          174,
          174,
          174,
          179,
          174,
          174,
          174,
          186,
          174,
          176,
          176,
          177,
          179,
          177,
          176,
          176,
          177,
          176,
          182,
          179,
          177,
          177,
          176,
          2,
          176,
          174,
          2,
          176,
          176,
          174,
          176,
          176,
          1,
          3,
          195,
          197,
          174,
          299,
          19,
          248,
          186,
          210,
          284,
          319,
          1,
          19,
          206,
          190,
          202,
          214,
          128,
          200,
          340,
          60,
          381,
          346,
          19,
          213,
          1,
          3,
          175,
          2,
          19,
          205,
          213,
          194,
          5,
          239,
          85,
          65,
          68,
          12,
          13,
          12,
          14,
          174,
          174,
          12,
          11,
          199,
          174,
          350,
          95,
          78,
          85,
          85,
          81,
          85,
          85,
          95,
          203,
          193,
          1,
          28,
          84,
          4,
          2,
          2,
          2,
          4,
          2,
          1,
          1,
          4,
          4,
          4,
          4,
          4,
          310,
          174,
          63,
          240,
          284,
          181,
          208,
          197,
          197,
          178,
          174,
          12,
          12,
          13,
          365,
          1,
          197,
          182,
          269,
          80,
          3,
          65,
          191,
          366,
          258,
          19,
          203,
          192,
          9,
          11,
          246,
          6,
          294,
          273,
          363,
          328,
          256,
          1,
          338,
          292,
          363,
          174,
          177,
          1,
          7,
          263,
          19,
          183,
          196,
          81,
          269,
          179,
          214,
          14,
          198,
          208,
          197,
          204,
          174,
          177,
          12,
          191,
          206,
          199,
          213,
          186,
          289,
          200,
          286,
          271,
          186,
          187
         ]
        }
       ],
       "layout": {
        "barmode": "group",
        "height": 400,
        "template": {
         "data": {
          "bar": [
           {
            "error_x": {
             "color": "#2a3f5f"
            },
            "error_y": {
             "color": "#2a3f5f"
            },
            "marker": {
             "line": {
              "color": "#E5ECF6",
              "width": 0.5
             }
            },
            "type": "bar"
           }
          ],
          "barpolar": [
           {
            "marker": {
             "line": {
              "color": "#E5ECF6",
              "width": 0.5
             }
            },
            "type": "barpolar"
           }
          ],
          "carpet": [
           {
            "aaxis": {
             "endlinecolor": "#2a3f5f",
             "gridcolor": "white",
             "linecolor": "white",
             "minorgridcolor": "white",
             "startlinecolor": "#2a3f5f"
            },
            "baxis": {
             "endlinecolor": "#2a3f5f",
             "gridcolor": "white",
             "linecolor": "white",
             "minorgridcolor": "white",
             "startlinecolor": "#2a3f5f"
            },
            "type": "carpet"
           }
          ],
          "choropleth": [
           {
            "colorbar": {
             "outlinewidth": 0,
             "ticks": ""
            },
            "type": "choropleth"
           }
          ],
          "contour": [
           {
            "colorbar": {
             "outlinewidth": 0,
             "ticks": ""
            },
            "colorscale": [
             [
              0,
              "#0d0887"
             ],
             [
              0.1111111111111111,
              "#46039f"
             ],
             [
              0.2222222222222222,
              "#7201a8"
             ],
             [
              0.3333333333333333,
              "#9c179e"
             ],
             [
              0.4444444444444444,
              "#bd3786"
             ],
             [
              0.5555555555555556,
              "#d8576b"
             ],
             [
              0.6666666666666666,
              "#ed7953"
             ],
             [
              0.7777777777777778,
              "#fb9f3a"
             ],
             [
              0.8888888888888888,
              "#fdca26"
             ],
             [
              1,
              "#f0f921"
             ]
            ],
            "type": "contour"
           }
          ],
          "contourcarpet": [
           {
            "colorbar": {
             "outlinewidth": 0,
             "ticks": ""
            },
            "type": "contourcarpet"
           }
          ],
          "heatmap": [
           {
            "colorbar": {
             "outlinewidth": 0,
             "ticks": ""
            },
            "colorscale": [
             [
              0,
              "#0d0887"
             ],
             [
              0.1111111111111111,
              "#46039f"
             ],
             [
              0.2222222222222222,
              "#7201a8"
             ],
             [
              0.3333333333333333,
              "#9c179e"
             ],
             [
              0.4444444444444444,
              "#bd3786"
             ],
             [
              0.5555555555555556,
              "#d8576b"
             ],
             [
              0.6666666666666666,
              "#ed7953"
             ],
             [
              0.7777777777777778,
              "#fb9f3a"
             ],
             [
              0.8888888888888888,
              "#fdca26"
             ],
             [
              1,
              "#f0f921"
             ]
            ],
            "type": "heatmap"
           }
          ],
          "heatmapgl": [
           {
            "colorbar": {
             "outlinewidth": 0,
             "ticks": ""
            },
            "colorscale": [
             [
              0,
              "#0d0887"
             ],
             [
              0.1111111111111111,
              "#46039f"
             ],
             [
              0.2222222222222222,
              "#7201a8"
             ],
             [
              0.3333333333333333,
              "#9c179e"
             ],
             [
              0.4444444444444444,
              "#bd3786"
             ],
             [
              0.5555555555555556,
              "#d8576b"
             ],
             [
              0.6666666666666666,
              "#ed7953"
             ],
             [
              0.7777777777777778,
              "#fb9f3a"
             ],
             [
              0.8888888888888888,
              "#fdca26"
             ],
             [
              1,
              "#f0f921"
             ]
            ],
            "type": "heatmapgl"
           }
          ],
          "histogram": [
           {
            "marker": {
             "colorbar": {
              "outlinewidth": 0,
              "ticks": ""
             }
            },
            "type": "histogram"
           }
          ],
          "histogram2d": [
           {
            "colorbar": {
             "outlinewidth": 0,
             "ticks": ""
            },
            "colorscale": [
             [
              0,
              "#0d0887"
             ],
             [
              0.1111111111111111,
              "#46039f"
             ],
             [
              0.2222222222222222,
              "#7201a8"
             ],
             [
              0.3333333333333333,
              "#9c179e"
             ],
             [
              0.4444444444444444,
              "#bd3786"
             ],
             [
              0.5555555555555556,
              "#d8576b"
             ],
             [
              0.6666666666666666,
              "#ed7953"
             ],
             [
              0.7777777777777778,
              "#fb9f3a"
             ],
             [
              0.8888888888888888,
              "#fdca26"
             ],
             [
              1,
              "#f0f921"
             ]
            ],
            "type": "histogram2d"
           }
          ],
          "histogram2dcontour": [
           {
            "colorbar": {
             "outlinewidth": 0,
             "ticks": ""
            },
            "colorscale": [
             [
              0,
              "#0d0887"
             ],
             [
              0.1111111111111111,
              "#46039f"
             ],
             [
              0.2222222222222222,
              "#7201a8"
             ],
             [
              0.3333333333333333,
              "#9c179e"
             ],
             [
              0.4444444444444444,
              "#bd3786"
             ],
             [
              0.5555555555555556,
              "#d8576b"
             ],
             [
              0.6666666666666666,
              "#ed7953"
             ],
             [
              0.7777777777777778,
              "#fb9f3a"
             ],
             [
              0.8888888888888888,
              "#fdca26"
             ],
             [
              1,
              "#f0f921"
             ]
            ],
            "type": "histogram2dcontour"
           }
          ],
          "mesh3d": [
           {
            "colorbar": {
             "outlinewidth": 0,
             "ticks": ""
            },
            "type": "mesh3d"
           }
          ],
          "parcoords": [
           {
            "line": {
             "colorbar": {
              "outlinewidth": 0,
              "ticks": ""
             }
            },
            "type": "parcoords"
           }
          ],
          "pie": [
           {
            "automargin": true,
            "type": "pie"
           }
          ],
          "scatter": [
           {
            "marker": {
             "colorbar": {
              "outlinewidth": 0,
              "ticks": ""
             }
            },
            "type": "scatter"
           }
          ],
          "scatter3d": [
           {
            "line": {
             "colorbar": {
              "outlinewidth": 0,
              "ticks": ""
             }
            },
            "marker": {
             "colorbar": {
              "outlinewidth": 0,
              "ticks": ""
             }
            },
            "type": "scatter3d"
           }
          ],
          "scattercarpet": [
           {
            "marker": {
             "colorbar": {
              "outlinewidth": 0,
              "ticks": ""
             }
            },
            "type": "scattercarpet"
           }
          ],
          "scattergeo": [
           {
            "marker": {
             "colorbar": {
              "outlinewidth": 0,
              "ticks": ""
             }
            },
            "type": "scattergeo"
           }
          ],
          "scattergl": [
           {
            "marker": {
             "colorbar": {
              "outlinewidth": 0,
              "ticks": ""
             }
            },
            "type": "scattergl"
           }
          ],
          "scattermapbox": [
           {
            "marker": {
             "colorbar": {
              "outlinewidth": 0,
              "ticks": ""
             }
            },
            "type": "scattermapbox"
           }
          ],
          "scatterpolar": [
           {
            "marker": {
             "colorbar": {
              "outlinewidth": 0,
              "ticks": ""
             }
            },
            "type": "scatterpolar"
           }
          ],
          "scatterpolargl": [
           {
            "marker": {
             "colorbar": {
              "outlinewidth": 0,
              "ticks": ""
             }
            },
            "type": "scatterpolargl"
           }
          ],
          "scatterternary": [
           {
            "marker": {
             "colorbar": {
              "outlinewidth": 0,
              "ticks": ""
             }
            },
            "type": "scatterternary"
           }
          ],
          "surface": [
           {
            "colorbar": {
             "outlinewidth": 0,
             "ticks": ""
            },
            "colorscale": [
             [
              0,
              "#0d0887"
             ],
             [
              0.1111111111111111,
              "#46039f"
             ],
             [
              0.2222222222222222,
              "#7201a8"
             ],
             [
              0.3333333333333333,
              "#9c179e"
             ],
             [
              0.4444444444444444,
              "#bd3786"
             ],
             [
              0.5555555555555556,
              "#d8576b"
             ],
             [
              0.6666666666666666,
              "#ed7953"
             ],
             [
              0.7777777777777778,
              "#fb9f3a"
             ],
             [
              0.8888888888888888,
              "#fdca26"
             ],
             [
              1,
              "#f0f921"
             ]
            ],
            "type": "surface"
           }
          ],
          "table": [
           {
            "cells": {
             "fill": {
              "color": "#EBF0F8"
             },
             "line": {
              "color": "white"
             }
            },
            "header": {
             "fill": {
              "color": "#C8D4E3"
             },
             "line": {
              "color": "white"
             }
            },
            "type": "table"
           }
          ]
         },
         "layout": {
          "annotationdefaults": {
           "arrowcolor": "#2a3f5f",
           "arrowhead": 0,
           "arrowwidth": 1
          },
          "coloraxis": {
           "colorbar": {
            "outlinewidth": 0,
            "ticks": ""
           }
          },
          "colorscale": {
           "diverging": [
            [
             0,
             "#8e0152"
            ],
            [
             0.1,
             "#c51b7d"
            ],
            [
             0.2,
             "#de77ae"
            ],
            [
             0.3,
             "#f1b6da"
            ],
            [
             0.4,
             "#fde0ef"
            ],
            [
             0.5,
             "#f7f7f7"
            ],
            [
             0.6,
             "#e6f5d0"
            ],
            [
             0.7,
             "#b8e186"
            ],
            [
             0.8,
             "#7fbc41"
            ],
            [
             0.9,
             "#4d9221"
            ],
            [
             1,
             "#276419"
            ]
           ],
           "sequential": [
            [
             0,
             "#0d0887"
            ],
            [
             0.1111111111111111,
             "#46039f"
            ],
            [
             0.2222222222222222,
             "#7201a8"
            ],
            [
             0.3333333333333333,
             "#9c179e"
            ],
            [
             0.4444444444444444,
             "#bd3786"
            ],
            [
             0.5555555555555556,
             "#d8576b"
            ],
            [
             0.6666666666666666,
             "#ed7953"
            ],
            [
             0.7777777777777778,
             "#fb9f3a"
            ],
            [
             0.8888888888888888,
             "#fdca26"
            ],
            [
             1,
             "#f0f921"
            ]
           ],
           "sequentialminus": [
            [
             0,
             "#0d0887"
            ],
            [
             0.1111111111111111,
             "#46039f"
            ],
            [
             0.2222222222222222,
             "#7201a8"
            ],
            [
             0.3333333333333333,
             "#9c179e"
            ],
            [
             0.4444444444444444,
             "#bd3786"
            ],
            [
             0.5555555555555556,
             "#d8576b"
            ],
            [
             0.6666666666666666,
             "#ed7953"
            ],
            [
             0.7777777777777778,
             "#fb9f3a"
            ],
            [
             0.8888888888888888,
             "#fdca26"
            ],
            [
             1,
             "#f0f921"
            ]
           ]
          },
          "colorway": [
           "#636efa",
           "#EF553B",
           "#00cc96",
           "#ab63fa",
           "#FFA15A",
           "#19d3f3",
           "#FF6692",
           "#B6E880",
           "#FF97FF",
           "#FECB52"
          ],
          "font": {
           "color": "#2a3f5f"
          },
          "geo": {
           "bgcolor": "white",
           "lakecolor": "white",
           "landcolor": "#E5ECF6",
           "showlakes": true,
           "showland": true,
           "subunitcolor": "white"
          },
          "hoverlabel": {
           "align": "left"
          },
          "hovermode": "closest",
          "mapbox": {
           "style": "light"
          },
          "paper_bgcolor": "white",
          "plot_bgcolor": "#E5ECF6",
          "polar": {
           "angularaxis": {
            "gridcolor": "white",
            "linecolor": "white",
            "ticks": ""
           },
           "bgcolor": "#E5ECF6",
           "radialaxis": {
            "gridcolor": "white",
            "linecolor": "white",
            "ticks": ""
           }
          },
          "scene": {
           "xaxis": {
            "backgroundcolor": "#E5ECF6",
            "gridcolor": "white",
            "gridwidth": 2,
            "linecolor": "white",
            "showbackground": true,
            "ticks": "",
            "zerolinecolor": "white"
           },
           "yaxis": {
            "backgroundcolor": "#E5ECF6",
            "gridcolor": "white",
            "gridwidth": 2,
            "linecolor": "white",
            "showbackground": true,
            "ticks": "",
            "zerolinecolor": "white"
           },
           "zaxis": {
            "backgroundcolor": "#E5ECF6",
            "gridcolor": "white",
            "gridwidth": 2,
            "linecolor": "white",
            "showbackground": true,
            "ticks": "",
            "zerolinecolor": "white"
           }
          },
          "shapedefaults": {
           "line": {
            "color": "#2a3f5f"
           }
          },
          "ternary": {
           "aaxis": {
            "gridcolor": "white",
            "linecolor": "white",
            "ticks": ""
           },
           "baxis": {
            "gridcolor": "white",
            "linecolor": "white",
            "ticks": ""
           },
           "bgcolor": "#E5ECF6",
           "caxis": {
            "gridcolor": "white",
            "linecolor": "white",
            "ticks": ""
           }
          },
          "title": {
           "x": 0.05
          },
          "xaxis": {
           "automargin": true,
           "gridcolor": "white",
           "linecolor": "white",
           "ticks": "",
           "title": {
            "standoff": 15
           },
           "zerolinecolor": "white",
           "zerolinewidth": 2
          },
          "yaxis": {
           "automargin": true,
           "gridcolor": "white",
           "linecolor": "white",
           "ticks": "",
           "title": {
            "standoff": 15
           },
           "zerolinecolor": "white",
           "zerolinewidth": 2
          }
         }
        },
        "width": 1200
       }
      }
     },
     "metadata": {}
    }
   ],
   "source": [
    "vis(tw[0])"
   ]
  },
  {
   "cell_type": "code",
   "execution_count": 26,
   "metadata": {},
   "outputs": [
    {
     "output_type": "execute_result",
     "data": {
      "text/plain": "                       Name  Count  wom  Month  Year  predictions  \\\n0             \\tبانش 7.75\\t     17    1     12  2018          3.0   \n1                \\tبانش 8\\t     16    1     12  2018          4.0   \n2             \\tبانش 8.25\\t     14    1     12  2018          3.0   \n3              \\tبانش 8.5\\t     16    1     12  2018          4.0   \n4  \\tبروب أمامى Centurion\\t    264    1     12  2018        188.0   \n\n   Avg Unit Price  Actual_month_Cost  Prediction_month_Cost  \n0     1066.666667       18133.333333            3200.000000  \n1     1066.666667       17066.666667            4266.666667  \n2     1066.666667       14933.333333            3200.000000  \n3     1066.666667       17066.666667            4266.666667  \n4     1239.222222      327154.666667          232973.777778  ",
      "text/html": "<div>\n<style scoped>\n    .dataframe tbody tr th:only-of-type {\n        vertical-align: middle;\n    }\n\n    .dataframe tbody tr th {\n        vertical-align: top;\n    }\n\n    .dataframe thead th {\n        text-align: right;\n    }\n</style>\n<table border=\"1\" class=\"dataframe\">\n  <thead>\n    <tr style=\"text-align: right;\">\n      <th></th>\n      <th>Name</th>\n      <th>Count</th>\n      <th>wom</th>\n      <th>Month</th>\n      <th>Year</th>\n      <th>predictions</th>\n      <th>Avg Unit Price</th>\n      <th>Actual_month_Cost</th>\n      <th>Prediction_month_Cost</th>\n    </tr>\n  </thead>\n  <tbody>\n    <tr>\n      <th>0</th>\n      <td>\\tبانش 7.75\\t</td>\n      <td>17</td>\n      <td>1</td>\n      <td>12</td>\n      <td>2018</td>\n      <td>3.0</td>\n      <td>1066.666667</td>\n      <td>18133.333333</td>\n      <td>3200.000000</td>\n    </tr>\n    <tr>\n      <th>1</th>\n      <td>\\tبانش 8\\t</td>\n      <td>16</td>\n      <td>1</td>\n      <td>12</td>\n      <td>2018</td>\n      <td>4.0</td>\n      <td>1066.666667</td>\n      <td>17066.666667</td>\n      <td>4266.666667</td>\n    </tr>\n    <tr>\n      <th>2</th>\n      <td>\\tبانش 8.25\\t</td>\n      <td>14</td>\n      <td>1</td>\n      <td>12</td>\n      <td>2018</td>\n      <td>3.0</td>\n      <td>1066.666667</td>\n      <td>14933.333333</td>\n      <td>3200.000000</td>\n    </tr>\n    <tr>\n      <th>3</th>\n      <td>\\tبانش 8.5\\t</td>\n      <td>16</td>\n      <td>1</td>\n      <td>12</td>\n      <td>2018</td>\n      <td>4.0</td>\n      <td>1066.666667</td>\n      <td>17066.666667</td>\n      <td>4266.666667</td>\n    </tr>\n    <tr>\n      <th>4</th>\n      <td>\\tبروب أمامى Centurion\\t</td>\n      <td>264</td>\n      <td>1</td>\n      <td>12</td>\n      <td>2018</td>\n      <td>188.0</td>\n      <td>1239.222222</td>\n      <td>327154.666667</td>\n      <td>232973.777778</td>\n    </tr>\n  </tbody>\n</table>\n</div>"
     },
     "metadata": {},
     "execution_count": 26
    }
   ],
   "source": [
    "tw[0].head()"
   ]
  },
  {
   "cell_type": "code",
   "execution_count": 126,
   "metadata": {},
   "outputs": [
    {
     "output_type": "stream",
     "name": "stdout",
     "text": "1 month predection MAE 20.15745856353591\n1 month predection MAPE 9.335876733048204\nLast quarter year MAPE 5.586039107542428\nhalf year MAPE 3.7240260716949525\n"
    }
   ],
   "source": [
    "regressor = DecisionTreeRegressor(random_state=0)\n",
    "tm=perform_monthly_regression(regressor)"
   ]
  },
  {
   "cell_type": "code",
   "execution_count": 114,
   "metadata": {},
   "outputs": [
    {
     "output_type": "display_data",
     "data": {
      "application/vnd.plotly.v1+json": {
       "config": {
        "plotlyServerURL": "https://plot.ly"
       },
       "data": [
        {
         "marker": {
          "color": "#800000"
         },
         "name": "Real Data",
         "type": "bar",
         "x": [
          "أوبسيت صغير",
          "أيباك صغير",
          "أيباك كبير",
          "بليد Femto Kit",
          "جاون مريض (XL)",
          "جوانتى أنسيل 7",
          "جوانتى أنسيل 8",
          "حقنة ليوسنتس (1/2أمبول)",
          "زجاجة B.S.S - (مللى500)",
          "كاسيت Enfinite - مرة واحدة (1040)-2087",
          "كيراتوم 1.2",
          "كيراتوم2.4",
          "محلول أى فيل",
          "ميكروسبونج",
          "ميكروسبونج الليزك"
         ],
         "y": [
          1809,
          2096,
          1874,
          427,
          489,
          469,
          466,
          537,
          1505,
          1421,
          1113,
          1073,
          1112,
          1503,
          1382
         ]
        },
        {
         "marker": {
          "color": "#228B22"
         },
         "name": "Predicted",
         "type": "bar",
         "x": [
          "أوبسيت صغير",
          "أيباك صغير",
          "أيباك كبير",
          "بليد Femto Kit",
          "جاون مريض (XL)",
          "جوانتى أنسيل 7",
          "جوانتى أنسيل 8",
          "حقنة ليوسنتس (1/2أمبول)",
          "زجاجة B.S.S - (مللى500)",
          "كاسيت Enfinite - مرة واحدة (1040)-2087",
          "كيراتوم 1.2",
          "كيراتوم2.4",
          "محلول أى فيل",
          "ميكروسبونج",
          "ميكروسبونج الليزك"
         ],
         "y": [
          1844,
          2074,
          1900,
          474,
          544,
          494,
          492,
          534,
          1525,
          1440,
          1146,
          1113,
          1145,
          1701,
          1591
         ]
        }
       ],
       "layout": {
        "barmode": "group",
        "height": 400,
        "template": {
         "data": {
          "bar": [
           {
            "error_x": {
             "color": "#2a3f5f"
            },
            "error_y": {
             "color": "#2a3f5f"
            },
            "marker": {
             "line": {
              "color": "#E5ECF6",
              "width": 0.5
             }
            },
            "type": "bar"
           }
          ],
          "barpolar": [
           {
            "marker": {
             "line": {
              "color": "#E5ECF6",
              "width": 0.5
             }
            },
            "type": "barpolar"
           }
          ],
          "carpet": [
           {
            "aaxis": {
             "endlinecolor": "#2a3f5f",
             "gridcolor": "white",
             "linecolor": "white",
             "minorgridcolor": "white",
             "startlinecolor": "#2a3f5f"
            },
            "baxis": {
             "endlinecolor": "#2a3f5f",
             "gridcolor": "white",
             "linecolor": "white",
             "minorgridcolor": "white",
             "startlinecolor": "#2a3f5f"
            },
            "type": "carpet"
           }
          ],
          "choropleth": [
           {
            "colorbar": {
             "outlinewidth": 0,
             "ticks": ""
            },
            "type": "choropleth"
           }
          ],
          "contour": [
           {
            "colorbar": {
             "outlinewidth": 0,
             "ticks": ""
            },
            "colorscale": [
             [
              0,
              "#0d0887"
             ],
             [
              0.1111111111111111,
              "#46039f"
             ],
             [
              0.2222222222222222,
              "#7201a8"
             ],
             [
              0.3333333333333333,
              "#9c179e"
             ],
             [
              0.4444444444444444,
              "#bd3786"
             ],
             [
              0.5555555555555556,
              "#d8576b"
             ],
             [
              0.6666666666666666,
              "#ed7953"
             ],
             [
              0.7777777777777778,
              "#fb9f3a"
             ],
             [
              0.8888888888888888,
              "#fdca26"
             ],
             [
              1,
              "#f0f921"
             ]
            ],
            "type": "contour"
           }
          ],
          "contourcarpet": [
           {
            "colorbar": {
             "outlinewidth": 0,
             "ticks": ""
            },
            "type": "contourcarpet"
           }
          ],
          "heatmap": [
           {
            "colorbar": {
             "outlinewidth": 0,
             "ticks": ""
            },
            "colorscale": [
             [
              0,
              "#0d0887"
             ],
             [
              0.1111111111111111,
              "#46039f"
             ],
             [
              0.2222222222222222,
              "#7201a8"
             ],
             [
              0.3333333333333333,
              "#9c179e"
             ],
             [
              0.4444444444444444,
              "#bd3786"
             ],
             [
              0.5555555555555556,
              "#d8576b"
             ],
             [
              0.6666666666666666,
              "#ed7953"
             ],
             [
              0.7777777777777778,
              "#fb9f3a"
             ],
             [
              0.8888888888888888,
              "#fdca26"
             ],
             [
              1,
              "#f0f921"
             ]
            ],
            "type": "heatmap"
           }
          ],
          "heatmapgl": [
           {
            "colorbar": {
             "outlinewidth": 0,
             "ticks": ""
            },
            "colorscale": [
             [
              0,
              "#0d0887"
             ],
             [
              0.1111111111111111,
              "#46039f"
             ],
             [
              0.2222222222222222,
              "#7201a8"
             ],
             [
              0.3333333333333333,
              "#9c179e"
             ],
             [
              0.4444444444444444,
              "#bd3786"
             ],
             [
              0.5555555555555556,
              "#d8576b"
             ],
             [
              0.6666666666666666,
              "#ed7953"
             ],
             [
              0.7777777777777778,
              "#fb9f3a"
             ],
             [
              0.8888888888888888,
              "#fdca26"
             ],
             [
              1,
              "#f0f921"
             ]
            ],
            "type": "heatmapgl"
           }
          ],
          "histogram": [
           {
            "marker": {
             "colorbar": {
              "outlinewidth": 0,
              "ticks": ""
             }
            },
            "type": "histogram"
           }
          ],
          "histogram2d": [
           {
            "colorbar": {
             "outlinewidth": 0,
             "ticks": ""
            },
            "colorscale": [
             [
              0,
              "#0d0887"
             ],
             [
              0.1111111111111111,
              "#46039f"
             ],
             [
              0.2222222222222222,
              "#7201a8"
             ],
             [
              0.3333333333333333,
              "#9c179e"
             ],
             [
              0.4444444444444444,
              "#bd3786"
             ],
             [
              0.5555555555555556,
              "#d8576b"
             ],
             [
              0.6666666666666666,
              "#ed7953"
             ],
             [
              0.7777777777777778,
              "#fb9f3a"
             ],
             [
              0.8888888888888888,
              "#fdca26"
             ],
             [
              1,
              "#f0f921"
             ]
            ],
            "type": "histogram2d"
           }
          ],
          "histogram2dcontour": [
           {
            "colorbar": {
             "outlinewidth": 0,
             "ticks": ""
            },
            "colorscale": [
             [
              0,
              "#0d0887"
             ],
             [
              0.1111111111111111,
              "#46039f"
             ],
             [
              0.2222222222222222,
              "#7201a8"
             ],
             [
              0.3333333333333333,
              "#9c179e"
             ],
             [
              0.4444444444444444,
              "#bd3786"
             ],
             [
              0.5555555555555556,
              "#d8576b"
             ],
             [
              0.6666666666666666,
              "#ed7953"
             ],
             [
              0.7777777777777778,
              "#fb9f3a"
             ],
             [
              0.8888888888888888,
              "#fdca26"
             ],
             [
              1,
              "#f0f921"
             ]
            ],
            "type": "histogram2dcontour"
           }
          ],
          "mesh3d": [
           {
            "colorbar": {
             "outlinewidth": 0,
             "ticks": ""
            },
            "type": "mesh3d"
           }
          ],
          "parcoords": [
           {
            "line": {
             "colorbar": {
              "outlinewidth": 0,
              "ticks": ""
             }
            },
            "type": "parcoords"
           }
          ],
          "pie": [
           {
            "automargin": true,
            "type": "pie"
           }
          ],
          "scatter": [
           {
            "marker": {
             "colorbar": {
              "outlinewidth": 0,
              "ticks": ""
             }
            },
            "type": "scatter"
           }
          ],
          "scatter3d": [
           {
            "line": {
             "colorbar": {
              "outlinewidth": 0,
              "ticks": ""
             }
            },
            "marker": {
             "colorbar": {
              "outlinewidth": 0,
              "ticks": ""
             }
            },
            "type": "scatter3d"
           }
          ],
          "scattercarpet": [
           {
            "marker": {
             "colorbar": {
              "outlinewidth": 0,
              "ticks": ""
             }
            },
            "type": "scattercarpet"
           }
          ],
          "scattergeo": [
           {
            "marker": {
             "colorbar": {
              "outlinewidth": 0,
              "ticks": ""
             }
            },
            "type": "scattergeo"
           }
          ],
          "scattergl": [
           {
            "marker": {
             "colorbar": {
              "outlinewidth": 0,
              "ticks": ""
             }
            },
            "type": "scattergl"
           }
          ],
          "scattermapbox": [
           {
            "marker": {
             "colorbar": {
              "outlinewidth": 0,
              "ticks": ""
             }
            },
            "type": "scattermapbox"
           }
          ],
          "scatterpolar": [
           {
            "marker": {
             "colorbar": {
              "outlinewidth": 0,
              "ticks": ""
             }
            },
            "type": "scatterpolar"
           }
          ],
          "scatterpolargl": [
           {
            "marker": {
             "colorbar": {
              "outlinewidth": 0,
              "ticks": ""
             }
            },
            "type": "scatterpolargl"
           }
          ],
          "scatterternary": [
           {
            "marker": {
             "colorbar": {
              "outlinewidth": 0,
              "ticks": ""
             }
            },
            "type": "scatterternary"
           }
          ],
          "surface": [
           {
            "colorbar": {
             "outlinewidth": 0,
             "ticks": ""
            },
            "colorscale": [
             [
              0,
              "#0d0887"
             ],
             [
              0.1111111111111111,
              "#46039f"
             ],
             [
              0.2222222222222222,
              "#7201a8"
             ],
             [
              0.3333333333333333,
              "#9c179e"
             ],
             [
              0.4444444444444444,
              "#bd3786"
             ],
             [
              0.5555555555555556,
              "#d8576b"
             ],
             [
              0.6666666666666666,
              "#ed7953"
             ],
             [
              0.7777777777777778,
              "#fb9f3a"
             ],
             [
              0.8888888888888888,
              "#fdca26"
             ],
             [
              1,
              "#f0f921"
             ]
            ],
            "type": "surface"
           }
          ],
          "table": [
           {
            "cells": {
             "fill": {
              "color": "#EBF0F8"
             },
             "line": {
              "color": "white"
             }
            },
            "header": {
             "fill": {
              "color": "#C8D4E3"
             },
             "line": {
              "color": "white"
             }
            },
            "type": "table"
           }
          ]
         },
         "layout": {
          "annotationdefaults": {
           "arrowcolor": "#2a3f5f",
           "arrowhead": 0,
           "arrowwidth": 1
          },
          "coloraxis": {
           "colorbar": {
            "outlinewidth": 0,
            "ticks": ""
           }
          },
          "colorscale": {
           "diverging": [
            [
             0,
             "#8e0152"
            ],
            [
             0.1,
             "#c51b7d"
            ],
            [
             0.2,
             "#de77ae"
            ],
            [
             0.3,
             "#f1b6da"
            ],
            [
             0.4,
             "#fde0ef"
            ],
            [
             0.5,
             "#f7f7f7"
            ],
            [
             0.6,
             "#e6f5d0"
            ],
            [
             0.7,
             "#b8e186"
            ],
            [
             0.8,
             "#7fbc41"
            ],
            [
             0.9,
             "#4d9221"
            ],
            [
             1,
             "#276419"
            ]
           ],
           "sequential": [
            [
             0,
             "#0d0887"
            ],
            [
             0.1111111111111111,
             "#46039f"
            ],
            [
             0.2222222222222222,
             "#7201a8"
            ],
            [
             0.3333333333333333,
             "#9c179e"
            ],
            [
             0.4444444444444444,
             "#bd3786"
            ],
            [
             0.5555555555555556,
             "#d8576b"
            ],
            [
             0.6666666666666666,
             "#ed7953"
            ],
            [
             0.7777777777777778,
             "#fb9f3a"
            ],
            [
             0.8888888888888888,
             "#fdca26"
            ],
            [
             1,
             "#f0f921"
            ]
           ],
           "sequentialminus": [
            [
             0,
             "#0d0887"
            ],
            [
             0.1111111111111111,
             "#46039f"
            ],
            [
             0.2222222222222222,
             "#7201a8"
            ],
            [
             0.3333333333333333,
             "#9c179e"
            ],
            [
             0.4444444444444444,
             "#bd3786"
            ],
            [
             0.5555555555555556,
             "#d8576b"
            ],
            [
             0.6666666666666666,
             "#ed7953"
            ],
            [
             0.7777777777777778,
             "#fb9f3a"
            ],
            [
             0.8888888888888888,
             "#fdca26"
            ],
            [
             1,
             "#f0f921"
            ]
           ]
          },
          "colorway": [
           "#636efa",
           "#EF553B",
           "#00cc96",
           "#ab63fa",
           "#FFA15A",
           "#19d3f3",
           "#FF6692",
           "#B6E880",
           "#FF97FF",
           "#FECB52"
          ],
          "font": {
           "color": "#2a3f5f"
          },
          "geo": {
           "bgcolor": "white",
           "lakecolor": "white",
           "landcolor": "#E5ECF6",
           "showlakes": true,
           "showland": true,
           "subunitcolor": "white"
          },
          "hoverlabel": {
           "align": "left"
          },
          "hovermode": "closest",
          "mapbox": {
           "style": "light"
          },
          "paper_bgcolor": "white",
          "plot_bgcolor": "#E5ECF6",
          "polar": {
           "angularaxis": {
            "gridcolor": "white",
            "linecolor": "white",
            "ticks": ""
           },
           "bgcolor": "#E5ECF6",
           "radialaxis": {
            "gridcolor": "white",
            "linecolor": "white",
            "ticks": ""
           }
          },
          "scene": {
           "xaxis": {
            "backgroundcolor": "#E5ECF6",
            "gridcolor": "white",
            "gridwidth": 2,
            "linecolor": "white",
            "showbackground": true,
            "ticks": "",
            "zerolinecolor": "white"
           },
           "yaxis": {
            "backgroundcolor": "#E5ECF6",
            "gridcolor": "white",
            "gridwidth": 2,
            "linecolor": "white",
            "showbackground": true,
            "ticks": "",
            "zerolinecolor": "white"
           },
           "zaxis": {
            "backgroundcolor": "#E5ECF6",
            "gridcolor": "white",
            "gridwidth": 2,
            "linecolor": "white",
            "showbackground": true,
            "ticks": "",
            "zerolinecolor": "white"
           }
          },
          "shapedefaults": {
           "line": {
            "color": "#2a3f5f"
           }
          },
          "ternary": {
           "aaxis": {
            "gridcolor": "white",
            "linecolor": "white",
            "ticks": ""
           },
           "baxis": {
            "gridcolor": "white",
            "linecolor": "white",
            "ticks": ""
           },
           "bgcolor": "#E5ECF6",
           "caxis": {
            "gridcolor": "white",
            "linecolor": "white",
            "ticks": ""
           }
          },
          "title": {
           "x": 0.05
          },
          "xaxis": {
           "automargin": true,
           "gridcolor": "white",
           "linecolor": "white",
           "ticks": "",
           "title": {
            "standoff": 15
           },
           "zerolinecolor": "white",
           "zerolinewidth": 2
          },
          "yaxis": {
           "automargin": true,
           "gridcolor": "white",
           "linecolor": "white",
           "ticks": "",
           "title": {
            "standoff": 15
           },
           "zerolinecolor": "white",
           "zerolinewidth": 2
          }
         }
        },
        "width": 1200
       }
      }
     },
     "metadata": {}
    }
   ],
   "source": [
    "vis(tm[0])"
   ]
  },
  {
   "cell_type": "markdown",
   "metadata": {},
   "source": [
    "** Analysis on the prediction and actual data prices: **"
   ]
  },
  {
   "cell_type": "code",
   "execution_count": 127,
   "metadata": {},
   "outputs": [],
   "source": [
    "pred_df=tm[0]\n",
    "\n",
    "# pred_df.to_csv(\"DATA.csv\",encoding='utf-8-sig')"
   ]
  },
  {
   "cell_type": "code",
   "execution_count": 128,
   "metadata": {},
   "outputs": [
    {
     "output_type": "execute_result",
     "data": {
      "text/plain": "             Name  Count  Month  Year  predictions  Month_MAPE  \\\n0     أوبسيت صغير   1809     12  2018       1844.0    1.934771   \n1      أيباك صغير   2096     12  2018       2074.0    1.049618   \n2      أيباك كبير   1874     12  2018       1900.0    1.387407   \n3  بليد Femto Kit    427     12  2018        474.0   11.007026   \n4  جاون مريض (XL)    489     12  2018        544.0   11.247444   \n\n   Avg Unit Price  Actual_month_Cost  Prediction_month_Cost            Type  \\\n0        9.333333       16884.000000           17210.666667     أوبسيت صغير   \n1        8.285263       17365.911579           17183.635789      أيباك صغير   \n2       44.331111       83076.502222           84229.111111      أيباك كبير   \n3      998.232500      426245.277500          473162.205000  بليد Femto Kit   \n4        4.978161        2434.320690            2708.119540  جاون مريض (XL)   \n\n   Inventory_count  Inventory_price  Inventory_month_Cost  \\\n0              600         9.333333          5.600000e+03   \n1             8100         8.285263          6.711063e+04   \n2              587        44.331111          2.602236e+04   \n3             7840       998.232500          7.826143e+06   \n4             4310         4.978161          2.145587e+04   \n\n   subtract_inventory_prediction  subtract_inventory_actual  \n0                  -1.161067e+04              -1.128400e+04  \n1                   4.992700e+04               4.974472e+04  \n2                  -5.820675e+04              -5.705414e+04  \n3                   7.352981e+06               7.399898e+06  \n4                   1.874775e+04               1.902155e+04  ",
      "text/html": "<div>\n<style scoped>\n    .dataframe tbody tr th:only-of-type {\n        vertical-align: middle;\n    }\n\n    .dataframe tbody tr th {\n        vertical-align: top;\n    }\n\n    .dataframe thead th {\n        text-align: right;\n    }\n</style>\n<table border=\"1\" class=\"dataframe\">\n  <thead>\n    <tr style=\"text-align: right;\">\n      <th></th>\n      <th>Name</th>\n      <th>Count</th>\n      <th>Month</th>\n      <th>Year</th>\n      <th>predictions</th>\n      <th>Month_MAPE</th>\n      <th>Avg Unit Price</th>\n      <th>Actual_month_Cost</th>\n      <th>Prediction_month_Cost</th>\n      <th>Type</th>\n      <th>Inventory_count</th>\n      <th>Inventory_price</th>\n      <th>Inventory_month_Cost</th>\n      <th>subtract_inventory_prediction</th>\n      <th>subtract_inventory_actual</th>\n    </tr>\n  </thead>\n  <tbody>\n    <tr>\n      <th>0</th>\n      <td>أوبسيت صغير</td>\n      <td>1809</td>\n      <td>12</td>\n      <td>2018</td>\n      <td>1844.0</td>\n      <td>1.934771</td>\n      <td>9.333333</td>\n      <td>16884.000000</td>\n      <td>17210.666667</td>\n      <td>أوبسيت صغير</td>\n      <td>600</td>\n      <td>9.333333</td>\n      <td>5.600000e+03</td>\n      <td>-1.161067e+04</td>\n      <td>-1.128400e+04</td>\n    </tr>\n    <tr>\n      <th>1</th>\n      <td>أيباك صغير</td>\n      <td>2096</td>\n      <td>12</td>\n      <td>2018</td>\n      <td>2074.0</td>\n      <td>1.049618</td>\n      <td>8.285263</td>\n      <td>17365.911579</td>\n      <td>17183.635789</td>\n      <td>أيباك صغير</td>\n      <td>8100</td>\n      <td>8.285263</td>\n      <td>6.711063e+04</td>\n      <td>4.992700e+04</td>\n      <td>4.974472e+04</td>\n    </tr>\n    <tr>\n      <th>2</th>\n      <td>أيباك كبير</td>\n      <td>1874</td>\n      <td>12</td>\n      <td>2018</td>\n      <td>1900.0</td>\n      <td>1.387407</td>\n      <td>44.331111</td>\n      <td>83076.502222</td>\n      <td>84229.111111</td>\n      <td>أيباك كبير</td>\n      <td>587</td>\n      <td>44.331111</td>\n      <td>2.602236e+04</td>\n      <td>-5.820675e+04</td>\n      <td>-5.705414e+04</td>\n    </tr>\n    <tr>\n      <th>3</th>\n      <td>بليد Femto Kit</td>\n      <td>427</td>\n      <td>12</td>\n      <td>2018</td>\n      <td>474.0</td>\n      <td>11.007026</td>\n      <td>998.232500</td>\n      <td>426245.277500</td>\n      <td>473162.205000</td>\n      <td>بليد Femto Kit</td>\n      <td>7840</td>\n      <td>998.232500</td>\n      <td>7.826143e+06</td>\n      <td>7.352981e+06</td>\n      <td>7.399898e+06</td>\n    </tr>\n    <tr>\n      <th>4</th>\n      <td>جاون مريض (XL)</td>\n      <td>489</td>\n      <td>12</td>\n      <td>2018</td>\n      <td>544.0</td>\n      <td>11.247444</td>\n      <td>4.978161</td>\n      <td>2434.320690</td>\n      <td>2708.119540</td>\n      <td>جاون مريض (XL)</td>\n      <td>4310</td>\n      <td>4.978161</td>\n      <td>2.145587e+04</td>\n      <td>1.874775e+04</td>\n      <td>1.902155e+04</td>\n    </tr>\n  </tbody>\n</table>\n</div>"
     },
     "metadata": {},
     "execution_count": 128
    }
   ],
   "source": [
    "pred_df.head()"
   ]
  },
  {
   "cell_type": "code",
   "execution_count": 52,
   "metadata": {},
   "outputs": [
    {
     "output_type": "stream",
     "name": "stdout",
     "text": "The Actual total cost of the SKUs of one month is 1792905.1380431124 \nThe Prediction total cost of the SKUs of one month is 1862502.4535453895 \nThe Inventory total cost of the SKUs of one month is 9184466.601220598 \n"
    }
   ],
   "source": [
    "print(f\"The Actual total cost of the SKUs of one month is {pred_df.Actual_month_Cost.sum()} \")\n",
    "print(f\"The Prediction total cost of the SKUs of one month is {pred_df.Prediction_month_Cost.sum()} \")\n",
    "print(f\"The Inventory total cost of the SKUs of one month is {pred_df.Inventory_month_Cost.sum()} \")"
   ]
  },
  {
   "cell_type": "markdown",
   "metadata": {},
   "source": [
    "** Saved Capital From the Prediction Values**"
   ]
  },
  {
   "cell_type": "code",
   "execution_count": 53,
   "metadata": {},
   "outputs": [
    {
     "output_type": "stream",
     "name": "stdout",
     "text": "The proposed capital to be saved from the inventory spending is   7321964.147675209 \n"
    }
   ],
   "source": [
    "print(f\"The proposed capital to be saved from the inventory spending is   {pred_df.Inventory_month_Cost.sum()-pred_df.Prediction_month_Cost.sum()} \")"
   ]
  },
  {
   "cell_type": "markdown",
   "metadata": {},
   "source": [
    "** Saved Capital From the Actual Values**"
   ]
  },
  {
   "cell_type": "code",
   "execution_count": 54,
   "metadata": {},
   "outputs": [
    {
     "output_type": "stream",
     "name": "stdout",
     "text": "The proposed capital to be saved from the inventory spending is   7391561.463177486 \n"
    }
   ],
   "source": [
    "print(f\"The proposed capital to be saved from the inventory spending is   {pred_df.Inventory_month_Cost.sum()-pred_df.Actual_month_Cost.sum()} \")"
   ]
  },
  {
   "cell_type": "code",
   "execution_count": null,
   "metadata": {},
   "outputs": [],
   "source": []
  },
  {
   "cell_type": "markdown",
   "metadata": {},
   "source": [
    "2. **Support Vector Machine Regression**"
   ],
   "execution_count": null,
   "outputs": []
  },
  {
   "cell_type": "code",
   "execution_count": 38,
   "metadata": {},
   "outputs": [],
   "source": [
    "# svr = SVR()\n",
    "# perform_monthly_regression(svr)"
   ]
  },
  {
   "cell_type": "markdown",
   "metadata": {},
   "source": [
    "3. **AdaBoost Regression**"
   ],
   "execution_count": null,
   "outputs": []
  },
  {
   "cell_type": "code",
   "execution_count": 39,
   "metadata": {},
   "outputs": [],
   "source": [
    "# ada = AdaBoostRegressor(base_estimator=DecisionTreeRegressor(criterion='mae'), n_estimators=200, learning_rate=0.02, loss='square',random_state=72)\n",
    "# x=perform_weekly_regression(ada)\n",
    "# vis(x[0])"
   ]
  },
  {
   "cell_type": "code",
   "execution_count": 40,
   "metadata": {},
   "outputs": [],
   "source": [
    "# ada = AdaBoostRegressor(base_estimator=DecisionTreeRegressor(criterion='mae'), n_estimators=300, learning_rate=0.01, loss='square',random_state=7)\n",
    "# x=perform_monthly_regression(ada)\n",
    "# vis(x[0]) "
   ]
  },
  {
   "cell_type": "code",
   "execution_count": null,
   "metadata": {},
   "outputs": [],
   "source": []
  },
  {
   "cell_type": "code",
   "execution_count": 41,
   "metadata": {},
   "outputs": [],
   "source": [
    "# xgb_model = xgb.XGBRegressor(objective=\"reg:squarederror\", random_state=7)\n",
    "# perform_monthly_regression(xgb_model)"
   ]
  },
  {
   "cell_type": "code",
   "execution_count": 42,
   "metadata": {},
   "outputs": [],
   "source": [
    "# gbc=GradientBoostingRegressor(n_estimators=500,max_depth=8,min_samples_split=2,loss=\"ls\",random_state=7)\n",
    "# perform_monthly_regression(gbc)"
   ]
  },
  {
   "cell_type": "markdown",
   "metadata": {},
   "source": [
    "** choosing the best Model  till now which is (ADABOOSTING) so We will pickle it **"
   ],
   "execution_count": null,
   "outputs": []
  },
  {
   "cell_type": "code",
   "execution_count": 43,
   "metadata": {},
   "outputs": [],
   "source": [
    "# with open('./D_Tree_regressor.pickle', 'wb') as f:\n",
    "#     pickle.dump(regressor, f)"
   ]
  },
  {
   "cell_type": "markdown",
   "metadata": {},
   "source": [
    "**Testing the pickled model**"
   ],
   "execution_count": null,
   "outputs": []
  },
  {
   "cell_type": "code",
   "execution_count": 44,
   "metadata": {},
   "outputs": [
    {
     "output_type": "stream",
     "name": "stdout",
     "text": "1 month predection MAE 20.15745856353591\n1 month predection MAPE 9.335876733048204\nLast quarter year MAPE 5.586039107542428\nhalf year MAPE 3.7240260716949525\n"
    }
   ],
   "source": [
    "with open('./D_Tree_regressor.pickle', 'rb') as f:\n",
    "  reg = pickle.load(f)\n",
    "month=perform_monthly_regression(reg)"
   ]
  },
  {
   "cell_type": "code",
   "execution_count": 45,
   "metadata": {},
   "outputs": [
    {
     "output_type": "stream",
     "name": "stdout",
     "text": "1 week predection MAE 67.01388888888889\n1 week predection MAPE 41.572943485682536\n2 weeks predection MAPE 38.95491496693732\n"
    }
   ],
   "source": [
    "week=perform_weekly_regression(reg)"
   ]
  },
  {
   "cell_type": "code",
   "execution_count": 46,
   "metadata": {},
   "outputs": [],
   "source": [
    "# week=perform_weekly_regression(reg)\n",
    "# month[0].iloc[0:60]"
   ]
  },
  {
   "cell_type": "code",
   "execution_count": 47,
   "metadata": {},
   "outputs": [],
   "source": [
    "week[0].to_csv(\"pred_SKU_one_week_D_Tree.csv\",encoding='utf-8-sig')\n",
    "month[0].to_csv(\"pred_SKU_one_month_D_Tree.csv\",encoding='utf-8-sig')\n",
    "# tm[0].to_csv(\"pred_one_month_decision_tree.csv\",encoding='utf-8-sig')\n",
    "# half_year.to_csv(\"pred_half_year_ada.csv\",encoding='utf-8-sig')"
   ]
  },
  {
   "cell_type": "code",
   "execution_count": null,
   "metadata": {},
   "outputs": [],
   "source": []
  }
 ]
}