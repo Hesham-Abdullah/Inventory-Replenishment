{
 "nbformat": 4,
 "nbformat_minor": 2,
 "metadata": {
  "language_info": {
   "name": "python",
   "codemirror_mode": {
    "name": "ipython",
    "version": 3
   },
   "version": "3.7.3-final"
  },
  "orig_nbformat": 2,
  "file_extension": ".py",
  "mimetype": "text/x-python",
  "name": "python",
  "npconvert_exporter": "python",
  "pygments_lexer": "ipython3",
  "version": 3,
  "kernelspec": {
   "name": "python3",
   "display_name": "Python 3"
  }
 },
 "cells": [
  {
   "cell_type": "code",
   "execution_count": 80,
   "metadata": {},
   "outputs": [],
   "source": [
    "import pandas as pd\n",
    "import numpy as np\n",
    "import matplotlib.pyplot as plt\n",
    "from sklearn.ensemble import RandomForestRegressor\n",
    "from sklearn.model_selection import train_test_split\n",
    "from sklearn.metrics import mean_absolute_error\n",
    "from sklearn.preprocessing import OneHotEncoder\n",
    ""
   ]
  },
  {
   "cell_type": "code",
   "execution_count": 81,
   "metadata": {},
   "outputs": [
    {
     "output_type": "execute_result",
     "data": {
      "text/plain": "                                 Service Name  Count  Month  Year\n0                             Athens Protocol     16      1  2016\n1             Clear Lens Exchange (CLE / RLE)      1      1  2016\n2                   Combined Phaco Vitrectomy     40      1  2016\n3                 Corneal Cross Linking (CXL)     15      1  2016\n4  Deep Anterior Lamellar Keratoplasty (DALK)      2      1  2016",
      "text/html": "<div>\n<style scoped>\n    .dataframe tbody tr th:only-of-type {\n        vertical-align: middle;\n    }\n\n    .dataframe tbody tr th {\n        vertical-align: top;\n    }\n\n    .dataframe thead th {\n        text-align: right;\n    }\n</style>\n<table border=\"1\" class=\"dataframe\">\n  <thead>\n    <tr style=\"text-align: right;\">\n      <th></th>\n      <th>Service Name</th>\n      <th>Count</th>\n      <th>Month</th>\n      <th>Year</th>\n    </tr>\n  </thead>\n  <tbody>\n    <tr>\n      <th>0</th>\n      <td>Athens Protocol</td>\n      <td>16</td>\n      <td>1</td>\n      <td>2016</td>\n    </tr>\n    <tr>\n      <th>1</th>\n      <td>Clear Lens Exchange (CLE / RLE)</td>\n      <td>1</td>\n      <td>1</td>\n      <td>2016</td>\n    </tr>\n    <tr>\n      <th>2</th>\n      <td>Combined Phaco Vitrectomy</td>\n      <td>40</td>\n      <td>1</td>\n      <td>2016</td>\n    </tr>\n    <tr>\n      <th>3</th>\n      <td>Corneal Cross Linking (CXL)</td>\n      <td>15</td>\n      <td>1</td>\n      <td>2016</td>\n    </tr>\n    <tr>\n      <th>4</th>\n      <td>Deep Anterior Lamellar Keratoplasty (DALK)</td>\n      <td>2</td>\n      <td>1</td>\n      <td>2016</td>\n    </tr>\n  </tbody>\n</table>\n</div>"
     },
     "metadata": {},
     "execution_count": 81
    }
   ],
   "source": [
    "# data=pd.read_csv(\"training_data.csv\",usecols=[\"Service Name\",\"Month\",\"Count\"])\n",
    "data=pd.read_csv(\"Monthly_Training_Data.csv\",usecols=[\"Service Name\",\"Month\",\"Year\",\"Count\"])\n",
    "data.head()"
   ]
  },
  {
   "cell_type": "code",
   "execution_count": 82,
   "metadata": {},
   "outputs": [],
   "source": [
    "ServiceNames = {name : idx for idx, name in enumerate(data['Service Name'].unique())}\n",
    "ServiceIndex= {idx : name for idx, name in enumerate(data['Service Name'].unique())}"
   ]
  },
  {
   "cell_type": "code",
   "execution_count": 83,
   "metadata": {},
   "outputs": [
    {
     "output_type": "execute_result",
     "data": {
      "text/plain": "   Service Name  Count  Month  Year\n0             0     16      1  2016\n1             1      1      1  2016\n2             2     40      1  2016\n3             3     15      1  2016\n4             4      2      1  2016",
      "text/html": "<div>\n<style scoped>\n    .dataframe tbody tr th:only-of-type {\n        vertical-align: middle;\n    }\n\n    .dataframe tbody tr th {\n        vertical-align: top;\n    }\n\n    .dataframe thead th {\n        text-align: right;\n    }\n</style>\n<table border=\"1\" class=\"dataframe\">\n  <thead>\n    <tr style=\"text-align: right;\">\n      <th></th>\n      <th>Service Name</th>\n      <th>Count</th>\n      <th>Month</th>\n      <th>Year</th>\n    </tr>\n  </thead>\n  <tbody>\n    <tr>\n      <th>0</th>\n      <td>0</td>\n      <td>16</td>\n      <td>1</td>\n      <td>2016</td>\n    </tr>\n    <tr>\n      <th>1</th>\n      <td>1</td>\n      <td>1</td>\n      <td>1</td>\n      <td>2016</td>\n    </tr>\n    <tr>\n      <th>2</th>\n      <td>2</td>\n      <td>40</td>\n      <td>1</td>\n      <td>2016</td>\n    </tr>\n    <tr>\n      <th>3</th>\n      <td>3</td>\n      <td>15</td>\n      <td>1</td>\n      <td>2016</td>\n    </tr>\n    <tr>\n      <th>4</th>\n      <td>4</td>\n      <td>2</td>\n      <td>1</td>\n      <td>2016</td>\n    </tr>\n  </tbody>\n</table>\n</div>"
     },
     "metadata": {},
     "execution_count": 83
    }
   ],
   "source": [
    "processed_data = data.copy()\n",
    "processed_data['Service Name']=processed_data['Service Name'].map(ServiceNames)\n",
    "processed_data.head()"
   ]
  },
  {
   "cell_type": "code",
   "execution_count": 84,
   "metadata": {},
   "outputs": [
    {
     "output_type": "execute_result",
     "data": {
      "text/plain": "array([ 0,  1,  2,  3,  4,  5,  6,  7,  8,  9, 10, 11, 12, 13, 14, 15, 16,\n       17, 18, 19, 20, 21, 22, 23, 24, 25, 26, 27, 28, 29, 30, 31, 32, 33,\n       34, 35, 36, 37, 38, 39, 40], dtype=int64)"
     },
     "metadata": {},
     "execution_count": 84
    }
   ],
   "source": [
    "processed_data['Service Name'].unique()"
   ]
  },
  {
   "cell_type": "code",
   "execution_count": 85,
   "metadata": {},
   "outputs": [],
   "source": [
    "X=processed_data.drop([\"Count\"],axis=1)\n",
    "y=processed_data[\"Count\"]\n",
    ""
   ]
  },
  {
   "cell_type": "code",
   "execution_count": 86,
   "metadata": {},
   "outputs": [],
   "source": [
    "X_train, X_test, y_train, y_test=train_test_split(X,y,test_size=0.2,random_state=7)"
   ]
  },
  {
   "cell_type": "code",
   "execution_count": 87,
   "metadata": {},
   "outputs": [],
   "source": [
    "regressor = RandomForestRegressor(n_estimators = 100, random_state = 7)"
   ]
  },
  {
   "cell_type": "code",
   "execution_count": 88,
   "metadata": {},
   "outputs": [
    {
     "output_type": "execute_result",
     "data": {
      "text/plain": "RandomForestRegressor(bootstrap=True, criterion='mse', max_depth=None,\n           max_features='auto', max_leaf_nodes=None,\n           min_impurity_decrease=0.0, min_impurity_split=None,\n           min_samples_leaf=1, min_samples_split=2,\n           min_weight_fraction_leaf=0.0, n_estimators=100, n_jobs=None,\n           oob_score=False, random_state=7, verbose=0, warm_start=False)"
     },
     "metadata": {},
     "execution_count": 88
    }
   ],
   "source": [
    "regressor.fit(X_train, y_train) "
   ]
  },
  {
   "cell_type": "code",
   "execution_count": 89,
   "metadata": {},
   "outputs": [
    {
     "output_type": "stream",
     "name": "stdout",
     "text": "Model Accuracy: 0.9941753920376575\n"
    }
   ],
   "source": [
    "print(f'Model Accuracy: {regressor.score(X_train, y_train)}')"
   ]
  },
  {
   "cell_type": "code",
   "execution_count": 90,
   "metadata": {},
   "outputs": [
    {
     "output_type": "stream",
     "name": "stdout",
     "text": "16.027426900584793\n"
    }
   ],
   "source": [
    "pred = regressor.predict(X_test)\n",
    "err = mean_absolute_error(pred, y_test)\n",
    "print(err)"
   ]
  },
  {
   "cell_type": "code",
   "execution_count": 91,
   "metadata": {},
   "outputs": [
    {
     "output_type": "execute_result",
     "data": {
      "text/plain": "2"
     },
     "metadata": {},
     "execution_count": 91
    }
   ],
   "source": [
    "y_test.iloc[-1]"
   ]
  },
  {
   "cell_type": "code",
   "execution_count": 92,
   "metadata": {},
   "outputs": [
    {
     "output_type": "execute_result",
     "data": {
      "text/plain": "8.36"
     },
     "metadata": {},
     "execution_count": 92
    }
   ],
   "source": [
    "pred[-1]"
   ]
  },
  {
   "cell_type": "code",
   "execution_count": 97,
   "metadata": {},
   "outputs": [
    {
     "output_type": "execute_result",
     "data": {
      "text/plain": "     Service Name  Count  Month  Year\n806             0     16     11  2018\n807             2     50     11  2018\n808             3     24     11  2018\n809             4     15     11  2018\n810             5     30     11  2018",
      "text/html": "<div>\n<style scoped>\n    .dataframe tbody tr th:only-of-type {\n        vertical-align: middle;\n    }\n\n    .dataframe tbody tr th {\n        vertical-align: top;\n    }\n\n    .dataframe thead th {\n        text-align: right;\n    }\n</style>\n<table border=\"1\" class=\"dataframe\">\n  <thead>\n    <tr style=\"text-align: right;\">\n      <th></th>\n      <th>Service Name</th>\n      <th>Count</th>\n      <th>Month</th>\n      <th>Year</th>\n    </tr>\n  </thead>\n  <tbody>\n    <tr>\n      <th>806</th>\n      <td>0</td>\n      <td>16</td>\n      <td>11</td>\n      <td>2018</td>\n    </tr>\n    <tr>\n      <th>807</th>\n      <td>2</td>\n      <td>50</td>\n      <td>11</td>\n      <td>2018</td>\n    </tr>\n    <tr>\n      <th>808</th>\n      <td>3</td>\n      <td>24</td>\n      <td>11</td>\n      <td>2018</td>\n    </tr>\n    <tr>\n      <th>809</th>\n      <td>4</td>\n      <td>15</td>\n      <td>11</td>\n      <td>2018</td>\n    </tr>\n    <tr>\n      <th>810</th>\n      <td>5</td>\n      <td>30</td>\n      <td>11</td>\n      <td>2018</td>\n    </tr>\n  </tbody>\n</table>\n</div>"
     },
     "metadata": {},
     "execution_count": 97
    }
   ],
   "source": [
    "last_2_month_data= processed_data[(processed_data.Year==2018) & ((processed_data.Month==12) | (processed_data.Month==11)) ]\n",
    "last_2_month_data.head()"
   ]
  },
  {
   "cell_type": "code",
   "execution_count": 98,
   "metadata": {},
   "outputs": [
    {
     "output_type": "stream",
     "name": "stdout",
     "text": "61.634347826086945\n"
    }
   ],
   "source": [
    "y_last_2_month_data=last_2_month_data[\"Service Name\"]\n",
    "X_last_2_month_data=last_2_month_data.drop([\"Service Name\"],axis=1)\n",
    "\n",
    "pred = regressor.predict(X_last_2_month_data)\n",
    "err = mean_absolute_error(pred,y_last_2_month_data)\n",
    "print(err)"
   ]
  },
  {
   "cell_type": "code",
   "execution_count": 105,
   "metadata": {},
   "outputs": [
    {
     "output_type": "execute_result",
     "data": {
      "text/plain": "    Service Name  Count  Month  Year  predicted_count\n806          NaN     16     11  2018             6.71\n807          NaN     50     11  2018             3.12\n808          NaN     24     11  2018             7.92\n809          NaN     15     11  2018             3.86\n810          NaN     30     11  2018             8.50\n811          NaN     13     11  2018           348.80\n812          NaN     14     11  2018            76.46\n813          NaN    368     11  2018             3.12\n814          NaN      5     11  2018            32.12\n815          NaN      7     11  2018            12.57\n816          NaN    176     11  2018             3.12\n817          NaN    344     11  2018             3.12\n818          NaN     64     11  2018             3.12\n819          NaN      8     11  2018           364.90\n820          NaN     34     11  2018             3.41\n821          NaN   1076     11  2018             3.12\n822          NaN     43     11  2018             3.12\n823          NaN     38     11  2018             3.12\n824          NaN     44     11  2018             3.12\n825          NaN     27     11  2018            35.90\n826          NaN     29     11  2018             8.54\n827          NaN     33     11  2018             3.24\n828          NaN     18     12  2018           921.46\n829          NaN     49     12  2018             2.09\n830          NaN      1     12  2018             2.15\n831          NaN     15     12  2018             3.34\n832          NaN     12     12  2018           168.89\n833          NaN     27     12  2018            32.23\n834          NaN      8     12  2018           361.77\n835          NaN     12     12  2018           168.89\n836          NaN    360     12  2018             2.09\n837          NaN      1     12  2018             2.15\n838          NaN      6     12  2018            15.07\n839          NaN    166     12  2018             2.09\n840          NaN    371     12  2018             2.09\n841          NaN     66     12  2018             2.09\n842          NaN      1     12  2018             2.15\n843          NaN      3     12  2018            17.22\n844          NaN     37     12  2018             2.09\n845          NaN    864     12  2018             2.09\n846          NaN     21     12  2018            29.53\n847          NaN     32     12  2018             2.28\n848          NaN     44     12  2018             2.09\n849          NaN     29     12  2018             7.39\n850          NaN     34     12  2018             2.32\n851          NaN     35     12  2018             2.23",
      "text/html": "<div>\n<style scoped>\n    .dataframe tbody tr th:only-of-type {\n        vertical-align: middle;\n    }\n\n    .dataframe tbody tr th {\n        vertical-align: top;\n    }\n\n    .dataframe thead th {\n        text-align: right;\n    }\n</style>\n<table border=\"1\" class=\"dataframe\">\n  <thead>\n    <tr style=\"text-align: right;\">\n      <th></th>\n      <th>Service Name</th>\n      <th>Count</th>\n      <th>Month</th>\n      <th>Year</th>\n      <th>predicted_count</th>\n    </tr>\n  </thead>\n  <tbody>\n    <tr>\n      <th>806</th>\n      <td>NaN</td>\n      <td>16</td>\n      <td>11</td>\n      <td>2018</td>\n      <td>6.71</td>\n    </tr>\n    <tr>\n      <th>807</th>\n      <td>NaN</td>\n      <td>50</td>\n      <td>11</td>\n      <td>2018</td>\n      <td>3.12</td>\n    </tr>\n    <tr>\n      <th>808</th>\n      <td>NaN</td>\n      <td>24</td>\n      <td>11</td>\n      <td>2018</td>\n      <td>7.92</td>\n    </tr>\n    <tr>\n      <th>809</th>\n      <td>NaN</td>\n      <td>15</td>\n      <td>11</td>\n      <td>2018</td>\n      <td>3.86</td>\n    </tr>\n    <tr>\n      <th>810</th>\n      <td>NaN</td>\n      <td>30</td>\n      <td>11</td>\n      <td>2018</td>\n      <td>8.50</td>\n    </tr>\n    <tr>\n      <th>811</th>\n      <td>NaN</td>\n      <td>13</td>\n      <td>11</td>\n      <td>2018</td>\n      <td>348.80</td>\n    </tr>\n    <tr>\n      <th>812</th>\n      <td>NaN</td>\n      <td>14</td>\n      <td>11</td>\n      <td>2018</td>\n      <td>76.46</td>\n    </tr>\n    <tr>\n      <th>813</th>\n      <td>NaN</td>\n      <td>368</td>\n      <td>11</td>\n      <td>2018</td>\n      <td>3.12</td>\n    </tr>\n    <tr>\n      <th>814</th>\n      <td>NaN</td>\n      <td>5</td>\n      <td>11</td>\n      <td>2018</td>\n      <td>32.12</td>\n    </tr>\n    <tr>\n      <th>815</th>\n      <td>NaN</td>\n      <td>7</td>\n      <td>11</td>\n      <td>2018</td>\n      <td>12.57</td>\n    </tr>\n    <tr>\n      <th>816</th>\n      <td>NaN</td>\n      <td>176</td>\n      <td>11</td>\n      <td>2018</td>\n      <td>3.12</td>\n    </tr>\n    <tr>\n      <th>817</th>\n      <td>NaN</td>\n      <td>344</td>\n      <td>11</td>\n      <td>2018</td>\n      <td>3.12</td>\n    </tr>\n    <tr>\n      <th>818</th>\n      <td>NaN</td>\n      <td>64</td>\n      <td>11</td>\n      <td>2018</td>\n      <td>3.12</td>\n    </tr>\n    <tr>\n      <th>819</th>\n      <td>NaN</td>\n      <td>8</td>\n      <td>11</td>\n      <td>2018</td>\n      <td>364.90</td>\n    </tr>\n    <tr>\n      <th>820</th>\n      <td>NaN</td>\n      <td>34</td>\n      <td>11</td>\n      <td>2018</td>\n      <td>3.41</td>\n    </tr>\n    <tr>\n      <th>821</th>\n      <td>NaN</td>\n      <td>1076</td>\n      <td>11</td>\n      <td>2018</td>\n      <td>3.12</td>\n    </tr>\n    <tr>\n      <th>822</th>\n      <td>NaN</td>\n      <td>43</td>\n      <td>11</td>\n      <td>2018</td>\n      <td>3.12</td>\n    </tr>\n    <tr>\n      <th>823</th>\n      <td>NaN</td>\n      <td>38</td>\n      <td>11</td>\n      <td>2018</td>\n      <td>3.12</td>\n    </tr>\n    <tr>\n      <th>824</th>\n      <td>NaN</td>\n      <td>44</td>\n      <td>11</td>\n      <td>2018</td>\n      <td>3.12</td>\n    </tr>\n    <tr>\n      <th>825</th>\n      <td>NaN</td>\n      <td>27</td>\n      <td>11</td>\n      <td>2018</td>\n      <td>35.90</td>\n    </tr>\n    <tr>\n      <th>826</th>\n      <td>NaN</td>\n      <td>29</td>\n      <td>11</td>\n      <td>2018</td>\n      <td>8.54</td>\n    </tr>\n    <tr>\n      <th>827</th>\n      <td>NaN</td>\n      <td>33</td>\n      <td>11</td>\n      <td>2018</td>\n      <td>3.24</td>\n    </tr>\n    <tr>\n      <th>828</th>\n      <td>NaN</td>\n      <td>18</td>\n      <td>12</td>\n      <td>2018</td>\n      <td>921.46</td>\n    </tr>\n    <tr>\n      <th>829</th>\n      <td>NaN</td>\n      <td>49</td>\n      <td>12</td>\n      <td>2018</td>\n      <td>2.09</td>\n    </tr>\n    <tr>\n      <th>830</th>\n      <td>NaN</td>\n      <td>1</td>\n      <td>12</td>\n      <td>2018</td>\n      <td>2.15</td>\n    </tr>\n    <tr>\n      <th>831</th>\n      <td>NaN</td>\n      <td>15</td>\n      <td>12</td>\n      <td>2018</td>\n      <td>3.34</td>\n    </tr>\n    <tr>\n      <th>832</th>\n      <td>NaN</td>\n      <td>12</td>\n      <td>12</td>\n      <td>2018</td>\n      <td>168.89</td>\n    </tr>\n    <tr>\n      <th>833</th>\n      <td>NaN</td>\n      <td>27</td>\n      <td>12</td>\n      <td>2018</td>\n      <td>32.23</td>\n    </tr>\n    <tr>\n      <th>834</th>\n      <td>NaN</td>\n      <td>8</td>\n      <td>12</td>\n      <td>2018</td>\n      <td>361.77</td>\n    </tr>\n    <tr>\n      <th>835</th>\n      <td>NaN</td>\n      <td>12</td>\n      <td>12</td>\n      <td>2018</td>\n      <td>168.89</td>\n    </tr>\n    <tr>\n      <th>836</th>\n      <td>NaN</td>\n      <td>360</td>\n      <td>12</td>\n      <td>2018</td>\n      <td>2.09</td>\n    </tr>\n    <tr>\n      <th>837</th>\n      <td>NaN</td>\n      <td>1</td>\n      <td>12</td>\n      <td>2018</td>\n      <td>2.15</td>\n    </tr>\n    <tr>\n      <th>838</th>\n      <td>NaN</td>\n      <td>6</td>\n      <td>12</td>\n      <td>2018</td>\n      <td>15.07</td>\n    </tr>\n    <tr>\n      <th>839</th>\n      <td>NaN</td>\n      <td>166</td>\n      <td>12</td>\n      <td>2018</td>\n      <td>2.09</td>\n    </tr>\n    <tr>\n      <th>840</th>\n      <td>NaN</td>\n      <td>371</td>\n      <td>12</td>\n      <td>2018</td>\n      <td>2.09</td>\n    </tr>\n    <tr>\n      <th>841</th>\n      <td>NaN</td>\n      <td>66</td>\n      <td>12</td>\n      <td>2018</td>\n      <td>2.09</td>\n    </tr>\n    <tr>\n      <th>842</th>\n      <td>NaN</td>\n      <td>1</td>\n      <td>12</td>\n      <td>2018</td>\n      <td>2.15</td>\n    </tr>\n    <tr>\n      <th>843</th>\n      <td>NaN</td>\n      <td>3</td>\n      <td>12</td>\n      <td>2018</td>\n      <td>17.22</td>\n    </tr>\n    <tr>\n      <th>844</th>\n      <td>NaN</td>\n      <td>37</td>\n      <td>12</td>\n      <td>2018</td>\n      <td>2.09</td>\n    </tr>\n    <tr>\n      <th>845</th>\n      <td>NaN</td>\n      <td>864</td>\n      <td>12</td>\n      <td>2018</td>\n      <td>2.09</td>\n    </tr>\n    <tr>\n      <th>846</th>\n      <td>NaN</td>\n      <td>21</td>\n      <td>12</td>\n      <td>2018</td>\n      <td>29.53</td>\n    </tr>\n    <tr>\n      <th>847</th>\n      <td>NaN</td>\n      <td>32</td>\n      <td>12</td>\n      <td>2018</td>\n      <td>2.28</td>\n    </tr>\n    <tr>\n      <th>848</th>\n      <td>NaN</td>\n      <td>44</td>\n      <td>12</td>\n      <td>2018</td>\n      <td>2.09</td>\n    </tr>\n    <tr>\n      <th>849</th>\n      <td>NaN</td>\n      <td>29</td>\n      <td>12</td>\n      <td>2018</td>\n      <td>7.39</td>\n    </tr>\n    <tr>\n      <th>850</th>\n      <td>NaN</td>\n      <td>34</td>\n      <td>12</td>\n      <td>2018</td>\n      <td>2.32</td>\n    </tr>\n    <tr>\n      <th>851</th>\n      <td>NaN</td>\n      <td>35</td>\n      <td>12</td>\n      <td>2018</td>\n      <td>2.23</td>\n    </tr>\n  </tbody>\n</table>\n</div>"
     },
     "metadata": {},
     "execution_count": 105
    }
   ],
   "source": [
    "last_2_month_data[\"predicted_count\"]=pred\n",
    "last_2_month_data[\"Service Name\"]=last_2_month_data[\"Service Name\"].map(ServiceIndex)\n",
    "last_2_month_data\n",
    "# last_2_month_data.to_csv(\"last_two_months_predictions_1.csv\",encoding='utf-8-sig')\n",
    ""
   ]
  },
  {
   "cell_type": "code",
   "execution_count": null,
   "metadata": {},
   "outputs": [],
   "source": []
  }
 ]
}