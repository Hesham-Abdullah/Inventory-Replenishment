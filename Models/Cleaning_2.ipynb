{
 "nbformat": 4,
 "nbformat_minor": 2,
 "metadata": {
  "language_info": {
   "name": "python",
   "codemirror_mode": {
    "name": "ipython",
    "version": 3
   },
   "version": "3.7.3-final"
  },
  "orig_nbformat": 2,
  "file_extension": ".py",
  "mimetype": "text/x-python",
  "name": "python",
  "npconvert_exporter": "python",
  "pygments_lexer": "ipython3",
  "version": 3,
  "kernelspec": {
   "name": "python3",
   "display_name": "Python 3"
  }
 },
 "cells": [
  {
   "cell_type": "code",
   "execution_count": 1,
   "metadata": {},
   "outputs": [],
   "source": [
    "import pandas as pd\n",
    "import numpy as np\n",
    "import matplotlib.pyplot as plt\n",
    "import datetime"
   ]
  },
  {
   "cell_type": "code",
   "execution_count": 2,
   "metadata": {},
   "outputs": [],
   "source": [
    "prices = pd.read_excel('110619-_POC3_Prices_Annualy__Key_.xlsx')#, encoding='utf-8-sig')\n",
    "invCount = pd.read_excel('22052019-_POC3_Inventory_Count.xlsx')\n",
    "\n",
    "consumption = pd.read_excel('POC3_Consumption_Rates.xlsx',usecols=[\"Name\",\"Name_AR\",\"Average\"])#, encoding='utf-8-sig'))\n",
    "# operations = pd.read_excel('210919- POC2 (Com Name).xlsx')#, encodingServiceDate='uService Namet-sig')"
   ]
  },
  {
   "cell_type": "markdown",
   "metadata": {},
   "source": [
    "** 1- Handling the Annual Prices table first **"
   ]
  },
  {
   "cell_type": "code",
   "execution_count": 3,
   "metadata": {},
   "outputs": [
    {
     "output_type": "execute_result",
     "data": {
      "text/plain": "   year                      Name  Avg Unit Price\n0  2016  حقنة أيليا (1/3 أمبول )      1211.113333\n1  2016             كانيولا لليزك       26.720000\n2  2016                ميكروباك\\t        6.026667\n3  2016       قسطرة نيلتون مقاس12        0.566667\n4  2016                    فيسكوت       83.228718",
      "text/html": "<div>\n<style scoped>\n    .dataframe tbody tr th:only-of-type {\n        vertical-align: middle;\n    }\n\n    .dataframe tbody tr th {\n        vertical-align: top;\n    }\n\n    .dataframe thead th {\n        text-align: right;\n    }\n</style>\n<table border=\"1\" class=\"dataframe\">\n  <thead>\n    <tr style=\"text-align: right;\">\n      <th></th>\n      <th>year</th>\n      <th>Name</th>\n      <th>Avg Unit Price</th>\n    </tr>\n  </thead>\n  <tbody>\n    <tr>\n      <th>0</th>\n      <td>2016</td>\n      <td>حقنة أيليا (1/3 أمبول )</td>\n      <td>1211.113333</td>\n    </tr>\n    <tr>\n      <th>1</th>\n      <td>2016</td>\n      <td>كانيولا لليزك</td>\n      <td>26.720000</td>\n    </tr>\n    <tr>\n      <th>2</th>\n      <td>2016</td>\n      <td>ميكروباك\\t</td>\n      <td>6.026667</td>\n    </tr>\n    <tr>\n      <th>3</th>\n      <td>2016</td>\n      <td>قسطرة نيلتون مقاس12</td>\n      <td>0.566667</td>\n    </tr>\n    <tr>\n      <th>4</th>\n      <td>2016</td>\n      <td>فيسكوت</td>\n      <td>83.228718</td>\n    </tr>\n  </tbody>\n</table>\n</div>"
     },
     "metadata": {},
     "execution_count": 3
    }
   ],
   "source": [
    "prices.rename(columns={\"No column name\":\"year\"},inplace=True)\n",
    "prices.head()"
   ]
  },
  {
   "cell_type": "markdown",
   "metadata": {},
   "source": [
    "* Making sure that there is no missing SKUs in 2018"
   ]
  },
  {
   "cell_type": "code",
   "execution_count": 4,
   "metadata": {},
   "outputs": [
    {
     "output_type": "stream",
     "name": "stdout",
     "text": "1028\n1117\n1302\n"
    }
   ],
   "source": [
    "print(len(prices[prices.year==2016]))\n",
    "print(len(prices[prices.year==2017]))\n",
    "print(len(prices[prices.year==2018]))"
   ]
  },
  {
   "cell_type": "markdown",
   "metadata": {},
   "source": [
    "* Filtering prices to the prices of 2018 only"
   ]
  },
  {
   "cell_type": "code",
   "execution_count": 5,
   "metadata": {},
   "outputs": [],
   "source": [
    "filt_prices=prices[prices.year==2018].reset_index(drop=True)"
   ]
  },
  {
   "cell_type": "code",
   "execution_count": 6,
   "metadata": {},
   "outputs": [
    {
     "output_type": "execute_result",
     "data": {
      "text/plain": "year              0\nName              0\nAvg Unit Price    0\ndtype: int64"
     },
     "metadata": {},
     "execution_count": 6
    }
   ],
   "source": [
    "filt_prices.isna().sum()"
   ]
  },
  {
   "cell_type": "code",
   "execution_count": 7,
   "metadata": {},
   "outputs": [
    {
     "output_type": "execute_result",
     "data": {
      "text/plain": "0"
     },
     "metadata": {},
     "execution_count": 7
    }
   ],
   "source": [
    "filt_prices.duplicated().sum()"
   ]
  },
  {
   "cell_type": "code",
   "execution_count": 8,
   "metadata": {},
   "outputs": [
    {
     "output_type": "execute_result",
     "data": {
      "text/plain": "   year                      Name  Avg Unit Price\n0  2018  حقنة أيليا (1/3 أمبول )      1301.666667\n1  2018           زجاجة Revonto\\t     1164.000000\n2  2018          صوديوم بيكربونات       28.333333\n3  2018             كانيولا لليزك       46.666667\n4  2018                ميكروباك\\t        8.486667",
      "text/html": "<div>\n<style scoped>\n    .dataframe tbody tr th:only-of-type {\n        vertical-align: middle;\n    }\n\n    .dataframe tbody tr th {\n        vertical-align: top;\n    }\n\n    .dataframe thead th {\n        text-align: right;\n    }\n</style>\n<table border=\"1\" class=\"dataframe\">\n  <thead>\n    <tr style=\"text-align: right;\">\n      <th></th>\n      <th>year</th>\n      <th>Name</th>\n      <th>Avg Unit Price</th>\n    </tr>\n  </thead>\n  <tbody>\n    <tr>\n      <th>0</th>\n      <td>2018</td>\n      <td>حقنة أيليا (1/3 أمبول )</td>\n      <td>1301.666667</td>\n    </tr>\n    <tr>\n      <th>1</th>\n      <td>2018</td>\n      <td>زجاجة Revonto\\t</td>\n      <td>1164.000000</td>\n    </tr>\n    <tr>\n      <th>2</th>\n      <td>2018</td>\n      <td>صوديوم بيكربونات</td>\n      <td>28.333333</td>\n    </tr>\n    <tr>\n      <th>3</th>\n      <td>2018</td>\n      <td>كانيولا لليزك</td>\n      <td>46.666667</td>\n    </tr>\n    <tr>\n      <th>4</th>\n      <td>2018</td>\n      <td>ميكروباك\\t</td>\n      <td>8.486667</td>\n    </tr>\n  </tbody>\n</table>\n</div>"
     },
     "metadata": {},
     "execution_count": 8
    }
   ],
   "source": [
    "filt_prices.head()"
   ]
  },
  {
   "cell_type": "markdown",
   "metadata": {},
   "source": [
    "** 2- Handling the Consumption Rate table  **"
   ]
  },
  {
   "cell_type": "code",
   "execution_count": 9,
   "metadata": {},
   "outputs": [],
   "source": [
    "consumption.Average=consumption.Average.apply(lambda x:round(x))"
   ]
  },
  {
   "cell_type": "code",
   "execution_count": 10,
   "metadata": {},
   "outputs": [
    {
     "output_type": "execute_result",
     "data": {
      "text/plain": "                               Name             Name_AR  Average\n0  أمبولات ببترليف (بديل الزانتاك )    D.C.R. - العينين        1\n1                  أمبولات فولتارين    D.C.R. - العينين        1\n2                     بخاخة أوترفين    D.C.R. - العينين        1\n3                         جلوكوز 5%  D.C.R. - عين واحدة        1\n4  أمبولات ببترليف (بديل الزانتاك )  D.C.R. - عين واحدة        1",
      "text/html": "<div>\n<style scoped>\n    .dataframe tbody tr th:only-of-type {\n        vertical-align: middle;\n    }\n\n    .dataframe tbody tr th {\n        vertical-align: top;\n    }\n\n    .dataframe thead th {\n        text-align: right;\n    }\n</style>\n<table border=\"1\" class=\"dataframe\">\n  <thead>\n    <tr style=\"text-align: right;\">\n      <th></th>\n      <th>Name</th>\n      <th>Name_AR</th>\n      <th>Average</th>\n    </tr>\n  </thead>\n  <tbody>\n    <tr>\n      <th>0</th>\n      <td>أمبولات ببترليف (بديل الزانتاك )</td>\n      <td>D.C.R. - العينين</td>\n      <td>1</td>\n    </tr>\n    <tr>\n      <th>1</th>\n      <td>أمبولات فولتارين</td>\n      <td>D.C.R. - العينين</td>\n      <td>1</td>\n    </tr>\n    <tr>\n      <th>2</th>\n      <td>بخاخة أوترفين</td>\n      <td>D.C.R. - العينين</td>\n      <td>1</td>\n    </tr>\n    <tr>\n      <th>3</th>\n      <td>جلوكوز 5%</td>\n      <td>D.C.R. - عين واحدة</td>\n      <td>1</td>\n    </tr>\n    <tr>\n      <th>4</th>\n      <td>أمبولات ببترليف (بديل الزانتاك )</td>\n      <td>D.C.R. - عين واحدة</td>\n      <td>1</td>\n    </tr>\n  </tbody>\n</table>\n</div>"
     },
     "metadata": {},
     "execution_count": 10
    }
   ],
   "source": [
    "consumption.head()"
   ]
  },
  {
   "cell_type": "markdown",
   "metadata": {},
   "source": [
    "** 3- Handling the Inventory Count table **"
   ]
  },
  {
   "cell_type": "code",
   "execution_count": 11,
   "metadata": {},
   "outputs": [],
   "source": [
    "invCount = invCount[['EntryDate','(No column name)','(No column name).1','LastCount']]\n",
    "invCount.columns = ['EntryDate','Class','type','Count']"
   ]
  },
  {
   "cell_type": "code",
   "execution_count": 12,
   "metadata": {},
   "outputs": [
    {
     "output_type": "execute_result",
     "data": {
      "text/plain": "   EntryDate                      Class            type  Count\n0 2018-01-06               مشارط جراحية     كيراتوم 1.2   4956\n1 2018-01-06               مشارط جراحية      كيراتوم2.2   5976\n2 2018-01-06               مشارط جراحية      كيراتوم2.4    510\n3 2018-01-06                     سرنجات       سرنجة 5سم   7800\n4 2018-01-06  جوانتيات معقمه وغير معقمه  جوانتى أنسيل 7   5780",
      "text/html": "<div>\n<style scoped>\n    .dataframe tbody tr th:only-of-type {\n        vertical-align: middle;\n    }\n\n    .dataframe tbody tr th {\n        vertical-align: top;\n    }\n\n    .dataframe thead th {\n        text-align: right;\n    }\n</style>\n<table border=\"1\" class=\"dataframe\">\n  <thead>\n    <tr style=\"text-align: right;\">\n      <th></th>\n      <th>EntryDate</th>\n      <th>Class</th>\n      <th>type</th>\n      <th>Count</th>\n    </tr>\n  </thead>\n  <tbody>\n    <tr>\n      <th>0</th>\n      <td>2018-01-06</td>\n      <td>مشارط جراحية</td>\n      <td>كيراتوم 1.2</td>\n      <td>4956</td>\n    </tr>\n    <tr>\n      <th>1</th>\n      <td>2018-01-06</td>\n      <td>مشارط جراحية</td>\n      <td>كيراتوم2.2</td>\n      <td>5976</td>\n    </tr>\n    <tr>\n      <th>2</th>\n      <td>2018-01-06</td>\n      <td>مشارط جراحية</td>\n      <td>كيراتوم2.4</td>\n      <td>510</td>\n    </tr>\n    <tr>\n      <th>3</th>\n      <td>2018-01-06</td>\n      <td>سرنجات</td>\n      <td>سرنجة 5سم</td>\n      <td>7800</td>\n    </tr>\n    <tr>\n      <th>4</th>\n      <td>2018-01-06</td>\n      <td>جوانتيات معقمه وغير معقمه</td>\n      <td>جوانتى أنسيل 7</td>\n      <td>5780</td>\n    </tr>\n  </tbody>\n</table>\n</div>"
     },
     "metadata": {},
     "execution_count": 12
    }
   ],
   "source": [
    "invCount.head()"
   ]
  },
  {
   "cell_type": "code",
   "execution_count": null,
   "metadata": {},
   "outputs": [],
   "source": []
  }
 ]
}